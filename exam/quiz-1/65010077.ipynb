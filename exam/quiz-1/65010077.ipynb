{
 "cells": [
  {
   "cell_type": "code",
   "execution_count": 1,
   "id": "905d39c6",
   "metadata": {},
   "outputs": [
    {
     "name": "stdout",
     "output_type": "stream",
     "text": [
      "Collecting numpy\n",
      "  Using cached numpy-2.3.1-cp313-cp313-macosx_14_0_arm64.whl.metadata (62 kB)\n",
      "Using cached numpy-2.3.1-cp313-cp313-macosx_14_0_arm64.whl (5.1 MB)\n",
      "Installing collected packages: numpy\n",
      "Successfully installed numpy-2.3.1\n"
     ]
    }
   ],
   "source": [
    "!pip install numpy"
   ]
  },
  {
   "cell_type": "code",
   "execution_count": 4,
   "id": "7e1a1cf3",
   "metadata": {},
   "outputs": [],
   "source": [
    "import numpy as np"
   ]
  },
  {
   "cell_type": "code",
   "execution_count": 5,
   "id": "3c82d94f",
   "metadata": {},
   "outputs": [],
   "source": [
    "my_list = [3,2,1,4]\n",
    "arr = np.array(my_list)"
   ]
  },
  {
   "cell_type": "code",
   "execution_count": 8,
   "id": "22d0ed0d",
   "metadata": {},
   "outputs": [
    {
     "data": {
      "text/plain": [
       "array([[3, 2],\n",
       "       [1, 4]])"
      ]
     },
     "execution_count": 8,
     "metadata": {},
     "output_type": "execute_result"
    }
   ],
   "source": [
    "reshaped = arr.reshape(2,2)\n",
    "reshaped"
   ]
  },
  {
   "cell_type": "code",
   "execution_count": 11,
   "id": "c8825a4e",
   "metadata": {},
   "outputs": [
    {
     "data": {
      "text/plain": [
       "array([[-4.83404327,  1.33611484],\n",
       "       [ 1.73495193,  5.13091528]])"
      ]
     },
     "execution_count": 11,
     "metadata": {},
     "output_type": "execute_result"
    }
   ],
   "source": [
    "arr = np.array([[-2, 1], [1, 3]]) * 2\n",
    "random_arr = np.random.rand(2,2)\n",
    "\n",
    "problem_2 = arr - random_arr\n",
    "problem_2"
   ]
  },
  {
   "cell_type": "code",
   "execution_count": 15,
   "id": "5a08b4f3",
   "metadata": {},
   "outputs": [
    {
     "data": {
      "text/plain": [
       "array([-4.83404327,  1.33611484, -4.83404327,  1.33611484])"
      ]
     },
     "execution_count": 15,
     "metadata": {},
     "output_type": "execute_result"
    }
   ],
   "source": [
    "slide_arr = problem_2[0,:]\n",
    "\n",
    "output_3 = np.concatenate([slide_arr, slide_arr])\n",
    "output_3"
   ]
  },
  {
   "cell_type": "code",
   "execution_count": 18,
   "id": "4189842f",
   "metadata": {},
   "outputs": [
    {
     "data": {
      "text/plain": [
       "np.float64(-6.458836945539572)"
      ]
     },
     "execution_count": 18,
     "metadata": {},
     "output_type": "execute_result"
    }
   ],
   "source": [
    "max_value = np.max(output_3)\n",
    "min_v = np.min(output_3)\n",
    "\n",
    "output_4 = max_value * min_v\n",
    "output_4"
   ]
  },
  {
   "cell_type": "code",
   "execution_count": null,
   "id": "0d1a21ff",
   "metadata": {},
   "outputs": [
    {
     "data": {
      "text/plain": [
       "array([[-4.83404327],\n",
       "       [ 1.33611484],\n",
       "       [-4.83404327],\n",
       "       [ 1.33611484],\n",
       "       [-6.45883695]])"
      ]
     },
     "execution_count": 25,
     "metadata": {},
     "output_type": "execute_result"
    }
   ],
   "source": [
    "append_arr = np.append(output_3, output_4)\n",
    "\n",
    "col_vector_expand = np.expand_dims(append_arr, axis=1)\n",
    "\n",
    "col_vector_expand"
   ]
  }
 ],
 "metadata": {
  "kernelspec": {
   "display_name": ".venv",
   "language": "python",
   "name": "python3"
  },
  "language_info": {
   "codemirror_mode": {
    "name": "ipython",
    "version": 3
   },
   "file_extension": ".py",
   "mimetype": "text/x-python",
   "name": "python",
   "nbconvert_exporter": "python",
   "pygments_lexer": "ipython3",
   "version": "3.13.5"
  }
 },
 "nbformat": 4,
 "nbformat_minor": 5
}
