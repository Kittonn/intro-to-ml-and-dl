{
 "cells": [
  {
   "cell_type": "code",
   "execution_count": 1,
   "metadata": {
    "id": "CalXqWRC0chm"
   },
   "outputs": [],
   "source": [
    "# from google.colab import drive\n",
    "# drive.mount('/content/drive')"
   ]
  },
  {
   "cell_type": "code",
   "execution_count": 2,
   "metadata": {
    "colab": {
     "base_uri": "https://localhost:8080/",
     "height": 224
    },
    "executionInfo": {
     "elapsed": 6879,
     "status": "ok",
     "timestamp": 1750830478276,
     "user": {
      "displayName": "Nattawut Chayauam",
      "userId": "02605944594835988637"
     },
     "user_tz": -420
    },
    "id": "H_O3ZQGpczry",
    "outputId": "b09f83ab-7124-47da-da1b-16b2b59f723a"
   },
   "outputs": [
    {
     "name": "stderr",
     "output_type": "stream",
     "text": [
      "/Users/7n100489/Library/CloudStorage/OneDrive-BankofAyudhyaPublicCompanyLimited/Desktop/Workspace/github/intro-to-ml-and-dl/.venv/lib/python3.13/site-packages/tqdm/auto.py:21: TqdmWarning: IProgress not found. Please update jupyter and ipywidgets. See https://ipywidgets.readthedocs.io/en/stable/user_install.html\n",
      "  from .autonotebook import tqdm as notebook_tqdm\n"
     ]
    },
    {
     "name": "stdout",
     "output_type": "stream",
     "text": [
      "['penguins_size.csv', 'penguins_lter.csv']\n"
     ]
    },
    {
     "data": {
      "text/html": [
       "<div>\n",
       "<style scoped>\n",
       "    .dataframe tbody tr th:only-of-type {\n",
       "        vertical-align: middle;\n",
       "    }\n",
       "\n",
       "    .dataframe tbody tr th {\n",
       "        vertical-align: top;\n",
       "    }\n",
       "\n",
       "    .dataframe thead th {\n",
       "        text-align: right;\n",
       "    }\n",
       "</style>\n",
       "<table border=\"1\" class=\"dataframe\">\n",
       "  <thead>\n",
       "    <tr style=\"text-align: right;\">\n",
       "      <th></th>\n",
       "      <th>species</th>\n",
       "      <th>island</th>\n",
       "      <th>culmen_length_mm</th>\n",
       "      <th>culmen_depth_mm</th>\n",
       "      <th>flipper_length_mm</th>\n",
       "      <th>body_mass_g</th>\n",
       "      <th>sex</th>\n",
       "    </tr>\n",
       "  </thead>\n",
       "  <tbody>\n",
       "    <tr>\n",
       "      <th>0</th>\n",
       "      <td>Adelie</td>\n",
       "      <td>Torgersen</td>\n",
       "      <td>39.1</td>\n",
       "      <td>18.7</td>\n",
       "      <td>181.0</td>\n",
       "      <td>3750.0</td>\n",
       "      <td>MALE</td>\n",
       "    </tr>\n",
       "    <tr>\n",
       "      <th>1</th>\n",
       "      <td>Adelie</td>\n",
       "      <td>Torgersen</td>\n",
       "      <td>39.5</td>\n",
       "      <td>17.4</td>\n",
       "      <td>186.0</td>\n",
       "      <td>3800.0</td>\n",
       "      <td>FEMALE</td>\n",
       "    </tr>\n",
       "    <tr>\n",
       "      <th>2</th>\n",
       "      <td>Adelie</td>\n",
       "      <td>Torgersen</td>\n",
       "      <td>40.3</td>\n",
       "      <td>18.0</td>\n",
       "      <td>195.0</td>\n",
       "      <td>3250.0</td>\n",
       "      <td>FEMALE</td>\n",
       "    </tr>\n",
       "    <tr>\n",
       "      <th>3</th>\n",
       "      <td>Adelie</td>\n",
       "      <td>Torgersen</td>\n",
       "      <td>NaN</td>\n",
       "      <td>NaN</td>\n",
       "      <td>NaN</td>\n",
       "      <td>NaN</td>\n",
       "      <td>NaN</td>\n",
       "    </tr>\n",
       "    <tr>\n",
       "      <th>4</th>\n",
       "      <td>Adelie</td>\n",
       "      <td>Torgersen</td>\n",
       "      <td>36.7</td>\n",
       "      <td>19.3</td>\n",
       "      <td>193.0</td>\n",
       "      <td>3450.0</td>\n",
       "      <td>FEMALE</td>\n",
       "    </tr>\n",
       "  </tbody>\n",
       "</table>\n",
       "</div>"
      ],
      "text/plain": [
       "  species     island  culmen_length_mm  culmen_depth_mm  flipper_length_mm  \\\n",
       "0  Adelie  Torgersen              39.1             18.7              181.0   \n",
       "1  Adelie  Torgersen              39.5             17.4              186.0   \n",
       "2  Adelie  Torgersen              40.3             18.0              195.0   \n",
       "3  Adelie  Torgersen               NaN              NaN                NaN   \n",
       "4  Adelie  Torgersen              36.7             19.3              193.0   \n",
       "\n",
       "   body_mass_g     sex  \n",
       "0       3750.0    MALE  \n",
       "1       3800.0  FEMALE  \n",
       "2       3250.0  FEMALE  \n",
       "3          NaN     NaN  \n",
       "4       3450.0  FEMALE  "
      ]
     },
     "execution_count": 2,
     "metadata": {},
     "output_type": "execute_result"
    }
   ],
   "source": [
    "import kagglehub\n",
    "import os\n",
    "import pandas as pd\n",
    "\n",
    "# Download latest version\n",
    "path = kagglehub.dataset_download(\"parulpandey/palmer-archipelago-antarctica-penguin-data\")\n",
    "folder_path = path\n",
    "print(os.listdir(folder_path))\n",
    "\n",
    "csv_path = os.path.join(folder_path, 'penguins_size.csv') # เลือก penguins_size.csv\n",
    "penguins = pd.read_csv(csv_path)\n",
    "\n",
    "penguins.head()"
   ]
  },
  {
   "cell_type": "code",
   "execution_count": 3,
   "metadata": {
    "colab": {
     "base_uri": "https://localhost:8080/"
    },
    "executionInfo": {
     "elapsed": 24,
     "status": "ok",
     "timestamp": 1750830478307,
     "user": {
      "displayName": "Nattawut Chayauam",
      "userId": "02605944594835988637"
     },
     "user_tz": -420
    },
    "id": "bZlPlOvgrbiS",
    "outputId": "bab90887-89f3-4488-b73e-e3e2a3e8a39a"
   },
   "outputs": [
    {
     "name": "stdout",
     "output_type": "stream",
     "text": [
      "species              False\n",
      "island               False\n",
      "culmen_length_mm      True\n",
      "culmen_depth_mm       True\n",
      "flipper_length_mm     True\n",
      "body_mass_g           True\n",
      "sex                   True\n",
      "dtype: bool\n",
      "--------------------------------------------------\n",
      "species               0\n",
      "island                0\n",
      "culmen_length_mm      2\n",
      "culmen_depth_mm       2\n",
      "flipper_length_mm     2\n",
      "body_mass_g           2\n",
      "sex                  10\n",
      "dtype: int64\n"
     ]
    }
   ],
   "source": [
    "print(f\"{penguins.isna().any()}\")\n",
    "# .isna() returns a DataFrame of the same shape as 'penguins',\n",
    "# with True where the values are NaN (missing) and False otherwise.\n",
    "# .any() applied on this DataFrame defaults to axis=0 (column-wise),\n",
    "# so it returns a Series of booleans indicating whether each column\n",
    "# contains at least one NaN value.\n",
    "# The print will show which columns have any missing values.\n",
    "\n",
    "print(\"-\"*50)\n",
    "# Prints a line of 50 dashes as a separator for better readability.\n",
    "\n",
    "print(f\"{penguins.isna().sum()}\")\n",
    "# .sum() here sums up the True values in each column (since True == 1),\n",
    "# so it counts the total number of NaN values per column.\n",
    "# The print will show how many missing values each column has.\n"
   ]
  },
  {
   "cell_type": "code",
   "execution_count": 4,
   "metadata": {
    "colab": {
     "base_uri": "https://localhost:8080/",
     "height": 380
    },
    "executionInfo": {
     "elapsed": 245,
     "status": "ok",
     "timestamp": 1750830478554,
     "user": {
      "displayName": "Nattawut Chayauam",
      "userId": "02605944594835988637"
     },
     "user_tz": -420
    },
    "id": "rrxaJVpEqkRe",
    "outputId": "1c7a8d58-c0a3-43b4-f280-15d39b9d582e"
   },
   "outputs": [
    {
     "name": "stdout",
     "output_type": "stream",
     "text": [
      "(344, 7)\n"
     ]
    },
    {
     "data": {
      "text/html": [
       "<div>\n",
       "<style scoped>\n",
       "    .dataframe tbody tr th:only-of-type {\n",
       "        vertical-align: middle;\n",
       "    }\n",
       "\n",
       "    .dataframe tbody tr th {\n",
       "        vertical-align: top;\n",
       "    }\n",
       "\n",
       "    .dataframe thead th {\n",
       "        text-align: right;\n",
       "    }\n",
       "</style>\n",
       "<table border=\"1\" class=\"dataframe\">\n",
       "  <thead>\n",
       "    <tr style=\"text-align: right;\">\n",
       "      <th></th>\n",
       "      <th>species</th>\n",
       "      <th>island</th>\n",
       "      <th>culmen_length_mm</th>\n",
       "      <th>culmen_depth_mm</th>\n",
       "      <th>flipper_length_mm</th>\n",
       "      <th>body_mass_g</th>\n",
       "      <th>sex</th>\n",
       "    </tr>\n",
       "  </thead>\n",
       "  <tbody>\n",
       "    <tr>\n",
       "      <th>3</th>\n",
       "      <td>Adelie</td>\n",
       "      <td>Torgersen</td>\n",
       "      <td>NaN</td>\n",
       "      <td>NaN</td>\n",
       "      <td>NaN</td>\n",
       "      <td>NaN</td>\n",
       "      <td>NaN</td>\n",
       "    </tr>\n",
       "    <tr>\n",
       "      <th>8</th>\n",
       "      <td>Adelie</td>\n",
       "      <td>Torgersen</td>\n",
       "      <td>34.1</td>\n",
       "      <td>18.1</td>\n",
       "      <td>193.0</td>\n",
       "      <td>3475.0</td>\n",
       "      <td>NaN</td>\n",
       "    </tr>\n",
       "    <tr>\n",
       "      <th>9</th>\n",
       "      <td>Adelie</td>\n",
       "      <td>Torgersen</td>\n",
       "      <td>42.0</td>\n",
       "      <td>20.2</td>\n",
       "      <td>190.0</td>\n",
       "      <td>4250.0</td>\n",
       "      <td>NaN</td>\n",
       "    </tr>\n",
       "    <tr>\n",
       "      <th>10</th>\n",
       "      <td>Adelie</td>\n",
       "      <td>Torgersen</td>\n",
       "      <td>37.8</td>\n",
       "      <td>17.1</td>\n",
       "      <td>186.0</td>\n",
       "      <td>3300.0</td>\n",
       "      <td>NaN</td>\n",
       "    </tr>\n",
       "    <tr>\n",
       "      <th>11</th>\n",
       "      <td>Adelie</td>\n",
       "      <td>Torgersen</td>\n",
       "      <td>37.8</td>\n",
       "      <td>17.3</td>\n",
       "      <td>180.0</td>\n",
       "      <td>3700.0</td>\n",
       "      <td>NaN</td>\n",
       "    </tr>\n",
       "    <tr>\n",
       "      <th>47</th>\n",
       "      <td>Adelie</td>\n",
       "      <td>Dream</td>\n",
       "      <td>37.5</td>\n",
       "      <td>18.9</td>\n",
       "      <td>179.0</td>\n",
       "      <td>2975.0</td>\n",
       "      <td>NaN</td>\n",
       "    </tr>\n",
       "    <tr>\n",
       "      <th>246</th>\n",
       "      <td>Gentoo</td>\n",
       "      <td>Biscoe</td>\n",
       "      <td>44.5</td>\n",
       "      <td>14.3</td>\n",
       "      <td>216.0</td>\n",
       "      <td>4100.0</td>\n",
       "      <td>NaN</td>\n",
       "    </tr>\n",
       "    <tr>\n",
       "      <th>286</th>\n",
       "      <td>Gentoo</td>\n",
       "      <td>Biscoe</td>\n",
       "      <td>46.2</td>\n",
       "      <td>14.4</td>\n",
       "      <td>214.0</td>\n",
       "      <td>4650.0</td>\n",
       "      <td>NaN</td>\n",
       "    </tr>\n",
       "    <tr>\n",
       "      <th>324</th>\n",
       "      <td>Gentoo</td>\n",
       "      <td>Biscoe</td>\n",
       "      <td>47.3</td>\n",
       "      <td>13.8</td>\n",
       "      <td>216.0</td>\n",
       "      <td>4725.0</td>\n",
       "      <td>NaN</td>\n",
       "    </tr>\n",
       "    <tr>\n",
       "      <th>339</th>\n",
       "      <td>Gentoo</td>\n",
       "      <td>Biscoe</td>\n",
       "      <td>NaN</td>\n",
       "      <td>NaN</td>\n",
       "      <td>NaN</td>\n",
       "      <td>NaN</td>\n",
       "      <td>NaN</td>\n",
       "    </tr>\n",
       "  </tbody>\n",
       "</table>\n",
       "</div>"
      ],
      "text/plain": [
       "    species     island  culmen_length_mm  culmen_depth_mm  flipper_length_mm  \\\n",
       "3    Adelie  Torgersen               NaN              NaN                NaN   \n",
       "8    Adelie  Torgersen              34.1             18.1              193.0   \n",
       "9    Adelie  Torgersen              42.0             20.2              190.0   \n",
       "10   Adelie  Torgersen              37.8             17.1              186.0   \n",
       "11   Adelie  Torgersen              37.8             17.3              180.0   \n",
       "47   Adelie      Dream              37.5             18.9              179.0   \n",
       "246  Gentoo     Biscoe              44.5             14.3              216.0   \n",
       "286  Gentoo     Biscoe              46.2             14.4              214.0   \n",
       "324  Gentoo     Biscoe              47.3             13.8              216.0   \n",
       "339  Gentoo     Biscoe               NaN              NaN                NaN   \n",
       "\n",
       "     body_mass_g  sex  \n",
       "3            NaN  NaN  \n",
       "8         3475.0  NaN  \n",
       "9         4250.0  NaN  \n",
       "10        3300.0  NaN  \n",
       "11        3700.0  NaN  \n",
       "47        2975.0  NaN  \n",
       "246       4100.0  NaN  \n",
       "286       4650.0  NaN  \n",
       "324       4725.0  NaN  \n",
       "339          NaN  NaN  "
      ]
     },
     "execution_count": 4,
     "metadata": {},
     "output_type": "execute_result"
    }
   ],
   "source": [
    "print(penguins.shape)\n",
    "penguins[penguins.isna().any(axis=1)]"
   ]
  },
  {
   "cell_type": "code",
   "execution_count": 5,
   "metadata": {
    "colab": {
     "base_uri": "https://localhost:8080/"
    },
    "executionInfo": {
     "elapsed": 89,
     "status": "ok",
     "timestamp": 1750830478650,
     "user": {
      "displayName": "Nattawut Chayauam",
      "userId": "02605944594835988637"
     },
     "user_tz": -420
    },
    "id": "KHO0pzDYspYc",
    "outputId": "18683184-9b98-4236-eb33-1bd0adc67236"
   },
   "outputs": [
    {
     "name": "stdout",
     "output_type": "stream",
     "text": [
      "(334, 7)\n"
     ]
    }
   ],
   "source": [
    "penguins_clean = penguins.copy()\n",
    "penguins_clean.dropna(inplace=True)\n",
    "print(penguins_clean.shape)"
   ]
  },
  {
   "cell_type": "markdown",
   "metadata": {
    "id": "oconCNKCen0E"
   },
   "source": [
    "Load a Kaggle dataset with data about **penguin species**, eliminating by default the instances that contain missing values (for this, we use the *dropna()* function from *pandas* library)."
   ]
  },
  {
   "cell_type": "code",
   "execution_count": 6,
   "metadata": {
    "colab": {
     "base_uri": "https://localhost:8080/"
    },
    "executionInfo": {
     "elapsed": 113,
     "status": "ok",
     "timestamp": 1750830478766,
     "user": {
      "displayName": "Nattawut Chayauam",
      "userId": "02605944594835988637"
     },
     "user_tz": -420
    },
    "id": "rci6qI6GMnql",
    "outputId": "d7b01aba-ca51-4623-9d39-0e9ca20b0c7c"
   },
   "outputs": [
    {
     "data": {
      "text/plain": [
       "array(['Adelie', 'Chinstrap', 'Gentoo'], dtype=object)"
      ]
     },
     "execution_count": 6,
     "metadata": {},
     "output_type": "execute_result"
    }
   ],
   "source": [
    "# @title Target is to classifiy the species (3 classes) of penguins from feature artibutes\n",
    "penguins_clean['species'].unique()"
   ]
  },
  {
   "cell_type": "code",
   "execution_count": 7,
   "metadata": {
    "colab": {
     "base_uri": "https://localhost:8080/"
    },
    "executionInfo": {
     "elapsed": 5,
     "status": "ok",
     "timestamp": 1750830478773,
     "user": {
      "displayName": "Nattawut Chayauam",
      "userId": "02605944594835988637"
     },
     "user_tz": -420
    },
    "id": "YSPI2IR2Nh49",
    "outputId": "7b00f54a-3bc0-4d4e-d4a6-446f8e04a400"
   },
   "outputs": [
    {
     "name": "stdout",
     "output_type": "stream",
     "text": [
      "<class 'pandas.core.frame.DataFrame'>\n",
      "Index: 334 entries, 0 to 343\n",
      "Data columns (total 7 columns):\n",
      " #   Column             Non-Null Count  Dtype  \n",
      "---  ------             --------------  -----  \n",
      " 0   species            334 non-null    object \n",
      " 1   island             334 non-null    object \n",
      " 2   culmen_length_mm   334 non-null    float64\n",
      " 3   culmen_depth_mm    334 non-null    float64\n",
      " 4   flipper_length_mm  334 non-null    float64\n",
      " 5   body_mass_g        334 non-null    float64\n",
      " 6   sex                334 non-null    object \n",
      "dtypes: float64(4), object(3)\n",
      "memory usage: 20.9+ KB\n"
     ]
    }
   ],
   "source": [
    "penguins_clean.info()"
   ]
  },
  {
   "cell_type": "code",
   "execution_count": 8,
   "metadata": {
    "id": "fvXCnK4__hIu"
   },
   "outputs": [],
   "source": [
    "from sklearn.model_selection import train_test_split\n",
    "from sklearn.metrics import accuracy_score"
   ]
  },
  {
   "cell_type": "markdown",
   "metadata": {
    "id": "UrzNoaYlgD_a"
   },
   "source": [
    "Data preparation, training and predictions. We will use **k=3**, so that each prediction will be based in the three closest training (labeled) instances to each test instance."
   ]
  },
  {
   "cell_type": "code",
   "execution_count": 9,
   "metadata": {
    "id": "-Zew6XgeAIAL"
   },
   "outputs": [],
   "source": [
    "# Separate predictor variables from class label\n",
    "# For predictor attributes, we only keep numerical and exclude categorical ones\n",
    "X = penguins_clean.select_dtypes(exclude=['object'])\n",
    "y = penguins_clean.species\n",
    "\n",
    "# Create training and test sets\n",
    "X_train, X_test, y_train, y_test = train_test_split(X, y, test_size=.3, random_state=4)"
   ]
  },
  {
   "cell_type": "code",
   "execution_count": 10,
   "metadata": {
    "id": "sNxybcFc6UbZ"
   },
   "outputs": [],
   "source": [
    "# @title k-Nearest Neighbors from scratch\n",
    "import math\n",
    "import numpy as np\n",
    "\n",
    "# Euclidean distance\n",
    "def euclidean(x, y):\n",
    "  return np.sqrt(np.sum((x-y)**2))\n",
    "\n",
    "# Locate the most similar neighbors\n",
    "def get_neighbors(test_row, X_train, y_train, n_neighbors):\n",
    "\tdistances = list()\n",
    "\tfor (train_row, train_class) in zip(X_train, y_train):\n",
    "\t\tdist = euclidean(train_row, test_row)\n",
    "\t\tdistances.append((dist, train_class))\n",
    "\n",
    "  # Ex : [(0.75, 'A'), (1.41, 'A'), (2.23, 'B')]\n",
    "\tdistances.sort(key=lambda tple: tple[0])\n",
    "\tneighbors = list()\n",
    "\tfor i in range(n_neighbors):\n",
    "\t\tneighbors.append(distances[i][1])\n",
    "\n",
    "  # Ex : ['A', 'A', 'B']\n",
    "\treturn neighbors\n",
    "\n",
    "# Get the modal (most common) value in the passed array\n",
    "# arr = ['A', 'A', 'B']\n",
    "# vals = ['A', 'B'], cnts = [2, 1]\n",
    "def mode(arr):\n",
    "  vals, cnts = np.unique(arr, return_counts=True)\n",
    "  mode = vals[cnts.argmax()]\n",
    "\n",
    "  return mode\n",
    "\n",
    "# Make predictions\n",
    "def predict(X_test, X_train, y_train, n_neighbors):\n",
    "  preds = list()\n",
    "  for test_row in X_test:\n",
    "    neighbors = get_neighbors(test_row, X_train, y_train, n_neighbors)\n",
    "    modal = mode(neighbors)\n",
    "    preds.append(modal)\n",
    "\n",
    "  return np.array(preds)\n",
    "\n",
    "# Get accuracy\n",
    "def accuracy(y_test, preds):\n",
    "  return (preds == y_test).mean()"
   ]
  },
  {
   "cell_type": "code",
   "execution_count": 11,
   "metadata": {
    "colab": {
     "base_uri": "https://localhost:8080/"
    },
    "executionInfo": {
     "elapsed": 822,
     "status": "ok",
     "timestamp": 1750830481814,
     "user": {
      "displayName": "Nattawut Chayauam",
      "userId": "02605944594835988637"
     },
     "user_tz": -420
    },
    "id": "8qfzStGitkXu",
    "outputId": "a9db944e-acbf-4b47-eed2-c69b9c132d57"
   },
   "outputs": [
    {
     "data": {
      "text/plain": [
       "np.float64(0.7920792079207921)"
      ]
     },
     "execution_count": 11,
     "metadata": {},
     "output_type": "execute_result"
    }
   ],
   "source": [
    "knn_predict_scratch = predict(X_test.values, X_train.values, y_train.values, n_neighbors=1)\n",
    "accuracy(knn_predict_scratch, y_test)"
   ]
  },
  {
   "cell_type": "code",
   "execution_count": 12,
   "metadata": {
    "colab": {
     "base_uri": "https://localhost:8080/"
    },
    "executionInfo": {
     "elapsed": 349,
     "status": "ok",
     "timestamp": 1750830482169,
     "user": {
      "displayName": "Nattawut Chayauam",
      "userId": "02605944594835988637"
     },
     "user_tz": -420
    },
    "id": "f6S3XMrG7L6i",
    "outputId": "ca8a8fcf-47e3-4fbe-ee11-dba4c8ee1771"
   },
   "outputs": [
    {
     "data": {
      "text/plain": [
       "np.float64(0.7524752475247525)"
      ]
     },
     "execution_count": 12,
     "metadata": {},
     "output_type": "execute_result"
    }
   ],
   "source": [
    "knn_predict_scratch = predict(X_test.values, X_train.values, y_train.values, n_neighbors=2)\n",
    "accuracy(knn_predict_scratch, y_test)"
   ]
  },
  {
   "cell_type": "code",
   "execution_count": 13,
   "metadata": {
    "colab": {
     "base_uri": "https://localhost:8080/"
    },
    "executionInfo": {
     "elapsed": 402,
     "status": "ok",
     "timestamp": 1750830482573,
     "user": {
      "displayName": "Nattawut Chayauam",
      "userId": "02605944594835988637"
     },
     "user_tz": -420
    },
    "id": "zxCAUF3m7Lih",
    "outputId": "c2b3d06b-7b73-4514-ba67-fe8316fcaad5"
   },
   "outputs": [
    {
     "data": {
      "text/plain": [
       "np.float64(0.7722772277227723)"
      ]
     },
     "execution_count": 13,
     "metadata": {},
     "output_type": "execute_result"
    }
   ],
   "source": [
    "knn_predict_scratch = predict(X_test.values, X_train.values, y_train.values, n_neighbors=3)\n",
    "accuracy(knn_predict_scratch, y_test)"
   ]
  },
  {
   "cell_type": "code",
   "execution_count": 14,
   "metadata": {
    "colab": {
     "base_uri": "https://localhost:8080/"
    },
    "executionInfo": {
     "elapsed": 486,
     "status": "ok",
     "timestamp": 1750830483061,
     "user": {
      "displayName": "Nattawut Chayauam",
      "userId": "02605944594835988637"
     },
     "user_tz": -420
    },
    "id": "Ubw9FapM6XFB",
    "outputId": "8b690b83-6f5b-428a-8f7f-d4b1a557131f"
   },
   "outputs": [
    {
     "data": {
      "text/plain": [
       "np.float64(0.7722772277227723)"
      ]
     },
     "execution_count": 14,
     "metadata": {},
     "output_type": "execute_result"
    }
   ],
   "source": [
    "knn_predict_scratch = predict(X_test.values, X_train.values, y_train.values, n_neighbors=4)\n",
    "accuracy(knn_predict_scratch, y_test)"
   ]
  },
  {
   "cell_type": "code",
   "execution_count": 15,
   "metadata": {
    "id": "jRmXR-MY69qh"
   },
   "outputs": [],
   "source": [
    "# @title From Scikit-Learn API\n",
    "from sklearn.neighbors import KNeighborsClassifier"
   ]
  },
  {
   "cell_type": "markdown",
   "metadata": {
    "id": "U0WRY4GYiV7k"
   },
   "source": [
    "**DO IT YOURSELF**: Try other settings for \"k\" and observe how this affects the classifier performance."
   ]
  },
  {
   "cell_type": "code",
   "execution_count": 16,
   "metadata": {
    "colab": {
     "base_uri": "https://localhost:8080/"
    },
    "executionInfo": {
     "elapsed": 32,
     "status": "ok",
     "timestamp": 1750830483894,
     "user": {
      "displayName": "Nattawut Chayauam",
      "userId": "02605944594835988637"
     },
     "user_tz": -420
    },
    "id": "gBZE8m3w6b2S",
    "outputId": "ce6c065f-c68d-4f54-9cff-8c2513c7e8ec"
   },
   "outputs": [
    {
     "data": {
      "text/plain": [
       "0.7722772277227723"
      ]
     },
     "execution_count": 16,
     "metadata": {},
     "output_type": "execute_result"
    }
   ],
   "source": [
    "# Initialize a kNN classifier, with hyperparameter 'k=3'\n",
    "knn_n3 = KNeighborsClassifier(n_neighbors=3)\n",
    "\n",
    "# Training the \"model\": this may lead to confusion, because KNN is an instance-based algorithm, not model based.\n",
    "# However, scikit-learn still requires using this method, because the \"model\"\n",
    "# will be defined by the training instances themselves.\n",
    "knn_n3.fit(X_train, y_train)\n",
    "\n",
    "# Making predictions on test data\n",
    "predictions_n3 = knn_n3.predict(X_test)\n",
    "\n",
    "accuracy_score(y_test, predictions_n3)"
   ]
  },
  {
   "cell_type": "code",
   "execution_count": 17,
   "metadata": {
    "colab": {
     "base_uri": "https://localhost:8080/"
    },
    "executionInfo": {
     "elapsed": 50,
     "status": "ok",
     "timestamp": 1750830483946,
     "user": {
      "displayName": "Nattawut Chayauam",
      "userId": "02605944594835988637"
     },
     "user_tz": -420
    },
    "id": "YpB4GgThtose",
    "outputId": "13e3272d-a82b-4f58-ccef-97ff09c75dc2"
   },
   "outputs": [
    {
     "data": {
      "text/plain": [
       "0.7920792079207921"
      ]
     },
     "execution_count": 17,
     "metadata": {},
     "output_type": "execute_result"
    }
   ],
   "source": [
    "# 1 cluster assigned\n",
    "\n",
    "knn_n1 = KNeighborsClassifier(n_neighbors=1)\n",
    "knn_n1.fit(X_train, y_train)\n",
    "predictions_n1 = knn_n1.predict(X_test)\n",
    "\n",
    "accuracy_score(y_test, predictions_n1)"
   ]
  },
  {
   "cell_type": "code",
   "execution_count": 18,
   "metadata": {
    "colab": {
     "base_uri": "https://localhost:8080/"
    },
    "executionInfo": {
     "elapsed": 50,
     "status": "ok",
     "timestamp": 1750830483998,
     "user": {
      "displayName": "Nattawut Chayauam",
      "userId": "02605944594835988637"
     },
     "user_tz": -420
    },
    "id": "LnRvfLt5ZCXr",
    "outputId": "5e4d0711-c572-4070-a9c5-215ee9d5d0dc"
   },
   "outputs": [
    {
     "data": {
      "text/plain": [
       "0.7524752475247525"
      ]
     },
     "execution_count": 18,
     "metadata": {},
     "output_type": "execute_result"
    }
   ],
   "source": [
    "# 2 cluster assigned\n",
    "\n",
    "knn_n2 = KNeighborsClassifier(n_neighbors=2)\n",
    "knn_n2.fit(X_train, y_train)\n",
    "predictions_n2 = knn_n2.predict(X_test)\n",
    "\n",
    "accuracy_score(y_test, predictions_n2)"
   ]
  },
  {
   "cell_type": "code",
   "execution_count": 19,
   "metadata": {
    "colab": {
     "base_uri": "https://localhost:8080/"
    },
    "executionInfo": {
     "elapsed": 51,
     "status": "ok",
     "timestamp": 1750830484055,
     "user": {
      "displayName": "Nattawut Chayauam",
      "userId": "02605944594835988637"
     },
     "user_tz": -420
    },
    "id": "wT6X9QsAaGk0",
    "outputId": "2c6cd161-5767-48e8-93c3-ca39cac7e0cc"
   },
   "outputs": [
    {
     "data": {
      "text/plain": [
       "0.7722772277227723"
      ]
     },
     "execution_count": 19,
     "metadata": {},
     "output_type": "execute_result"
    }
   ],
   "source": [
    "# 4 cluster assigned\n",
    "\n",
    "knn_n4 = KNeighborsClassifier(n_neighbors=4)\n",
    "knn_n4.fit(X_train, y_train)\n",
    "predictions_n4 = knn_n4.predict(X_test)\n",
    "\n",
    "accuracy_score(y_test, predictions_n4)"
   ]
  },
  {
   "cell_type": "markdown",
   "metadata": {
    "id": "9vFswi5R4fQt"
   },
   "source": [
    "How can we find the best k value? We can calculate the accuracy of the prediction for multiple k values and see which is the best."
   ]
  },
  {
   "cell_type": "code",
   "execution_count": 20,
   "metadata": {
    "colab": {
     "base_uri": "https://localhost:8080/"
    },
    "executionInfo": {
     "elapsed": 503,
     "status": "ok",
     "timestamp": 1750830484559,
     "user": {
      "displayName": "Nattawut Chayauam",
      "userId": "02605944594835988637"
     },
     "user_tz": -420
    },
    "id": "Y7vy8lxv7DWi",
    "outputId": "04cc323e-c817-4b89-b0d2-f6bb04170a4f"
   },
   "outputs": [
    {
     "data": {
      "text/plain": [
       "[0.7920792079207921,\n",
       " 0.7524752475247525,\n",
       " 0.7722772277227723,\n",
       " 0.7722772277227723,\n",
       " 0.7227722772277227,\n",
       " 0.7326732673267327,\n",
       " 0.7227722772277227,\n",
       " 0.7623762376237624,\n",
       " 0.7326732673267327,\n",
       " 0.7326732673267327,\n",
       " 0.7623762376237624,\n",
       " 0.7524752475247525,\n",
       " 0.7623762376237624,\n",
       " 0.7524752475247525,\n",
       " 0.7623762376237624,\n",
       " 0.7326732673267327,\n",
       " 0.7128712871287128,\n",
       " 0.7326732673267327,\n",
       " 0.7425742574257426,\n",
       " 0.7425742574257426]"
      ]
     },
     "execution_count": 20,
     "metadata": {},
     "output_type": "execute_result"
    }
   ],
   "source": [
    "nK = 20\n",
    "mean_acc = list()\n",
    "for n in range(1, nK+1):\n",
    "  knn_mul = KNeighborsClassifier(n_neighbors=n)\n",
    "  knn_mul.fit(X_train, y_train)\n",
    "  predictions_mul = knn_mul.predict(X_test)\n",
    "  mean_acc.append(accuracy_score(y_test, predictions_mul))\n",
    "\n",
    "mean_acc"
   ]
  },
  {
   "cell_type": "code",
   "execution_count": 21,
   "metadata": {
    "colab": {
     "base_uri": "https://localhost:8080/",
     "height": 486
    },
    "executionInfo": {
     "elapsed": 777,
     "status": "ok",
     "timestamp": 1750830485348,
     "user": {
      "displayName": "Nattawut Chayauam",
      "userId": "02605944594835988637"
     },
     "user_tz": -420
    },
    "id": "sMk6I5YE8X9y",
    "outputId": "542fd2a9-0cee-4d91-bf4f-ee216ef2a5f7"
   },
   "outputs": [
    {
     "data": {
      "image/png": "[encoded data removed]",
      "text/plain": [
       "<Figure size 640x480 with 1 Axes>"
      ]
     },
     "metadata": {},
     "output_type": "display_data"
    }
   ],
   "source": [
    "import matplotlib.pyplot as plt\n",
    "\n",
    "plt.plot(range(1, nK+1), mean_acc, 'r')\n",
    "plt.xticks(range(1, nK+1), fontsize=10, rotation=45)\n",
    "plt.legend(('Accuracy '))\n",
    "plt.ylabel('Accuracy ')\n",
    "plt.xlabel('Number of Neighbors (K)')\n",
    "plt.tight_layout()\n",
    "plt.show()"
   ]
  },
  {
   "cell_type": "code",
   "execution_count": 22,
   "metadata": {
    "id": "SGjd4LRrsv1p"
   },
   "outputs": [],
   "source": [
    "# @title Visualization (Decision Boundaries for K-Nearest Neighbors)\n",
    "import matplotlib.pyplot as plt\n",
    "from matplotlib.colors import ListedColormap\n",
    "from sklearn.preprocessing import LabelEncoder\n",
    "\n",
    "# For demonstrational purposes, we are going take two features\n",
    "def plot_knn_two_feature_regions(X, y, n_neighbors=3, resolution=0.02):\n",
    "  # setup marker generator and color map\n",
    "  colors = ('orange', 'cornflowerblue', 'lightgreen', 'gray', 'cyan')\n",
    "  cmap = ListedColormap(colors[:len(np.unique(y))])\n",
    "\n",
    "  # Plot the decision boundary. For that, we will assign a color to each\n",
    "  # point in the mesh [x_min, x_max]x[y_min, y_max].\n",
    "  X = X.loc[:, ['culmen_length_mm', 'culmen_depth_mm']]\n",
    "  le = LabelEncoder()\n",
    "  y = le.fit_transform(y) # plot does not accept string labels. We need to transform them into numbers\n",
    "  X_train, X_test, y_train, y_test = train_test_split(X, y, test_size=.3, random_state=4)\n",
    "\n",
    "  x1_min, x1_max = X_test.iloc[:, 0].min() - 1, X_test.iloc[:, 0].max() + 1\n",
    "  x2_min, x2_max = X_test.iloc[:, 1].min() - 1, X_test.iloc[:, 1].max() + 1\n",
    "  xx1, xx2 = np.meshgrid(np.arange(x1_min, x1_max, resolution),\n",
    "                          np.arange(x2_min, x2_max, resolution))\n",
    "  print(f\"Feature 1 {xx1.shape} | Feature 2 {xx2.shape}\")\n",
    "\n",
    "  '''\n",
    "  xx1 = [[1, 2, 3],    → แถวที่ 1: ค่าของ feature 1\n",
    "        [1, 2, 3],     → แถวที่ 2: เหมือนเดิม\n",
    "        [1, 2, 3]]     → ทุกแถว = x-axis เดิมซ้ำ\n",
    "\n",
    "  xx2 = [[10, 10, 10], → คอลัมน์ที่ 1: y = 10 ซ้ำ\n",
    "        [20, 20, 20],\n",
    "        [30, 30, 30]]  → y เพิ่มขึ้นในแต่ละแถว\n",
    "  '''\n",
    "\n",
    "  '''\n",
    "  [(1, 10), (2, 10), (3, 10),\n",
    "  (1, 20), (2, 20), (3, 20),\n",
    "  (1, 30), (2, 30), (3, 30)]\n",
    "\n",
    "  '''\n",
    "\n",
    "  # kNN prediction\n",
    "  knn = KNeighborsClassifier(n_neighbors)\n",
    "  knn.fit(X_train, y_train)\n",
    "  Z = knn.predict(np.array([xx1.ravel(), xx2.ravel()]).T)\n",
    "\n",
    "  # Put the result into a color plot\n",
    "  Z = Z.reshape(xx1.shape)\n",
    "  plt.figure()\n",
    "  plt.pcolormesh(xx1, xx2, Z, cmap=cmap, shading='nearest')\n",
    "  plt.contourf(xx1, xx2, Z, alpha=0.4, cmap=cmap)\n",
    "\n",
    "  # Plot the training points\n",
    "  plt.scatter(X_test.iloc[:, 0],\n",
    "            X_test.iloc[:, 1],\n",
    "            c=y_test,\n",
    "            cmap=cmap,\n",
    "            edgecolor='k',\n",
    "            s=20)\n",
    "\n",
    "  plt.xlim(xx1.min(), xx1.max())\n",
    "  plt.ylim(xx2.min(), xx2.max())\n",
    "  plt.show()\n",
    "\n",
    "  # Predict test set\n",
    "  y_pred = knn.predict(X_test)\n",
    "\n",
    "  # ⬅️ คำนวณ accuracy แล้วแสดงผล\n",
    "  acc = accuracy_score(y_test, y_pred)\n",
    "  print(f\"Accuracy (K = {n_neighbors}) : {acc:.2f}\")"
   ]
  },
  {
   "cell_type": "code",
   "execution_count": 23,
   "metadata": {
    "colab": {
     "base_uri": "https://localhost:8080/",
     "height": 499
    },
    "executionInfo": {
     "elapsed": 45164,
     "status": "ok",
     "timestamp": 1750830530523,
     "user": {
      "displayName": "Nattawut Chayauam",
      "userId": "02605944594835988637"
     },
     "user_tz": -420
    },
    "id": "4dgNoJa4tA1u",
    "outputId": "b942c41f-3a1f-40bb-cf14-bbb3b68ec074"
   },
   "outputs": [
    {
     "name": "stdout",
     "output_type": "stream",
     "text": [
      "Feature 1 (520, 1235) | Feature 2 (520, 1235)\n"
     ]
    },
    {
     "name": "stderr",
     "output_type": "stream",
     "text": [
      "/Users/7n100489/Library/CloudStorage/OneDrive-BankofAyudhyaPublicCompanyLimited/Desktop/Workspace/github/intro-to-ml-and-dl/.venv/lib/python3.13/site-packages/sklearn/utils/validation.py:2749: UserWarning: X does not have valid feature names, but KNeighborsClassifier was fitted with feature names\n",
      "  warnings.warn(\n"
     ]
    },
    {
     "data": {
      "image/png": "[encoded data removed]",
      "text/plain": [
       "<Figure size 640x480 with 1 Axes>"
      ]
     },
     "metadata": {},
     "output_type": "display_data"
    },
    {
     "name": "stdout",
     "output_type": "stream",
     "text": [
      "Accuracy (K = 1) : 0.94\n"
     ]
    }
   ],
   "source": [
    "plot_knn_two_feature_regions(X, y, n_neighbors=1)"
   ]
  },
  {
   "cell_type": "code",
   "execution_count": 24,
   "metadata": {
    "colab": {
     "base_uri": "https://localhost:8080/",
     "height": 499
    },
    "executionInfo": {
     "elapsed": 38816,
     "status": "ok",
     "timestamp": 1750830569335,
     "user": {
      "displayName": "Nattawut Chayauam",
      "userId": "02605944594835988637"
     },
     "user_tz": -420
    },
    "id": "c5uz7PABtCvG",
    "outputId": "586ad17f-cc20-4ed3-dac5-1f3f94460f03"
   },
   "outputs": [
    {
     "name": "stdout",
     "output_type": "stream",
     "text": [
      "Feature 1 (520, 1235) | Feature 2 (520, 1235)\n"
     ]
    },
    {
     "name": "stderr",
     "output_type": "stream",
     "text": [
      "/Users/7n100489/Library/CloudStorage/OneDrive-BankofAyudhyaPublicCompanyLimited/Desktop/Workspace/github/intro-to-ml-and-dl/.venv/lib/python3.13/site-packages/sklearn/utils/validation.py:2749: UserWarning: X does not have valid feature names, but KNeighborsClassifier was fitted with feature names\n",
      "  warnings.warn(\n"
     ]
    },
    {
     "data": {
      "image/png": "[encoded data removed]",
      "text/plain": [
       "<Figure size 640x480 with 1 Axes>"
      ]
     },
     "metadata": {},
     "output_type": "display_data"
    },
    {
     "name": "stdout",
     "output_type": "stream",
     "text": [
      "Accuracy (K = 2) : 0.96\n"
     ]
    }
   ],
   "source": [
    "plot_knn_two_feature_regions(X, y, n_neighbors=2)"
   ]
  },
  {
   "cell_type": "code",
   "execution_count": 25,
   "metadata": {
    "colab": {
     "base_uri": "https://localhost:8080/",
     "height": 499
    },
    "executionInfo": {
     "elapsed": 38778,
     "status": "ok",
     "timestamp": 1750830608108,
     "user": {
      "displayName": "Nattawut Chayauam",
      "userId": "02605944594835988637"
     },
     "user_tz": -420
    },
    "id": "g_GeT6iptBJO",
    "outputId": "a464d916-b493-47e5-9537-6ebac0ff85a0"
   },
   "outputs": [
    {
     "name": "stdout",
     "output_type": "stream",
     "text": [
      "Feature 1 (520, 1235) | Feature 2 (520, 1235)\n"
     ]
    },
    {
     "name": "stderr",
     "output_type": "stream",
     "text": [
      "/Users/7n100489/Library/CloudStorage/OneDrive-BankofAyudhyaPublicCompanyLimited/Desktop/Workspace/github/intro-to-ml-and-dl/.venv/lib/python3.13/site-packages/sklearn/utils/validation.py:2749: UserWarning: X does not have valid feature names, but KNeighborsClassifier was fitted with feature names\n",
      "  warnings.warn(\n"
     ]
    },
    {
     "data": {
      "image/png": "[encoded data removed]",
      "text/plain": [
       "<Figure size 640x480 with 1 Axes>"
      ]
     },
     "metadata": {},
     "output_type": "display_data"
    },
    {
     "name": "stdout",
     "output_type": "stream",
     "text": [
      "Accuracy (K = 3) : 0.97\n"
     ]
    }
   ],
   "source": [
    "plot_knn_two_feature_regions(X, y, n_neighbors=3)"
   ]
  },
  {
   "cell_type": "code",
   "execution_count": 26,
   "metadata": {
    "colab": {
     "base_uri": "https://localhost:8080/",
     "height": 499
    },
    "executionInfo": {
     "elapsed": 38504,
     "status": "ok",
     "timestamp": 1750830646609,
     "user": {
      "displayName": "Nattawut Chayauam",
      "userId": "02605944594835988637"
     },
     "user_tz": -420
    },
    "id": "Xe41yco6tBdG",
    "outputId": "27a1805b-e362-48b3-9caf-595fcf1868c4"
   },
   "outputs": [
    {
     "name": "stdout",
     "output_type": "stream",
     "text": [
      "Feature 1 (520, 1235) | Feature 2 (520, 1235)\n"
     ]
    },
    {
     "name": "stderr",
     "output_type": "stream",
     "text": [
      "/Users/7n100489/Library/CloudStorage/OneDrive-BankofAyudhyaPublicCompanyLimited/Desktop/Workspace/github/intro-to-ml-and-dl/.venv/lib/python3.13/site-packages/sklearn/utils/validation.py:2749: UserWarning: X does not have valid feature names, but KNeighborsClassifier was fitted with feature names\n",
      "  warnings.warn(\n"
     ]
    },
    {
     "data": {
      "image/png": "[encoded data removed]",
      "text/plain": [
       "<Figure size 640x480 with 1 Axes>"
      ]
     },
     "metadata": {},
     "output_type": "display_data"
    },
    {
     "name": "stdout",
     "output_type": "stream",
     "text": [
      "Accuracy (K = 10) : 0.98\n"
     ]
    }
   ],
   "source": [
    "plot_knn_two_feature_regions(X, y, n_neighbors=10)"
   ]
  },
  {
   "cell_type": "markdown",
   "metadata": {
    "id": "KI2Wbytsb3k9"
   },
   "source": [
    "---------\n",
    "# Homework"
   ]
  },
  {
   "cell_type": "markdown",
   "metadata": {
    "id": "q-tMLvk0cgx9"
   },
   "source": [
    "ทำการใช้ kNN algorithm มา predict ข้อมูลใน Apple Quality Dataset ใน column ส่วนข้อมูล Quality (binary classification) แล้วหาผลลัพธ์ ดังนี้\n",
    "  \n",
    "1. ให้สร้าง train set และ test set จาก dataset ที่กำหนด โดยให้ test_size=0.3 และ random_state=42\n",
    "2. ใช้ kNN algorithm โดยกำหนดค่า k ทั้งหมด 30 ค่า (1-30) และทำการ log accuracy ของแต่ละ k แสดงในรูปแบบของ line chart พร้อมทั้งระบุว่าค่า k ค่าใดที่ทำให้ model มี accuracy ที่สูงที่สุด (เลือก feature ทั้งหมด ยกเว้น A_id)\n",
    "\n",
    "3. ทำการสร้าง Decision Boundaries โดยใช้ค่า k จากเลขท้ายของเลขประจำตัวนักศึกษา Ex 65010005 (k = 5),  65010030 (k = 10) โดยมีเงื่อนไขคือ\n",
    "  - เลือก feature 2 feature ที่จะทำให้ค่า accuracy สูงที่สุด โดยเลือกจาก ['Size', 'Weight', 'Sweetness', 'Crunchiness', 'Juiciness',\n",
    "       'Ripeness', 'Acidity']\n",
    "  - ทำการแสดง Decision Boundaries และ accuracy ที่ได้\n",
    "** guide C(n,r)"
   ]
  },
  {
   "cell_type": "code",
   "execution_count": 27,
   "metadata": {
    "colab": {
     "base_uri": "https://localhost:8080/",
     "height": 276
    },
    "executionInfo": {
     "elapsed": 2285,
     "status": "ok",
     "timestamp": 1750830648895,
     "user": {
      "displayName": "Nattawut Chayauam",
      "userId": "02605944594835988637"
     },
     "user_tz": -420
    },
    "id": "kxK50xaBlWvt",
    "outputId": "37c5f647-4781-4602-903e-fcf5a0fbc41b"
   },
   "outputs": [
    {
     "name": "stdout",
     "output_type": "stream",
     "text": [
      "['apple_quality.csv']\n"
     ]
    },
    {
     "data": {
      "text/html": [
       "<div>\n",
       "<style scoped>\n",
       "    .dataframe tbody tr th:only-of-type {\n",
       "        vertical-align: middle;\n",
       "    }\n",
       "\n",
       "    .dataframe tbody tr th {\n",
       "        vertical-align: top;\n",
       "    }\n",
       "\n",
       "    .dataframe thead th {\n",
       "        text-align: right;\n",
       "    }\n",
       "</style>\n",
       "<table border=\"1\" class=\"dataframe\">\n",
       "  <thead>\n",
       "    <tr style=\"text-align: right;\">\n",
       "      <th></th>\n",
       "      <th>A_id</th>\n",
       "      <th>Size</th>\n",
       "      <th>Weight</th>\n",
       "      <th>Sweetness</th>\n",
       "      <th>Crunchiness</th>\n",
       "      <th>Juiciness</th>\n",
       "      <th>Ripeness</th>\n",
       "      <th>Acidity</th>\n",
       "      <th>Quality</th>\n",
       "    </tr>\n",
       "  </thead>\n",
       "  <tbody>\n",
       "    <tr>\n",
       "      <th>0</th>\n",
       "      <td>0.0</td>\n",
       "      <td>-3.970049</td>\n",
       "      <td>-2.512336</td>\n",
       "      <td>5.346330</td>\n",
       "      <td>-1.012009</td>\n",
       "      <td>1.844900</td>\n",
       "      <td>0.329840</td>\n",
       "      <td>-0.491590483</td>\n",
       "      <td>good</td>\n",
       "    </tr>\n",
       "    <tr>\n",
       "      <th>1</th>\n",
       "      <td>1.0</td>\n",
       "      <td>-1.195217</td>\n",
       "      <td>-2.839257</td>\n",
       "      <td>3.664059</td>\n",
       "      <td>1.588232</td>\n",
       "      <td>0.853286</td>\n",
       "      <td>0.867530</td>\n",
       "      <td>-0.722809367</td>\n",
       "      <td>good</td>\n",
       "    </tr>\n",
       "    <tr>\n",
       "      <th>2</th>\n",
       "      <td>2.0</td>\n",
       "      <td>-0.292024</td>\n",
       "      <td>-1.351282</td>\n",
       "      <td>-1.738429</td>\n",
       "      <td>-0.342616</td>\n",
       "      <td>2.838636</td>\n",
       "      <td>-0.038033</td>\n",
       "      <td>2.621636473</td>\n",
       "      <td>bad</td>\n",
       "    </tr>\n",
       "    <tr>\n",
       "      <th>3</th>\n",
       "      <td>3.0</td>\n",
       "      <td>-0.657196</td>\n",
       "      <td>-2.271627</td>\n",
       "      <td>1.324874</td>\n",
       "      <td>-0.097875</td>\n",
       "      <td>3.637970</td>\n",
       "      <td>-3.413761</td>\n",
       "      <td>0.790723217</td>\n",
       "      <td>good</td>\n",
       "    </tr>\n",
       "    <tr>\n",
       "      <th>4</th>\n",
       "      <td>4.0</td>\n",
       "      <td>1.364217</td>\n",
       "      <td>-1.296612</td>\n",
       "      <td>-0.384658</td>\n",
       "      <td>-0.553006</td>\n",
       "      <td>3.030874</td>\n",
       "      <td>-1.303849</td>\n",
       "      <td>0.501984036</td>\n",
       "      <td>good</td>\n",
       "    </tr>\n",
       "    <tr>\n",
       "      <th>...</th>\n",
       "      <td>...</td>\n",
       "      <td>...</td>\n",
       "      <td>...</td>\n",
       "      <td>...</td>\n",
       "      <td>...</td>\n",
       "      <td>...</td>\n",
       "      <td>...</td>\n",
       "      <td>...</td>\n",
       "      <td>...</td>\n",
       "    </tr>\n",
       "    <tr>\n",
       "      <th>3996</th>\n",
       "      <td>3996.0</td>\n",
       "      <td>-0.293118</td>\n",
       "      <td>1.949253</td>\n",
       "      <td>-0.204020</td>\n",
       "      <td>-0.640196</td>\n",
       "      <td>0.024523</td>\n",
       "      <td>-1.087900</td>\n",
       "      <td>1.854235285</td>\n",
       "      <td>good</td>\n",
       "    </tr>\n",
       "    <tr>\n",
       "      <th>3997</th>\n",
       "      <td>3997.0</td>\n",
       "      <td>-2.634515</td>\n",
       "      <td>-2.138247</td>\n",
       "      <td>-2.440461</td>\n",
       "      <td>0.657223</td>\n",
       "      <td>2.199709</td>\n",
       "      <td>4.763859</td>\n",
       "      <td>-1.334611391</td>\n",
       "      <td>bad</td>\n",
       "    </tr>\n",
       "    <tr>\n",
       "      <th>3998</th>\n",
       "      <td>3998.0</td>\n",
       "      <td>-4.008004</td>\n",
       "      <td>-1.779337</td>\n",
       "      <td>2.366397</td>\n",
       "      <td>-0.200329</td>\n",
       "      <td>2.161435</td>\n",
       "      <td>0.214488</td>\n",
       "      <td>-2.229719806</td>\n",
       "      <td>good</td>\n",
       "    </tr>\n",
       "    <tr>\n",
       "      <th>3999</th>\n",
       "      <td>3999.0</td>\n",
       "      <td>0.278540</td>\n",
       "      <td>-1.715505</td>\n",
       "      <td>0.121217</td>\n",
       "      <td>-1.154075</td>\n",
       "      <td>1.266677</td>\n",
       "      <td>-0.776571</td>\n",
       "      <td>1.599796456</td>\n",
       "      <td>good</td>\n",
       "    </tr>\n",
       "    <tr>\n",
       "      <th>4000</th>\n",
       "      <td>NaN</td>\n",
       "      <td>NaN</td>\n",
       "      <td>NaN</td>\n",
       "      <td>NaN</td>\n",
       "      <td>NaN</td>\n",
       "      <td>NaN</td>\n",
       "      <td>NaN</td>\n",
       "      <td>Created_by_Nidula_Elgiriyewithana</td>\n",
       "      <td>NaN</td>\n",
       "    </tr>\n",
       "  </tbody>\n",
       "</table>\n",
       "<p>4001 rows × 9 columns</p>\n",
       "</div>"
      ],
      "text/plain": [
       "        A_id      Size    Weight  Sweetness  Crunchiness  Juiciness  Ripeness  \\\n",
       "0        0.0 -3.970049 -2.512336   5.346330    -1.012009   1.844900  0.329840   \n",
       "1        1.0 -1.195217 -2.839257   3.664059     1.588232   0.853286  0.867530   \n",
       "2        2.0 -0.292024 -1.351282  -1.738429    -0.342616   2.838636 -0.038033   \n",
       "3        3.0 -0.657196 -2.271627   1.324874    -0.097875   3.637970 -3.413761   \n",
       "4        4.0  1.364217 -1.296612  -0.384658    -0.553006   3.030874 -1.303849   \n",
       "...      ...       ...       ...        ...          ...        ...       ...   \n",
       "3996  3996.0 -0.293118  1.949253  -0.204020    -0.640196   0.024523 -1.087900   \n",
       "3997  3997.0 -2.634515 -2.138247  -2.440461     0.657223   2.199709  4.763859   \n",
       "3998  3998.0 -4.008004 -1.779337   2.366397    -0.200329   2.161435  0.214488   \n",
       "3999  3999.0  0.278540 -1.715505   0.121217    -1.154075   1.266677 -0.776571   \n",
       "4000     NaN       NaN       NaN        NaN          NaN        NaN       NaN   \n",
       "\n",
       "                                Acidity Quality  \n",
       "0                          -0.491590483    good  \n",
       "1                          -0.722809367    good  \n",
       "2                           2.621636473     bad  \n",
       "3                           0.790723217    good  \n",
       "4                           0.501984036    good  \n",
       "...                                 ...     ...  \n",
       "3996                        1.854235285    good  \n",
       "3997                       -1.334611391     bad  \n",
       "3998                       -2.229719806    good  \n",
       "3999                        1.599796456    good  \n",
       "4000  Created_by_Nidula_Elgiriyewithana     NaN  \n",
       "\n",
       "[4001 rows x 9 columns]"
      ]
     },
     "execution_count": 27,
     "metadata": {},
     "output_type": "execute_result"
    }
   ],
   "source": [
    "import kagglehub\n",
    "import os\n",
    "\n",
    "# Download latest version\n",
    "folder_path = kagglehub.dataset_download(\"nelgiriyewithana/apple-quality\")\n",
    "print(os.listdir(folder_path)) # เลือก \"['apple_quality.csv']\"\n",
    "\n",
    "csv_path = os.path.join(folder_path, 'apple_quality.csv')\n",
    "apple = pd.read_csv(csv_path)\n",
    "\n",
    "apple"
   ]
  },
  {
   "cell_type": "code",
   "execution_count": 28,
   "metadata": {},
   "outputs": [
    {
     "data": {
      "text/plain": [
       "(4000, 9)"
      ]
     },
     "execution_count": 28,
     "metadata": {},
     "output_type": "execute_result"
    }
   ],
   "source": [
    "apple_clean = apple.copy()\n",
    "apple_clean.dropna(inplace=True)\n",
    "apple_clean.shape"
   ]
  },
  {
   "cell_type": "code",
   "execution_count": 29,
   "metadata": {},
   "outputs": [
    {
     "data": {
      "text/html": [
       "<div>\n",
       "<style scoped>\n",
       "    .dataframe tbody tr th:only-of-type {\n",
       "        vertical-align: middle;\n",
       "    }\n",
       "\n",
       "    .dataframe tbody tr th {\n",
       "        vertical-align: top;\n",
       "    }\n",
       "\n",
       "    .dataframe thead th {\n",
       "        text-align: right;\n",
       "    }\n",
       "</style>\n",
       "<table border=\"1\" class=\"dataframe\">\n",
       "  <thead>\n",
       "    <tr style=\"text-align: right;\">\n",
       "      <th></th>\n",
       "      <th>A_id</th>\n",
       "      <th>Size</th>\n",
       "      <th>Weight</th>\n",
       "      <th>Sweetness</th>\n",
       "      <th>Crunchiness</th>\n",
       "      <th>Juiciness</th>\n",
       "      <th>Ripeness</th>\n",
       "      <th>Acidity</th>\n",
       "      <th>Quality</th>\n",
       "      <th>target</th>\n",
       "    </tr>\n",
       "  </thead>\n",
       "  <tbody>\n",
       "    <tr>\n",
       "      <th>0</th>\n",
       "      <td>0.0</td>\n",
       "      <td>-3.970049</td>\n",
       "      <td>-2.512336</td>\n",
       "      <td>5.346330</td>\n",
       "      <td>-1.012009</td>\n",
       "      <td>1.844900</td>\n",
       "      <td>0.329840</td>\n",
       "      <td>-0.491590483</td>\n",
       "      <td>good</td>\n",
       "      <td>1</td>\n",
       "    </tr>\n",
       "    <tr>\n",
       "      <th>1</th>\n",
       "      <td>1.0</td>\n",
       "      <td>-1.195217</td>\n",
       "      <td>-2.839257</td>\n",
       "      <td>3.664059</td>\n",
       "      <td>1.588232</td>\n",
       "      <td>0.853286</td>\n",
       "      <td>0.867530</td>\n",
       "      <td>-0.722809367</td>\n",
       "      <td>good</td>\n",
       "      <td>1</td>\n",
       "    </tr>\n",
       "    <tr>\n",
       "      <th>2</th>\n",
       "      <td>2.0</td>\n",
       "      <td>-0.292024</td>\n",
       "      <td>-1.351282</td>\n",
       "      <td>-1.738429</td>\n",
       "      <td>-0.342616</td>\n",
       "      <td>2.838636</td>\n",
       "      <td>-0.038033</td>\n",
       "      <td>2.621636473</td>\n",
       "      <td>bad</td>\n",
       "      <td>0</td>\n",
       "    </tr>\n",
       "    <tr>\n",
       "      <th>3</th>\n",
       "      <td>3.0</td>\n",
       "      <td>-0.657196</td>\n",
       "      <td>-2.271627</td>\n",
       "      <td>1.324874</td>\n",
       "      <td>-0.097875</td>\n",
       "      <td>3.637970</td>\n",
       "      <td>-3.413761</td>\n",
       "      <td>0.790723217</td>\n",
       "      <td>good</td>\n",
       "      <td>1</td>\n",
       "    </tr>\n",
       "    <tr>\n",
       "      <th>4</th>\n",
       "      <td>4.0</td>\n",
       "      <td>1.364217</td>\n",
       "      <td>-1.296612</td>\n",
       "      <td>-0.384658</td>\n",
       "      <td>-0.553006</td>\n",
       "      <td>3.030874</td>\n",
       "      <td>-1.303849</td>\n",
       "      <td>0.501984036</td>\n",
       "      <td>good</td>\n",
       "      <td>1</td>\n",
       "    </tr>\n",
       "    <tr>\n",
       "      <th>...</th>\n",
       "      <td>...</td>\n",
       "      <td>...</td>\n",
       "      <td>...</td>\n",
       "      <td>...</td>\n",
       "      <td>...</td>\n",
       "      <td>...</td>\n",
       "      <td>...</td>\n",
       "      <td>...</td>\n",
       "      <td>...</td>\n",
       "      <td>...</td>\n",
       "    </tr>\n",
       "    <tr>\n",
       "      <th>3995</th>\n",
       "      <td>3995.0</td>\n",
       "      <td>0.059386</td>\n",
       "      <td>-1.067408</td>\n",
       "      <td>-3.714549</td>\n",
       "      <td>0.473052</td>\n",
       "      <td>1.697986</td>\n",
       "      <td>2.244055</td>\n",
       "      <td>0.137784369</td>\n",
       "      <td>bad</td>\n",
       "      <td>0</td>\n",
       "    </tr>\n",
       "    <tr>\n",
       "      <th>3996</th>\n",
       "      <td>3996.0</td>\n",
       "      <td>-0.293118</td>\n",
       "      <td>1.949253</td>\n",
       "      <td>-0.204020</td>\n",
       "      <td>-0.640196</td>\n",
       "      <td>0.024523</td>\n",
       "      <td>-1.087900</td>\n",
       "      <td>1.854235285</td>\n",
       "      <td>good</td>\n",
       "      <td>1</td>\n",
       "    </tr>\n",
       "    <tr>\n",
       "      <th>3997</th>\n",
       "      <td>3997.0</td>\n",
       "      <td>-2.634515</td>\n",
       "      <td>-2.138247</td>\n",
       "      <td>-2.440461</td>\n",
       "      <td>0.657223</td>\n",
       "      <td>2.199709</td>\n",
       "      <td>4.763859</td>\n",
       "      <td>-1.334611391</td>\n",
       "      <td>bad</td>\n",
       "      <td>0</td>\n",
       "    </tr>\n",
       "    <tr>\n",
       "      <th>3998</th>\n",
       "      <td>3998.0</td>\n",
       "      <td>-4.008004</td>\n",
       "      <td>-1.779337</td>\n",
       "      <td>2.366397</td>\n",
       "      <td>-0.200329</td>\n",
       "      <td>2.161435</td>\n",
       "      <td>0.214488</td>\n",
       "      <td>-2.229719806</td>\n",
       "      <td>good</td>\n",
       "      <td>1</td>\n",
       "    </tr>\n",
       "    <tr>\n",
       "      <th>3999</th>\n",
       "      <td>3999.0</td>\n",
       "      <td>0.278540</td>\n",
       "      <td>-1.715505</td>\n",
       "      <td>0.121217</td>\n",
       "      <td>-1.154075</td>\n",
       "      <td>1.266677</td>\n",
       "      <td>-0.776571</td>\n",
       "      <td>1.599796456</td>\n",
       "      <td>good</td>\n",
       "      <td>1</td>\n",
       "    </tr>\n",
       "  </tbody>\n",
       "</table>\n",
       "<p>4000 rows × 10 columns</p>\n",
       "</div>"
      ],
      "text/plain": [
       "        A_id      Size    Weight  Sweetness  Crunchiness  Juiciness  Ripeness  \\\n",
       "0        0.0 -3.970049 -2.512336   5.346330    -1.012009   1.844900  0.329840   \n",
       "1        1.0 -1.195217 -2.839257   3.664059     1.588232   0.853286  0.867530   \n",
       "2        2.0 -0.292024 -1.351282  -1.738429    -0.342616   2.838636 -0.038033   \n",
       "3        3.0 -0.657196 -2.271627   1.324874    -0.097875   3.637970 -3.413761   \n",
       "4        4.0  1.364217 -1.296612  -0.384658    -0.553006   3.030874 -1.303849   \n",
       "...      ...       ...       ...        ...          ...        ...       ...   \n",
       "3995  3995.0  0.059386 -1.067408  -3.714549     0.473052   1.697986  2.244055   \n",
       "3996  3996.0 -0.293118  1.949253  -0.204020    -0.640196   0.024523 -1.087900   \n",
       "3997  3997.0 -2.634515 -2.138247  -2.440461     0.657223   2.199709  4.763859   \n",
       "3998  3998.0 -4.008004 -1.779337   2.366397    -0.200329   2.161435  0.214488   \n",
       "3999  3999.0  0.278540 -1.715505   0.121217    -1.154075   1.266677 -0.776571   \n",
       "\n",
       "           Acidity Quality  target  \n",
       "0     -0.491590483    good       1  \n",
       "1     -0.722809367    good       1  \n",
       "2      2.621636473     bad       0  \n",
       "3      0.790723217    good       1  \n",
       "4      0.501984036    good       1  \n",
       "...            ...     ...     ...  \n",
       "3995   0.137784369     bad       0  \n",
       "3996   1.854235285    good       1  \n",
       "3997  -1.334611391     bad       0  \n",
       "3998  -2.229719806    good       1  \n",
       "3999   1.599796456    good       1  \n",
       "\n",
       "[4000 rows x 10 columns]"
      ]
     },
     "execution_count": 29,
     "metadata": {},
     "output_type": "execute_result"
    }
   ],
   "source": [
    "apple_clean['target'] = (apple_clean[\"Quality\"] == \"good\").astype(int)\n",
    "\n",
    "apple_clean"
   ]
  },
  {
   "cell_type": "code",
   "execution_count": 30,
   "metadata": {},
   "outputs": [
    {
     "data": {
      "text/html": [
       "<div>\n",
       "<style scoped>\n",
       "    .dataframe tbody tr th:only-of-type {\n",
       "        vertical-align: middle;\n",
       "    }\n",
       "\n",
       "    .dataframe tbody tr th {\n",
       "        vertical-align: top;\n",
       "    }\n",
       "\n",
       "    .dataframe thead th {\n",
       "        text-align: right;\n",
       "    }\n",
       "</style>\n",
       "<table border=\"1\" class=\"dataframe\">\n",
       "  <thead>\n",
       "    <tr style=\"text-align: right;\">\n",
       "      <th></th>\n",
       "      <th>A_id</th>\n",
       "      <th>Size</th>\n",
       "      <th>Weight</th>\n",
       "      <th>Sweetness</th>\n",
       "      <th>Crunchiness</th>\n",
       "      <th>Juiciness</th>\n",
       "      <th>Ripeness</th>\n",
       "      <th>Acidity</th>\n",
       "      <th>Quality</th>\n",
       "      <th>target</th>\n",
       "    </tr>\n",
       "  </thead>\n",
       "  <tbody>\n",
       "    <tr>\n",
       "      <th>0</th>\n",
       "      <td>0.0</td>\n",
       "      <td>-3.970049</td>\n",
       "      <td>-2.512336</td>\n",
       "      <td>5.346330</td>\n",
       "      <td>-1.012009</td>\n",
       "      <td>1.844900</td>\n",
       "      <td>0.329840</td>\n",
       "      <td>-0.491590</td>\n",
       "      <td>good</td>\n",
       "      <td>1</td>\n",
       "    </tr>\n",
       "    <tr>\n",
       "      <th>1</th>\n",
       "      <td>1.0</td>\n",
       "      <td>-1.195217</td>\n",
       "      <td>-2.839257</td>\n",
       "      <td>3.664059</td>\n",
       "      <td>1.588232</td>\n",
       "      <td>0.853286</td>\n",
       "      <td>0.867530</td>\n",
       "      <td>-0.722809</td>\n",
       "      <td>good</td>\n",
       "      <td>1</td>\n",
       "    </tr>\n",
       "    <tr>\n",
       "      <th>2</th>\n",
       "      <td>2.0</td>\n",
       "      <td>-0.292024</td>\n",
       "      <td>-1.351282</td>\n",
       "      <td>-1.738429</td>\n",
       "      <td>-0.342616</td>\n",
       "      <td>2.838636</td>\n",
       "      <td>-0.038033</td>\n",
       "      <td>2.621636</td>\n",
       "      <td>bad</td>\n",
       "      <td>0</td>\n",
       "    </tr>\n",
       "    <tr>\n",
       "      <th>3</th>\n",
       "      <td>3.0</td>\n",
       "      <td>-0.657196</td>\n",
       "      <td>-2.271627</td>\n",
       "      <td>1.324874</td>\n",
       "      <td>-0.097875</td>\n",
       "      <td>3.637970</td>\n",
       "      <td>-3.413761</td>\n",
       "      <td>0.790723</td>\n",
       "      <td>good</td>\n",
       "      <td>1</td>\n",
       "    </tr>\n",
       "    <tr>\n",
       "      <th>4</th>\n",
       "      <td>4.0</td>\n",
       "      <td>1.364217</td>\n",
       "      <td>-1.296612</td>\n",
       "      <td>-0.384658</td>\n",
       "      <td>-0.553006</td>\n",
       "      <td>3.030874</td>\n",
       "      <td>-1.303849</td>\n",
       "      <td>0.501984</td>\n",
       "      <td>good</td>\n",
       "      <td>1</td>\n",
       "    </tr>\n",
       "    <tr>\n",
       "      <th>...</th>\n",
       "      <td>...</td>\n",
       "      <td>...</td>\n",
       "      <td>...</td>\n",
       "      <td>...</td>\n",
       "      <td>...</td>\n",
       "      <td>...</td>\n",
       "      <td>...</td>\n",
       "      <td>...</td>\n",
       "      <td>...</td>\n",
       "      <td>...</td>\n",
       "    </tr>\n",
       "    <tr>\n",
       "      <th>3995</th>\n",
       "      <td>3995.0</td>\n",
       "      <td>0.059386</td>\n",
       "      <td>-1.067408</td>\n",
       "      <td>-3.714549</td>\n",
       "      <td>0.473052</td>\n",
       "      <td>1.697986</td>\n",
       "      <td>2.244055</td>\n",
       "      <td>0.137784</td>\n",
       "      <td>bad</td>\n",
       "      <td>0</td>\n",
       "    </tr>\n",
       "    <tr>\n",
       "      <th>3996</th>\n",
       "      <td>3996.0</td>\n",
       "      <td>-0.293118</td>\n",
       "      <td>1.949253</td>\n",
       "      <td>-0.204020</td>\n",
       "      <td>-0.640196</td>\n",
       "      <td>0.024523</td>\n",
       "      <td>-1.087900</td>\n",
       "      <td>1.854235</td>\n",
       "      <td>good</td>\n",
       "      <td>1</td>\n",
       "    </tr>\n",
       "    <tr>\n",
       "      <th>3997</th>\n",
       "      <td>3997.0</td>\n",
       "      <td>-2.634515</td>\n",
       "      <td>-2.138247</td>\n",
       "      <td>-2.440461</td>\n",
       "      <td>0.657223</td>\n",
       "      <td>2.199709</td>\n",
       "      <td>4.763859</td>\n",
       "      <td>-1.334611</td>\n",
       "      <td>bad</td>\n",
       "      <td>0</td>\n",
       "    </tr>\n",
       "    <tr>\n",
       "      <th>3998</th>\n",
       "      <td>3998.0</td>\n",
       "      <td>-4.008004</td>\n",
       "      <td>-1.779337</td>\n",
       "      <td>2.366397</td>\n",
       "      <td>-0.200329</td>\n",
       "      <td>2.161435</td>\n",
       "      <td>0.214488</td>\n",
       "      <td>-2.229720</td>\n",
       "      <td>good</td>\n",
       "      <td>1</td>\n",
       "    </tr>\n",
       "    <tr>\n",
       "      <th>3999</th>\n",
       "      <td>3999.0</td>\n",
       "      <td>0.278540</td>\n",
       "      <td>-1.715505</td>\n",
       "      <td>0.121217</td>\n",
       "      <td>-1.154075</td>\n",
       "      <td>1.266677</td>\n",
       "      <td>-0.776571</td>\n",
       "      <td>1.599796</td>\n",
       "      <td>good</td>\n",
       "      <td>1</td>\n",
       "    </tr>\n",
       "  </tbody>\n",
       "</table>\n",
       "<p>4000 rows × 10 columns</p>\n",
       "</div>"
      ],
      "text/plain": [
       "        A_id      Size    Weight  Sweetness  Crunchiness  Juiciness  Ripeness  \\\n",
       "0        0.0 -3.970049 -2.512336   5.346330    -1.012009   1.844900  0.329840   \n",
       "1        1.0 -1.195217 -2.839257   3.664059     1.588232   0.853286  0.867530   \n",
       "2        2.0 -0.292024 -1.351282  -1.738429    -0.342616   2.838636 -0.038033   \n",
       "3        3.0 -0.657196 -2.271627   1.324874    -0.097875   3.637970 -3.413761   \n",
       "4        4.0  1.364217 -1.296612  -0.384658    -0.553006   3.030874 -1.303849   \n",
       "...      ...       ...       ...        ...          ...        ...       ...   \n",
       "3995  3995.0  0.059386 -1.067408  -3.714549     0.473052   1.697986  2.244055   \n",
       "3996  3996.0 -0.293118  1.949253  -0.204020    -0.640196   0.024523 -1.087900   \n",
       "3997  3997.0 -2.634515 -2.138247  -2.440461     0.657223   2.199709  4.763859   \n",
       "3998  3998.0 -4.008004 -1.779337   2.366397    -0.200329   2.161435  0.214488   \n",
       "3999  3999.0  0.278540 -1.715505   0.121217    -1.154075   1.266677 -0.776571   \n",
       "\n",
       "       Acidity Quality  target  \n",
       "0    -0.491590    good       1  \n",
       "1    -0.722809    good       1  \n",
       "2     2.621636     bad       0  \n",
       "3     0.790723    good       1  \n",
       "4     0.501984    good       1  \n",
       "...        ...     ...     ...  \n",
       "3995  0.137784     bad       0  \n",
       "3996  1.854235    good       1  \n",
       "3997 -1.334611     bad       0  \n",
       "3998 -2.229720    good       1  \n",
       "3999  1.599796    good       1  \n",
       "\n",
       "[4000 rows x 10 columns]"
      ]
     },
     "execution_count": 30,
     "metadata": {},
     "output_type": "execute_result"
    }
   ],
   "source": [
    "apple_clean[\"Acidity\"].isna().sum()\n",
    "apple_clean[\"Acidity\"] = pd.to_numeric(apple_clean[\"Acidity\"], errors=\"coerce\")\n",
    "apple_clean\n"
   ]
  },
  {
   "cell_type": "code",
   "execution_count": 31,
   "metadata": {},
   "outputs": [],
   "source": [
    "from sklearn.model_selection import train_test_split\n",
    "from sklearn.metrics import accuracy_score\n",
    "\n",
    "X = apple_clean.drop([\"A_id\", \"Quality\", \"target\"], axis=1)\n",
    "y = apple_clean[\"target\"]\n",
    "\n",
    "X_train, X_test, y_train, y_test = train_test_split(X, y, test_size=.3, random_state=42)"
   ]
  },
  {
   "cell_type": "code",
   "execution_count": 32,
   "metadata": {},
   "outputs": [],
   "source": [
    "# @title k-Nearest Neighbors from scratch\n",
    "import math\n",
    "import numpy as np\n",
    "\n",
    "\n",
    "# Euclidean distance\n",
    "def euclidean(x, y):\n",
    "    return np.sqrt(np.sum((x - y) ** 2))\n",
    "\n",
    "\n",
    "# Locate the most similar neighbors\n",
    "def get_neighbors(test_row, X_train, y_train, n_neighbors):\n",
    "    distances = list()\n",
    "    for train_row, train_class in zip(X_train, y_train):\n",
    "        dist = euclidean(train_row, test_row)\n",
    "        distances.append((dist, train_class))\n",
    "\n",
    "        # Ex : [(0.75, 'A'), (1.41, 'A'), (2.23, 'B')]\n",
    "    distances.sort(key=lambda tple: tple[0])\n",
    "    neighbors = list()\n",
    "    for i in range(n_neighbors):\n",
    "        neighbors.append(distances[i][1])\n",
    "\n",
    "        # Ex : ['A', 'A', 'B']\n",
    "    return neighbors\n",
    "\n",
    "\n",
    "# Get the modal (most common) value in the passed array\n",
    "# arr = ['A', 'A', 'B']\n",
    "# vals = ['A', 'B'], cnts = [2, 1]\n",
    "def mode(arr):\n",
    "    vals, cnts = np.unique(arr, return_counts=True)\n",
    "    mode = vals[cnts.argmax()]\n",
    "\n",
    "    return mode\n",
    "\n",
    "\n",
    "# Make predictions\n",
    "def predict(X_test, X_train, y_train, n_neighbors):\n",
    "    preds = list()\n",
    "    for test_row in X_test:\n",
    "        neighbors = get_neighbors(test_row, X_train, y_train, n_neighbors)\n",
    "        modal = mode(neighbors)\n",
    "        preds.append(modal)\n",
    "\n",
    "    return np.array(preds)\n",
    "\n",
    "\n",
    "# Get accuracy\n",
    "def accuracy(y_test, preds):\n",
    "    return (preds == y_test).mean()"
   ]
  },
  {
   "cell_type": "code",
   "execution_count": 33,
   "metadata": {},
   "outputs": [
    {
     "name": "stdout",
     "output_type": "stream",
     "text": [
      "round: 1, acc: 0.8883\n",
      "round: 2, acc: 0.8592\n",
      "round: 3, acc: 0.8917\n",
      "round: 4, acc: 0.8783\n",
      "round: 5, acc: 0.8983\n",
      "round: 6, acc: 0.8833\n",
      "round: 7, acc: 0.9017\n",
      "round: 8, acc: 0.8975\n",
      "round: 9, acc: 0.9025\n",
      "round: 10, acc: 0.8925\n",
      "round: 11, acc: 0.9025\n",
      "round: 12, acc: 0.8892\n",
      "round: 13, acc: 0.8942\n",
      "round: 14, acc: 0.8908\n",
      "round: 15, acc: 0.9025\n",
      "round: 16, acc: 0.8950\n",
      "round: 17, acc: 0.9000\n",
      "round: 18, acc: 0.8908\n",
      "round: 19, acc: 0.9008\n",
      "round: 20, acc: 0.8950\n",
      "round: 21, acc: 0.8992\n",
      "round: 22, acc: 0.8950\n",
      "round: 23, acc: 0.8958\n",
      "round: 24, acc: 0.8925\n",
      "round: 25, acc: 0.8992\n",
      "round: 26, acc: 0.8875\n",
      "round: 27, acc: 0.8950\n",
      "round: 28, acc: 0.8900\n",
      "round: 29, acc: 0.8917\n",
      "round: 30, acc: 0.8883\n",
      "✅ Best k = 9 with accuracy = 0.9025\n"
     ]
    }
   ],
   "source": [
    "import matplotlib.pyplot as plt\n",
    "import numpy as np\n",
    "\n",
    "accuracies = []\n",
    "\n",
    "for k in range(1, 31):\n",
    "    preds = predict(X_test.values, X_train.values, y_train.values, n_neighbors=k)\n",
    "    acc = accuracy(preds, y_test.values)\n",
    "\n",
    "    print(f\"round: {k}, acc: {acc:.4f}\")\n",
    "\n",
    "    accuracies.append(acc)\n",
    "\n",
    "best_k = np.argmax(accuracies) + 1\n",
    "best_acc = accuracies[best_k - 1]\n",
    "\n",
    "print(f\"✅ Best k = {best_k} with accuracy = {best_acc:.4f}\")"
   ]
  },
  {
   "cell_type": "code",
   "execution_count": 34,
   "metadata": {},
   "outputs": [
    {
     "data": {
      "image/png": "[encoded data removed]",
      "text/plain": [
       "<Figure size 640x480 with 1 Axes>"
      ]
     },
     "metadata": {},
     "output_type": "display_data"
    }
   ],
   "source": [
    "plt.plot(range(1, 31), accuracies, \"r\")\n",
    "plt.xticks(range(1, 31), fontsize=10, rotation=45)\n",
    "plt.legend((\"Accuracy \"))\n",
    "plt.ylabel(\"Accuracy \")\n",
    "plt.xlabel(\"Number of Neighbors (K)\")\n",
    "plt.tight_layout()\n",
    "plt.show()"
   ]
  },
  {
   "cell_type": "code",
   "execution_count": 35,
   "metadata": {},
   "outputs": [
    {
     "name": "stdout",
     "output_type": "stream",
     "text": [
      "Pair 1: (Size, Weight) => Accuracy: 0.5958\n",
      "Pair 2: (Size, Sweetness) => Accuracy: 0.6517\n",
      "Pair 3: (Size, Crunchiness) => Accuracy: 0.6025\n",
      "Pair 4: (Size, Juiciness) => Accuracy: 0.6525\n",
      "Pair 5: (Size, Ripeness) => Accuracy: 0.6442\n",
      "Pair 6: (Size, Acidity) => Accuracy: 0.5942\n",
      "Pair 7: (Weight, Sweetness) => Accuracy: 0.5842\n",
      "Pair 8: (Weight, Crunchiness) => Accuracy: 0.5875\n",
      "Pair 9: (Weight, Juiciness) => Accuracy: 0.6108\n",
      "Pair 10: (Weight, Ripeness) => Accuracy: 0.5925\n",
      "Pair 11: (Weight, Acidity) => Accuracy: 0.6158\n",
      "Pair 12: (Sweetness, Crunchiness) => Accuracy: 0.5950\n",
      "Pair 13: (Sweetness, Juiciness) => Accuracy: 0.6167\n",
      "Pair 14: (Sweetness, Ripeness) => Accuracy: 0.6392\n",
      "Pair 15: (Sweetness, Acidity) => Accuracy: 0.5508\n",
      "Pair 16: (Crunchiness, Juiciness) => Accuracy: 0.6233\n",
      "Pair 17: (Crunchiness, Ripeness) => Accuracy: 0.6100\n",
      "Pair 18: (Crunchiness, Acidity) => Accuracy: 0.5458\n",
      "Pair 19: (Juiciness, Ripeness) => Accuracy: 0.6658\n",
      "Pair 20: (Juiciness, Acidity) => Accuracy: 0.5883\n",
      "Pair 21: (Ripeness, Acidity) => Accuracy: 0.5942\n",
      "\n",
      "Total pairs tested: 21\n",
      "Best pair: ('Juiciness', 'Ripeness') | Accuracy (k=7): 0.67\n"
     ]
    }
   ],
   "source": [
    "from itertools import combinations\n",
    "\n",
    "features = [\n",
    "    \"Size\",\n",
    "    \"Weight\",\n",
    "    \"Sweetness\",\n",
    "    \"Crunchiness\",\n",
    "    \"Juiciness\",\n",
    "    \"Ripeness\",\n",
    "    \"Acidity\",\n",
    "]\n",
    "\n",
    "best_acc = 0\n",
    "best_pair = None\n",
    "total_pairs = 0\n",
    "\n",
    "for f1, f2 in combinations(features, 2):\n",
    "    total_pairs += 1\n",
    "    X = apple_clean[[f1, f2]]\n",
    "    y = apple_clean[\"target\"]\n",
    "\n",
    "    X_train, X_test, y_train, y_test = train_test_split(\n",
    "        X, y, test_size=0.3, random_state=42\n",
    "    )\n",
    "\n",
    "    model = KNeighborsClassifier(n_neighbors=7)\n",
    "    model.fit(X_train, y_train)\n",
    "    acc = model.score(X_test, y_test)\n",
    "\n",
    "    print(f\"Pair {total_pairs}: ({f1}, {f2}) => Accuracy: {acc:.4f}\")\n",
    "\n",
    "\n",
    "    if acc > best_acc:\n",
    "        best_acc = acc\n",
    "        best_pair = (f1, f2)\n",
    "\n",
    "print(f\"\\nTotal pairs tested: {total_pairs}\")\n",
    "print(f\"Best pair: {best_pair} | Accuracy (k=7): {best_acc:.2f}\")"
   ]
  },
  {
   "cell_type": "code",
   "execution_count": 36,
   "metadata": {},
   "outputs": [
    {
     "name": "stderr",
     "output_type": "stream",
     "text": [
      "/Users/7n100489/Library/CloudStorage/OneDrive-BankofAyudhyaPublicCompanyLimited/Desktop/Workspace/github/intro-to-ml-and-dl/.venv/lib/python3.13/site-packages/sklearn/utils/validation.py:2749: UserWarning: X does not have valid feature names, but KNeighborsClassifier was fitted with feature names\n",
      "  warnings.warn(\n"
     ]
    },
    {
     "data": {
      "image/png": "[encoded data removed]",
      "text/plain": [
       "<Figure size 640x480 with 1 Axes>"
      ]
     },
     "metadata": {},
     "output_type": "display_data"
    },
    {
     "name": "stdout",
     "output_type": "stream",
     "text": [
      "Accuracy (k=7): 0.67\n"
     ]
    }
   ],
   "source": [
    "def plot_decision_boundary(X, y, k, pair):\n",
    "    X = X[list(pair)]\n",
    "    le = LabelEncoder()\n",
    "    y = le.fit_transform(y)\n",
    "\n",
    "    X_train, X_test, y_train, y_test = train_test_split(\n",
    "        X, y, test_size=0.3, random_state=42\n",
    "    )\n",
    "\n",
    "    # Create mesh grid\n",
    "    resolution = 0.05\n",
    "    x1_min, x1_max = X.iloc[:, 0].min() - 1, X.iloc[:, 0].max() + 1\n",
    "    x2_min, x2_max = X.iloc[:, 1].min() - 1, X.iloc[:, 1].max() + 1\n",
    "    xx1, xx2 = np.meshgrid(\n",
    "        np.arange(x1_min, x1_max, resolution), np.arange(x2_min, x2_max, resolution)\n",
    "    )\n",
    "\n",
    "    model = KNeighborsClassifier(n_neighbors=k)\n",
    "    model.fit(X_train, y_train)\n",
    "    Z = model.predict(np.c_[xx1.ravel(), xx2.ravel()])\n",
    "    Z = Z.reshape(xx1.shape)\n",
    "\n",
    "    # Plot\n",
    "    plt.figure()\n",
    "    colors = (\"orange\", \"cornflowerblue\", \"lightgreen\", \"gray\", \"cyan\")\n",
    "    cmap = ListedColormap(colors[: len(np.unique(y))])\n",
    "    plt.contourf(xx1, xx2, Z, alpha=0.4, cmap=cmap)\n",
    "    plt.scatter(\n",
    "        X_test.iloc[:, 0], X_test.iloc[:, 1], c=y_test, s=20, edgecolor=\"k\", cmap=cmap\n",
    "    )\n",
    "    plt.title(f\"Decision Boundary (k={k}) using {pair[0]} and {pair[1]}\")\n",
    "    plt.xlabel(pair[0])\n",
    "    plt.ylabel(pair[1])\n",
    "    plt.show()\n",
    "\n",
    "    y_pred = model.predict(X_test)\n",
    "    acc = accuracy_score(y_test, y_pred)\n",
    "    print(f\"Accuracy (k={k}): {acc:.2f}\")\n",
    "\n",
    "\n",
    "X = apple_clean[[*best_pair]]\n",
    "y = apple_clean[\"target\"]\n",
    "plot_decision_boundary(X, y, k=7, pair=best_pair);"
   ]
  }
 ],
 "metadata": {
  "colab": {
   "provenance": []
  },
  "kernelspec": {
   "display_name": ".venv",
   "language": "python",
   "name": "python3"
  },
  "language_info": {
   "codemirror_mode": {
    "name": "ipython",
    "version": 3
   },
   "file_extension": ".py",
   "mimetype": "text/x-python",
   "name": "python",
   "nbconvert_exporter": "python",
   "pygments_lexer": "ipython3",
   "version": "3.13.5"
  }
 },
 "nbformat": 4,
 "nbformat_minor": 0
}
