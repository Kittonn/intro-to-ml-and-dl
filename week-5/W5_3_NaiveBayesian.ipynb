{
 "cells": [
  {
   "cell_type": "code",
   "execution_count": 98,
   "metadata": {
    "colab": {
     "base_uri": "https://localhost:8080/"
    },
    "id": "lvYL_lrUzIBN",
    "outputId": "b1f7e57a-0c6d-44ce-910b-6682d0bc400a"
   },
   "outputs": [
    {
     "name": "stdout",
     "output_type": "stream",
     "text": [
      "Path to dataset files: /Users/7n100489/.cache/kagglehub/datasets/dheemanthbhat/simple-weather-forecast/versions/1\n",
      "['weather_forecast.csv']\n"
     ]
    }
   ],
   "source": [
    "import kagglehub\n",
    "import os\n",
    "import pandas as pd\n",
    "import numpy as np\n",
    "from sklearn.model_selection import train_test_split\n",
    "from math import sqrt, pi, exp\n",
    "\n",
    "# Download latest version\n",
    "folder_path = kagglehub.dataset_download(\"dheemanthbhat/simple-weather-forecast\")\n",
    "\n",
    "print(\"Path to dataset files:\", folder_path)\n",
    "print(os.listdir(folder_path))"
   ]
  },
  {
   "cell_type": "code",
   "execution_count": 99,
   "metadata": {
    "colab": {
     "base_uri": "https://localhost:8080/",
     "height": 488
    },
    "id": "tnwNLzhKzSbw",
    "outputId": "25ced8f6-d147-4ea0-f90b-2ba60e988462"
   },
   "outputs": [
    {
     "data": {
      "text/html": [
       "<div>\n",
       "<style scoped>\n",
       "    .dataframe tbody tr th:only-of-type {\n",
       "        vertical-align: middle;\n",
       "    }\n",
       "\n",
       "    .dataframe tbody tr th {\n",
       "        vertical-align: top;\n",
       "    }\n",
       "\n",
       "    .dataframe thead th {\n",
       "        text-align: right;\n",
       "    }\n",
       "</style>\n",
       "<table border=\"1\" class=\"dataframe\">\n",
       "  <thead>\n",
       "    <tr style=\"text-align: right;\">\n",
       "      <th></th>\n",
       "      <th>Outlook</th>\n",
       "      <th>Temperature</th>\n",
       "      <th>Humidity</th>\n",
       "      <th>Windy</th>\n",
       "      <th>Play</th>\n",
       "    </tr>\n",
       "  </thead>\n",
       "  <tbody>\n",
       "    <tr>\n",
       "      <th>0</th>\n",
       "      <td>Rain</td>\n",
       "      <td>Hot</td>\n",
       "      <td>High</td>\n",
       "      <td>Weak</td>\n",
       "      <td>No</td>\n",
       "    </tr>\n",
       "    <tr>\n",
       "      <th>1</th>\n",
       "      <td>Rain</td>\n",
       "      <td>Hot</td>\n",
       "      <td>High</td>\n",
       "      <td>Strong</td>\n",
       "      <td>No</td>\n",
       "    </tr>\n",
       "    <tr>\n",
       "      <th>2</th>\n",
       "      <td>Overcast</td>\n",
       "      <td>Hot</td>\n",
       "      <td>High</td>\n",
       "      <td>Weak</td>\n",
       "      <td>Yes</td>\n",
       "    </tr>\n",
       "    <tr>\n",
       "      <th>3</th>\n",
       "      <td>Sunny</td>\n",
       "      <td>Mild</td>\n",
       "      <td>High</td>\n",
       "      <td>Weak</td>\n",
       "      <td>Yes</td>\n",
       "    </tr>\n",
       "    <tr>\n",
       "      <th>4</th>\n",
       "      <td>Sunny</td>\n",
       "      <td>Cool</td>\n",
       "      <td>Normal</td>\n",
       "      <td>Weak</td>\n",
       "      <td>Yes</td>\n",
       "    </tr>\n",
       "    <tr>\n",
       "      <th>5</th>\n",
       "      <td>Sunny</td>\n",
       "      <td>Cool</td>\n",
       "      <td>Normal</td>\n",
       "      <td>Strong</td>\n",
       "      <td>No</td>\n",
       "    </tr>\n",
       "    <tr>\n",
       "      <th>6</th>\n",
       "      <td>Overcast</td>\n",
       "      <td>Cool</td>\n",
       "      <td>Normal</td>\n",
       "      <td>Strong</td>\n",
       "      <td>Yes</td>\n",
       "    </tr>\n",
       "    <tr>\n",
       "      <th>7</th>\n",
       "      <td>Rain</td>\n",
       "      <td>Mild</td>\n",
       "      <td>High</td>\n",
       "      <td>Weak</td>\n",
       "      <td>No</td>\n",
       "    </tr>\n",
       "    <tr>\n",
       "      <th>8</th>\n",
       "      <td>Rain</td>\n",
       "      <td>Cool</td>\n",
       "      <td>Normal</td>\n",
       "      <td>Weak</td>\n",
       "      <td>Yes</td>\n",
       "    </tr>\n",
       "    <tr>\n",
       "      <th>9</th>\n",
       "      <td>Sunny</td>\n",
       "      <td>Mild</td>\n",
       "      <td>Normal</td>\n",
       "      <td>Weak</td>\n",
       "      <td>Yes</td>\n",
       "    </tr>\n",
       "    <tr>\n",
       "      <th>10</th>\n",
       "      <td>Rain</td>\n",
       "      <td>Mild</td>\n",
       "      <td>Normal</td>\n",
       "      <td>Strong</td>\n",
       "      <td>Yes</td>\n",
       "    </tr>\n",
       "    <tr>\n",
       "      <th>11</th>\n",
       "      <td>Overcast</td>\n",
       "      <td>Mild</td>\n",
       "      <td>High</td>\n",
       "      <td>Strong</td>\n",
       "      <td>Yes</td>\n",
       "    </tr>\n",
       "    <tr>\n",
       "      <th>12</th>\n",
       "      <td>Overcast</td>\n",
       "      <td>Hot</td>\n",
       "      <td>Normal</td>\n",
       "      <td>Weak</td>\n",
       "      <td>Yes</td>\n",
       "    </tr>\n",
       "    <tr>\n",
       "      <th>13</th>\n",
       "      <td>Sunny</td>\n",
       "      <td>Mild</td>\n",
       "      <td>High</td>\n",
       "      <td>Strong</td>\n",
       "      <td>No</td>\n",
       "    </tr>\n",
       "  </tbody>\n",
       "</table>\n",
       "</div>"
      ],
      "text/plain": [
       "     Outlook Temperature Humidity   Windy Play\n",
       "0       Rain         Hot     High    Weak   No\n",
       "1       Rain         Hot     High  Strong   No\n",
       "2   Overcast         Hot     High    Weak  Yes\n",
       "3      Sunny        Mild     High    Weak  Yes\n",
       "4      Sunny        Cool   Normal    Weak  Yes\n",
       "5      Sunny        Cool   Normal  Strong   No\n",
       "6   Overcast        Cool   Normal  Strong  Yes\n",
       "7       Rain        Mild     High    Weak   No\n",
       "8       Rain        Cool   Normal    Weak  Yes\n",
       "9      Sunny        Mild   Normal    Weak  Yes\n",
       "10      Rain        Mild   Normal  Strong  Yes\n",
       "11  Overcast        Mild     High  Strong  Yes\n",
       "12  Overcast         Hot   Normal    Weak  Yes\n",
       "13     Sunny        Mild     High  Strong   No"
      ]
     },
     "execution_count": 99,
     "metadata": {},
     "output_type": "execute_result"
    }
   ],
   "source": [
    "csv_path = os.path.join(folder_path, 'weather_forecast.csv')\n",
    "df = pd.read_csv(csv_path)\n",
    "\n",
    "temp_val = 'TEMP_SWAP'\n",
    "\n",
    "df['Outlook'] = df['Outlook'].replace('Sunny', temp_val)\n",
    "df['Outlook'] = df['Outlook'].replace('Rain', 'Sunny')\n",
    "df['Outlook'] = df['Outlook'].replace(temp_val, 'Rain')\n",
    "df"
   ]
  },
  {
   "cell_type": "markdown",
   "metadata": {
    "id": "l0HBmNaUf38Q"
   },
   "source": [
    "# NaiveBayesClassifier From Scratch"
   ]
  },
  {
   "cell_type": "code",
   "execution_count": 100,
   "metadata": {
    "id": "PvvPWZ8Pz2LT"
   },
   "outputs": [],
   "source": [
    "# --- NaiveBayesClassifier From Scratch ---\n",
    "class NaiveBayesClassifier:\n",
    "    def __init__(self, categorical_features, numerical_features, target_feature, use_add1_smoothing=True):\n",
    "        self.categorical_features = categorical_features\n",
    "        self.numerical_features = numerical_features\n",
    "        self.target_feature = target_feature\n",
    "        self.use_add1_smoothing = use_add1_smoothing\n",
    "\n",
    "        self.classes = []\n",
    "        self.prior_probs = {} # P(Class)\n",
    "        self.likelihoods_categorical = {} # P(Feature_cat | Class) with smoothing\n",
    "        self.numerical_features_stats = {} # {Class: {Feature_num: {'mean': .., 'std': ..}}}\n",
    "        self.feature_possible_values = {} # For smoothing denominator\n",
    "\n",
    "    def fit(self, df):\n",
    "        \"\"\"\n",
    "        ฝึกโมเดล Naive Bayes โดยคำนวณ Prior, Likelihoods, และ Stats สำหรับ Numerical Features\n",
    "        **Likelihoods สำหรับ Categorical Predictors จะไม่ใช้ Add-1 Smoothing**\n",
    "        \"\"\"\n",
    "        self.classes = df[self.target_feature].unique()\n",
    "        total_samples = len(df)\n",
    "\n",
    "        # 1. คำนวณ Prior Probabilities\n",
    "        for cls in self.classes:\n",
    "            self.prior_probs[cls] = df[df[self.target_feature] == cls].shape[0] / total_samples\n",
    "\n",
    "        # 2. คำนวณ Likelihoods สำหรับ Categorical Predictors (ไม่มี Smoothing)\n",
    "        for feature in self.categorical_features:\n",
    "            self.feature_possible_values[feature] = df[feature].nunique() # ไม่ได้ใช้แล้วถ้าไม่ smoothing\n",
    "            for cls in self.classes:\n",
    "                if cls not in self.likelihoods_categorical:\n",
    "                    self.likelihoods_categorical[cls] = {}\n",
    "                self.likelihoods_categorical[cls][feature] = {}\n",
    "\n",
    "                df_class = df[df[self.target_feature] == cls]\n",
    "                total_count_class = df_class.shape[0]\n",
    "\n",
    "                for feat_value in df[feature].unique():\n",
    "                    count_feat_class = df_class[feature].value_counts().get(feat_value, 0)\n",
    "\n",
    "                    # *** จุดที่แก้ไข 2: ใช้เงื่อนไข use_add1_smoothing ***\n",
    "                    if self.use_add1_smoothing:\n",
    "                        prob = (count_feat_class + 1) / (total_count_class + self.feature_possible_values[feature])\n",
    "                    else:\n",
    "                        if total_count_class > 0:\n",
    "                            prob = count_feat_class / total_count_class\n",
    "                        else:\n",
    "                            prob = 0.0 # ถ้าไม่มีข้อมูลในคลาสนี้เลย ให้ Likelihood เป็น 0\n",
    "\n",
    "                    self.likelihoods_categorical[cls][feature][feat_value] = prob\n",
    "\n",
    "        # 3. คำนวณ Mean และ Standard Deviation สำหรับ Numerical Predictors\n",
    "        for feature in self.numerical_features:\n",
    "            for cls in self.classes:\n",
    "                if cls not in self.numerical_features_stats:\n",
    "                    self.numerical_features_stats[cls] = {}\n",
    "\n",
    "                df_class_feature = df[df[self.target_feature] == cls][feature]\n",
    "                self.numerical_features_stats[cls][feature] = {\n",
    "                    'mean': df_class_feature.mean(),\n",
    "                    'std': df_class_feature.std(ddof=1) # ddof=1 for sample std dev\n",
    "                }\n",
    "                # Handle cases where std dev is 0 (e.g., all values are same in a class)\n",
    "                if self.numerical_features_stats[cls][feature]['std'] == 0:\n",
    "                    self.numerical_features_stats[cls][feature]['std'] = 1e-9 # Prevent division by zero, small epsilon\n",
    "\n",
    "    def _normal_pdf(self, x, mean, std):\n",
    "        \"\"\"Probability Density Function for Normal Distribution.\"\"\"\n",
    "        if std == 0: # Should be handled by epsilon in fit, but as a safeguard\n",
    "            return 1.0 if x == mean else 0.0\n",
    "        exponent = exp(-((x - mean) ** 2) / (2 * (std ** 2)))\n",
    "        return (1 / (sqrt(2 * pi) * std)) * exponent\n",
    "\n",
    "    def _calculate_unnormalized_posterior_with_terms(self, query_features, target_label):\n",
    "        \"\"\"\n",
    "        คำนวณ Numerator (Score) สำหรับคลาสที่ระบุ พร้อมส่งกลับเทอมการคูณแต่ละตัว\n",
    "        Score = P(X|c) * P(c)\n",
    "        \"\"\"\n",
    "        score = self.prior_probs[target_label]\n",
    "        terms = [f\"{self.prior_probs[target_label]:.4f}\"] # เก็บเฉพาะตัวเลขสำหรับส่วน (0.XX * 0.YY...)\n",
    "\n",
    "        # สำหรับแสดง P(Yes) = ... หรือ P(No) = ... ในบรรทัดแรกของ P(X|c)*P(c)\n",
    "        detailed_terms_display = [f\"P({target_label}) = {self.prior_probs[target_label]:.4f}\"]\n",
    "\n",
    "        for feat_name, feat_value in query_features.items():\n",
    "            if feat_name in self.categorical_features:\n",
    "                p_feat_given_label = self.likelihoods_categorical[target_label][feat_name].get(feat_value, 0)\n",
    "                score *= p_feat_given_label\n",
    "\n",
    "                display_value = feat_value\n",
    "                terms.append(f\"{p_feat_given_label:.4f}\")\n",
    "                detailed_terms_display.append(f\"P({feat_name}={display_value}|{target_label}) = {p_feat_given_label:.4f}\")\n",
    "            elif feat_name in self.numerical_features:\n",
    "                mean = self.numerical_features_stats[target_label][feat_name]['mean']\n",
    "                std = self.numerical_features_stats[target_label][feat_name]['std']\n",
    "                p_feat_given_label = self._normal_pdf(feat_value, mean, std)\n",
    "                score *= p_feat_given_label\n",
    "                terms.append(f\"{p_feat_given_label:.4f}\")\n",
    "                detailed_terms_display.append(f\"PDF({feat_name}={feat_value}|{target_label}) = {p_feat_given_label:.4f}\")\n",
    "            else:\n",
    "                # This should ideally not happen if features are correctly defined\n",
    "                print(f\"Warning: Feature '{feat_name}' not recognized during prediction. Skipping.\")\n",
    "        return score, terms, detailed_terms_display\n",
    "\n",
    "    def predict_proba(self, query_features):\n",
    "        \"\"\"\n",
    "        ทำนาย Posterior Probabilities สำหรับแต่ละคลาส\n",
    "        คืนค่าเป็น dictionary {class: probability}\n",
    "        \"\"\"\n",
    "        scores = {}\n",
    "        # We don't need detailed terms for predict_proba, only for display\n",
    "        for cls in self.classes:\n",
    "            score, _, _ = self._calculate_unnormalized_posterior_with_terms(query_features, cls)\n",
    "            scores[cls] = score\n",
    "\n",
    "        total_score = sum(scores.values())\n",
    "\n",
    "        posterior_probs = {}\n",
    "        if total_score > 0:\n",
    "            for cls in self.classes:\n",
    "                posterior_probs[cls] = scores[cls] / total_score\n",
    "        else:\n",
    "            for cls in self.classes:\n",
    "                posterior_probs[cls] = 0.0\n",
    "            print(\"Warning: All unnormalized scores are zero. Posterior probabilities set to 0.0.\")\n",
    "\n",
    "        return posterior_probs\n",
    "\n",
    "    def predict(self, query_features):\n",
    "        \"\"\"\n",
    "        ทำนายคลาสที่มีความน่าจะเป็นสูงสุด\n",
    "        \"\"\"\n",
    "        posterior_probs = self.predict_proba(query_features)\n",
    "\n",
    "        if posterior_probs:\n",
    "            return max(posterior_probs, key=posterior_probs.get)\n",
    "        else:\n",
    "            return None"
   ]
  },
  {
   "cell_type": "code",
   "execution_count": 101,
   "metadata": {
    "id": "a9qYeMPMz-xl"
   },
   "outputs": [],
   "source": [
    "# 1. กำหนด Features และ Target\n",
    "categorical_feats = ['Outlook', 'Temperature', 'Humidity', 'Windy']\n",
    "numerical_feats = []\n",
    "target_feat = 'Play'\n",
    "\n",
    "# 2. fit model\n",
    "nb_model = NaiveBayesClassifier(categorical_feats, numerical_feats, target_feat, use_add1_smoothing=False)\n",
    "nb_model.fit(df)"
   ]
  },
  {
   "cell_type": "markdown",
   "metadata": {
    "id": "E-GRjksB0wcz"
   },
   "source": [
    "## Step 1 : Calculate Prior Probability of Classes P(y)"
   ]
  },
  {
   "cell_type": "code",
   "execution_count": 102,
   "metadata": {
    "colab": {
     "base_uri": "https://localhost:8080/"
    },
    "id": "8PQIWVeN01JP",
    "outputId": "06b38a88-bb4d-498b-b824-aa82f26bf401"
   },
   "outputs": [
    {
     "name": "stdout",
     "output_type": "stream",
     "text": [
      "\n",
      "P(Yes) = 0.6429\n",
      "P(No) = 0.3571\n"
     ]
    }
   ],
   "source": [
    "# Step 1 : Calculate Prior Probability of Classes P(C)\n",
    "print(f\"\\nP(Yes) = {nb_model.prior_probs['Yes']:.4f}\")\n",
    "print(f\"P(No) = {nb_model.prior_probs['No']:.4f}\")"
   ]
  },
  {
   "cell_type": "markdown",
   "metadata": {
    "id": "U6-X7eks0_xx"
   },
   "source": [
    "## Step 2 : Calculate the Likelihood Table for all features"
   ]
  },
  {
   "cell_type": "code",
   "execution_count": 103,
   "metadata": {
    "colab": {
     "base_uri": "https://localhost:8080/"
    },
    "id": "vXcLP9Ts1Bib",
    "outputId": "69f08725-ce37-464a-d625-669bfcdc8151"
   },
   "outputs": [
    {
     "name": "stdout",
     "output_type": "stream",
     "text": [
      "\n",
      "=== Likelihood Table for Outlook ===\n",
      "Overcast  | P(Overcast  | Yes) : 4/9    = 0.44 | P(Overcast  | No) : 0/5    = 0.00\n",
      "Rain      | P(Rain      | Yes) : 2/9    = 0.22 | P(Rain      | No) : 3/5    = 0.60\n",
      "Sunny     | P(Sunny     | Yes) : 3/9    = 0.33 | P(Sunny     | No) : 2/5    = 0.40\n",
      "\n",
      "=== Likelihood Table for Temperature ===\n",
      "Cool      | P(Cool      | Yes) : 3/9    = 0.33 | P(Cool      | No) : 1/5    = 0.20\n",
      "Hot       | P(Hot       | Yes) : 2/9    = 0.22 | P(Hot       | No) : 2/5    = 0.40\n",
      "Mild      | P(Mild      | Yes) : 4/9    = 0.44 | P(Mild      | No) : 2/5    = 0.40\n",
      "\n",
      "=== Likelihood Table for Humidity ===\n",
      "High      | P(High      | Yes) : 3/9    = 0.33 | P(High      | No) : 4/5    = 0.80\n",
      "Normal    | P(Normal    | Yes) : 6/9    = 0.67 | P(Normal    | No) : 1/5    = 0.20\n",
      "\n",
      "=== Likelihood Table for Windy ===\n",
      "Strong    | P(Strong    | Yes) : 3/9    = 0.33 | P(Strong    | No) : 3/5    = 0.60\n",
      "Weak      | P(Weak      | Yes) : 6/9    = 0.67 | P(Weak      | No) : 2/5    = 0.40\n"
     ]
    }
   ],
   "source": [
    "# Step 2 : Calculate the Likelihood Table for all features\n",
    "\n",
    "total_yes_samples = df[df[target_feat] == 'Yes'].shape[0]\n",
    "total_no_samples = df[df[target_feat] == 'No'].shape[0]\n",
    "\n",
    "for feature_name in categorical_feats:\n",
    "    print(f\"\\n=== Likelihood Table for {feature_name.capitalize()} ===\")\n",
    "    num_unique_feature_values = df[feature_name].nunique()\n",
    "    for feat_value in sorted(df[feature_name].unique()):\n",
    "        display_feat_value = feat_value\n",
    "\n",
    "        count_feat_class_yes = df[(df[target_feat] == 'Yes') & (df[feature_name] == feat_value)].shape[0]\n",
    "        count_feat_class_no = df[(df[target_feat] == 'No') & (df[feature_name] == feat_value)].shape[0]\n",
    "\n",
    "        denominator_yes = total_yes_samples + num_unique_feature_values\n",
    "        denominator_no = total_no_samples + num_unique_feature_values\n",
    "\n",
    "        if nb_model.use_add1_smoothing:\n",
    "            fraction_yes_str = f\"{count_feat_class_yes + 1}/{total_yes_samples + num_unique_feature_values}\"\n",
    "            fraction_no_str = f\"{count_feat_class_no + 1}/{total_no_samples + num_unique_feature_values}\"\n",
    "        else: # กรณีไม่มี smoothing\n",
    "            fraction_yes_str = f\"{count_feat_class_yes}/{total_yes_samples}\" if total_yes_samples > 0 else \"0/0\"\n",
    "            fraction_no_str = f\"{count_feat_class_no}/{total_no_samples}\" if total_no_samples > 0 else \"0/0\"\n",
    "\n",
    "        yes_prob = nb_model.likelihoods_categorical['Yes'][feature_name].get(feat_value, 0)\n",
    "        no_prob = nb_model.likelihoods_categorical['No'][feature_name].get(feat_value, 0)\n",
    "\n",
    "        print(f\"{display_feat_value:9s} | P({display_feat_value:9s} | Yes) : {fraction_yes_str:<6s} = {yes_prob:.2f} | P({display_feat_value:9s} | No) : {fraction_no_str:<6s} = {no_prob:.2f}\")"
   ]
  },
  {
   "cell_type": "markdown",
   "metadata": {
    "id": "HeT3jX0JQgaW"
   },
   "source": [
    "### 3. Set query"
   ]
  },
  {
   "cell_type": "code",
   "execution_count": 104,
   "metadata": {
    "id": "mBcJT71F7zwC"
   },
   "outputs": [],
   "source": [
    "query = {\n",
    "    'Outlook': 'Rain',\n",
    "    'Temperature': 'Cool',\n",
    "    'Humidity': 'High',\n",
    "    'Windy': 'Strong'\n",
    "}"
   ]
  },
  {
   "cell_type": "markdown",
   "metadata": {
    "id": "XlgNmDkOQzYP"
   },
   "source": [
    "### 4. Posterior Probabilities (Unnormalized)"
   ]
  },
  {
   "cell_type": "code",
   "execution_count": 105,
   "metadata": {
    "colab": {
     "base_uri": "https://localhost:8080/"
    },
    "id": "Sc-A7clU7nwt",
    "outputId": "c1c36010-6e6a-46f6-b36f-7ec7c22da0e3"
   },
   "outputs": [
    {
     "name": "stdout",
     "output_type": "stream",
     "text": [
      "\n",
      "--- Posterior Probability for 'Yes' ---\n",
      "P(Yes) = 0.6429 | P(Outlook=Rain|Yes) = 0.2222 | P(Temperature=Cool|Yes) = 0.3333 | P(Humidity=High|Yes) = 0.3333 | P(Windy=Strong|Yes) = 0.3333\n",
      "P(X|Yes) * P(Yes) = (0.6429 * 0.2222 * 0.3333 * 0.3333 * 0.3333)\n",
      "P(X|Yes) * P(Yes) = 0.0053\n",
      "\n",
      "--- Posterior Probability for 'No' ---\n",
      "P(No) = 0.3571 | P(Outlook=Rain|No) = 0.6000 | P(Temperature=Cool|No) = 0.2000 | P(Humidity=High|No) = 0.8000 | P(Windy=Strong|No) = 0.6000\n",
      "P(X|No) * P(No) = (0.3571 * 0.6000 * 0.2000 * 0.8000 * 0.6000)\n",
      "P(X|No) * P(No) = 0.0206\n"
     ]
    }
   ],
   "source": [
    "# 4. คำนวณและแสดง Posterior Probabilities (Unnormalized)\n",
    "print(\"\\n--- Posterior Probability for 'Yes' ---\")\n",
    "score_yes, terms_numerical_yes, terms_display_yes = nb_model._calculate_unnormalized_posterior_with_terms(query, 'Yes')\n",
    "\n",
    "print(f\"{' | '.join(terms_display_yes)}\")\n",
    "# Display with 4 decimal places for consistency\n",
    "formatted_numerical_terms_yes = [f\"{float(term):.4f}\" for term in terms_numerical_yes]\n",
    "print(f\"P(X|Yes) * P(Yes) = ({' * '.join(formatted_numerical_terms_yes)})\")\n",
    "print(f\"P(X|Yes) * P(Yes) = {score_yes:.4f}\")\n",
    "\n",
    "\n",
    "print(\"\\n--- Posterior Probability for 'No' ---\")\n",
    "score_no, terms_numerical_no, terms_display_no = nb_model._calculate_unnormalized_posterior_with_terms(query, 'No')\n",
    "\n",
    "print(f\"{' | '.join(terms_display_no)}\")\n",
    "# Display with 4 decimal places for consistency\n",
    "formatted_numerical_terms_no = [f\"{float(term):.4f}\" for term in terms_numerical_no]\n",
    "print(f\"P(X|No) * P(No) = ({' * '.join(formatted_numerical_terms_no)})\")\n",
    "print(f\"P(X|No) * P(No) = {score_no:.4f}\")"
   ]
  },
  {
   "cell_type": "markdown",
   "metadata": {
    "id": "6z4uIhk1Rt5-"
   },
   "source": [
    "### 5. Normalized Posterior Probabilities"
   ]
  },
  {
   "cell_type": "code",
   "execution_count": 106,
   "metadata": {
    "colab": {
     "base_uri": "https://localhost:8080/"
    },
    "id": "dN_xTSW88wJb",
    "outputId": "9832546c-be10-4efb-e9f0-145fe87c6778"
   },
   "outputs": [
    {
     "name": "stdout",
     "output_type": "stream",
     "text": [
      "\n",
      "--- Final Decision ---\n",
      "P(Play=Yes | x) = 0.0053 (20.46%)\n",
      "P(Play=No  | x) = 0.0206 (79.54%)\n"
     ]
    }
   ],
   "source": [
    "# 5. Final Decision (Normalized Posterior Probabilities)\n",
    "total_unnormalized_score = score_yes + score_no\n",
    "\n",
    "posterior_yes_normalized = (score_yes / total_unnormalized_score) * 100 if total_unnormalized_score > 0 else 0\n",
    "posterior_no_normalized = (score_no / total_unnormalized_score) * 100 if total_unnormalized_score > 0 else 0\n",
    "\n",
    "print(\"\\n--- Final Decision ---\")\n",
    "print(f\"P(Play=Yes | x) = {score_yes:.4f} ({posterior_yes_normalized:.2f}%)\")\n",
    "print(f\"P(Play=No  | x) = {score_no:.4f} ({posterior_no_normalized:.2f}%)\")"
   ]
  },
  {
   "cell_type": "markdown",
   "metadata": {
    "id": "WXIXpDSIgBqR"
   },
   "source": [
    "# NaiveBayesClassifier From SKlearn"
   ]
  },
  {
   "cell_type": "code",
   "execution_count": 107,
   "metadata": {
    "colab": {
     "base_uri": "https://localhost:8080/"
    },
    "id": "yoEq2Zo5Pfjg",
    "outputId": "7c279dc0-c13a-4374-860e-28689c67d851"
   },
   "outputs": [
    {
     "name": "stdout",
     "output_type": "stream",
     "text": [
      "=== Likelihood Table ===\n",
      "Outlook=Overcast | P(Overcast | No) : (0 + 1e-10)/(5 + 1e-10*10) = 0.0000\n",
      "Outlook=Overcast | P(Overcast | Yes) : (4 + 1e-10)/(9 + 1e-10*10) = 0.4444\n",
      "--------------------------------------------------\n",
      "Outlook=Rain | P(Rain | No) : (3 + 1e-10)/(5 + 1e-10*10) = 0.6000\n",
      "Outlook=Rain | P(Rain | Yes) : (2 + 1e-10)/(9 + 1e-10*10) = 0.2222\n",
      "--------------------------------------------------\n",
      "Outlook=Sunny | P(Sunny | No) : (2 + 1e-10)/(5 + 1e-10*10) = 0.4000\n",
      "Outlook=Sunny | P(Sunny | Yes) : (3 + 1e-10)/(9 + 1e-10*10) = 0.3333\n",
      "--------------------------------------------------\n",
      "Temperature=Cool | P(Cool | No) : (1 + 1e-10)/(5 + 1e-10*10) = 0.2000\n",
      "Temperature=Cool | P(Cool | Yes) : (3 + 1e-10)/(9 + 1e-10*10) = 0.3333\n",
      "--------------------------------------------------\n",
      "Temperature=Hot | P(Hot | No) : (2 + 1e-10)/(5 + 1e-10*10) = 0.4000\n",
      "Temperature=Hot | P(Hot | Yes) : (2 + 1e-10)/(9 + 1e-10*10) = 0.2222\n",
      "--------------------------------------------------\n",
      "Temperature=Mild | P(Mild | No) : (2 + 1e-10)/(5 + 1e-10*10) = 0.4000\n",
      "Temperature=Mild | P(Mild | Yes) : (4 + 1e-10)/(9 + 1e-10*10) = 0.4444\n",
      "--------------------------------------------------\n",
      "Humidity=High | P(High | No) : (4 + 1e-10)/(5 + 1e-10*10) = 0.8000\n",
      "Humidity=High | P(High | Yes) : (3 + 1e-10)/(9 + 1e-10*10) = 0.3333\n",
      "--------------------------------------------------\n",
      "Humidity=Normal | P(Normal | No) : (1 + 1e-10)/(5 + 1e-10*10) = 0.2000\n",
      "Humidity=Normal | P(Normal | Yes) : (6 + 1e-10)/(9 + 1e-10*10) = 0.6667\n",
      "--------------------------------------------------\n",
      "Windy=Strong | P(Strong | No) : (3 + 1e-10)/(5 + 1e-10*10) = 0.6000\n",
      "Windy=Strong | P(Strong | Yes) : (3 + 1e-10)/(9 + 1e-10*10) = 0.3333\n",
      "--------------------------------------------------\n",
      "Windy=Weak | P(Weak | No) : (2 + 1e-10)/(5 + 1e-10*10) = 0.4000\n",
      "Windy=Weak | P(Weak | Yes) : (6 + 1e-10)/(9 + 1e-10*10) = 0.6667\n",
      "--------------------------------------------------\n"
     ]
    }
   ],
   "source": [
    "import pandas as pd\n",
    "import numpy as np\n",
    "from sklearn.naive_bayes import MultinomialNB\n",
    "from sklearn.preprocessing import LabelEncoder\n",
    "\n",
    "# --- Load data ---\n",
    "target = 'Play'\n",
    "\n",
    "# --- One-hot encoding ---\n",
    "le_y = LabelEncoder()\n",
    "X = pd.get_dummies(df.drop(columns=[target]))\n",
    "y = le_y.fit_transform(df[target])\n",
    "\n",
    "# --- Train MultinomialNB ---\n",
    "alpha = 1e-10 # no add-1 smothing (but if alpha = 1 , use add-1 smothing)\n",
    "model = MultinomialNB(alpha=alpha)\n",
    "model.fit(X, y)\n",
    "\n",
    "# --- Extract Likelihood Table ---\n",
    "class_labels = le_y.inverse_transform(np.arange(len(le_y.classes_)))\n",
    "features = X.columns\n",
    "class_counts = np.bincount(y)\n",
    "n_features = X.shape[1]\n",
    "\n",
    "print(\"=== Likelihood Table ===\")\n",
    "for feat in features:\n",
    "    feat_name, val_name = feat.split('_', 1)\n",
    "    idx = X.columns.get_loc(feat)\n",
    "    for ci, cls in enumerate(class_labels):\n",
    "        count = model.feature_count_[ci, idx]\n",
    "        total = class_counts[ci]\n",
    "        # ความน่าจะเป็นแบบ smoothing\n",
    "        prob_smooth = (count + alpha) / (total + alpha * n_features)\n",
    "        print(f\"{feat_name}={val_name} | P({val_name} | {cls}) : ({int(count)} + {alpha})/({int(total)} + {alpha}*{n_features}) = {prob_smooth:.4f}\")\n",
    "    print('-'*50)\n"
   ]
  },
  {
   "cell_type": "code",
   "execution_count": 108,
   "metadata": {
    "colab": {
     "base_uri": "https://localhost:8080/"
    },
    "id": "pysmbIvPUBFl",
    "outputId": "005bb5ad-32e2-4f47-ee7c-f0a4b9a24b3f"
   },
   "outputs": [
    {
     "name": "stdout",
     "output_type": "stream",
     "text": [
      "--- Final Decision ---\n",
      "P(Play=No | x) = 0.7954 (79.54%)\n",
      "P(Play=Yes | x) = 0.2046 (20.46%)\n"
     ]
    }
   ],
   "source": [
    "# แปลง query เป็น one-hot vector ให้ตรงกับ X.columns\n",
    "def query_to_vector(query, feature_columns):\n",
    "    vec_dict = {col:0 for col in feature_columns}\n",
    "    for feat, val in query.items():\n",
    "        col_name = f\"{feat}_{val}\"\n",
    "        if col_name in vec_dict:\n",
    "            vec_dict[col_name] = 1\n",
    "        else:\n",
    "            raise ValueError(f\"Value '{val}' for feature '{feat}' not found in training data.\")\n",
    "    return pd.DataFrame([vec_dict])\n",
    "\n",
    "X_query = query_to_vector(query, X.columns)\n",
    "\n",
    "# --- Predict probabilities ---\n",
    "probs = model.predict_proba(X_query)[0]  # จะได้ array ของความน่าจะเป็นแต่ละ class\n",
    "classes = le_y.inverse_transform(np.arange(len(probs)))\n",
    "\n",
    "print('--- Final Decision ---')\n",
    "for c, p in zip(classes, probs):\n",
    "    print(f\"P(Play={c} | x) = {p:.4f} ({p*100:.2f}%)\")"
   ]
  },
  {
   "cell_type": "markdown",
   "metadata": {
    "id": "fLXGvSboSUwk"
   },
   "source": [
    "# Homework\n",
    "\n",
    "1. จาก Naive Bayesian model ที่ได้สร้างไว้ (ใช้ model จากตัวอย่างด้านบน(SKlearn หรือ Scratch) ก็ได้) แล้วนั้นให้ทำการ query ข้อมูลเข้าโมเดลโดยมีเงื่อนไขการเลือก query จาก dataset ดังนี้\n",
    " - ทำการเลือก query จาก dataset ลำดับที่ m (โดยที่ m คือเลขท้ายประจำตัวของนักศึกษา => ลงท้าย 0 ; m=10)\n",
    " - ทำการเปลี่ยน feature ลำดับที่ n (โดยที่ n คือเลขท้ายประจำตัวของนักศึกษา%4 )\n",
    "\n",
    "EX P'TA รหัส 65010100 (m = 0, n = 0) เลือก query ที่ 0 และ\n",
    "feature ที่ 0 (Outlook)\n",
    "\n",
    "```python\n",
    "query(ก่อนเปลี่ยน) =\n",
    "{'Outlook': 'Sunny',\n",
    "'Temperature': 'Hot',\n",
    "'Humidity': 'High',\n",
    "'Windy': 'Week'}\n",
    "\n",
    "feature ที่ 0 (Outlook) เปลี่ยนจาก 'Sunny' เป็นค่าอื่น\n",
    "\n",
    "query(หลังเปลี่ยน) =\n",
    "{'Outlook': 'Rain',\n",
    "'Temperature': 'Hot',\n",
    "'Humidity': 'High',\n",
    "'Windy': 'Week'}\n",
    "```\n",
    "หลังจากทำการเปลี่ยน query ตามเงื่อนไขเรียบร้อยแล้วนั้นจงแสดงค่าของ Posterior Probability ของ (yes และ no) พร้อมทั้งระบุว่าจาก query ที่มีการเปลี่ยนแปลงแล้วนั้น model ทำนาย class ใดออกมา (ทั้งแบบใช้ Add-1 Smoothing, และไม่ใช้ Add-1 Smoothing)\n",
    "\n",
    "2. ทำการ train naive bayes model โดยที่ไม่ใช้ Add-1 Smoothing\n",
    "    - train_test_split(test_size = 0.3, random_state = k) ; k = เลขท้าย 3 ตัวรหัสนักศึกษา\n",
    "    - ทำการแสดงค่า Likelihood Table ของแต่ละ feature\n",
    "    - test_data แต่ละตัวให้ทำการแสดง Posterior Probability ของทั้ง 2 class ('No', 'Yes')\n",
    "    - แสดงค่า Accuracy ที่ได้\n",
    "\n",
    "EX P'TA รหัส 65010089 (k = 089) train_test_split(test_size = 0.3, random_state = 89)\n",
    "\n",
    "3. ทำเหมือนกับกับข้อที่ 2 โดยที่ใช้ Add-1 Smoothing\n",
    "4. หลังจากได้ทำทั้ง 2 model จากข้อ2 และ ข้อ3 (ทั้งแบบใช้ Add-1 Smoothing, และไม่ใช้ Add-1 Smoothing) แล้วนั้นหลังจากที่นักศึกษาได้รับ test_data จากการ split แล้วนั้น นักศึกษาคิดว่าควรใช้ model รูปแบบใดจึงจะเหมาะสมที่สุดเพราะเหตุใด\n",
    "\n",
    "5. จงระบุเหตุการณ์หรือสถานการณ์ว่าข้อมูลรูปแบบใดควรใช้ Add-1 Smoothing, และไม่ใช้ Add-1 Smoothing"
   ]
  },
  {
   "cell_type": "code",
   "execution_count": 109,
   "metadata": {
    "colab": {
     "base_uri": "https://localhost:8080/",
     "height": 523
    },
    "id": "UprUsyGlT-uW",
    "outputId": "99aea668-e0af-42e5-88fb-a2ae02c1b6e6"
   },
   "outputs": [
    {
     "name": "stdout",
     "output_type": "stream",
     "text": [
      "Path to dataset files: /Users/7n100489/.cache/kagglehub/datasets/dheemanthbhat/simple-weather-forecast/versions/1\n",
      "['weather_forecast.csv']\n"
     ]
    },
    {
     "data": {
      "text/html": [
       "<div>\n",
       "<style scoped>\n",
       "    .dataframe tbody tr th:only-of-type {\n",
       "        vertical-align: middle;\n",
       "    }\n",
       "\n",
       "    .dataframe tbody tr th {\n",
       "        vertical-align: top;\n",
       "    }\n",
       "\n",
       "    .dataframe thead th {\n",
       "        text-align: right;\n",
       "    }\n",
       "</style>\n",
       "<table border=\"1\" class=\"dataframe\">\n",
       "  <thead>\n",
       "    <tr style=\"text-align: right;\">\n",
       "      <th></th>\n",
       "      <th>Outlook</th>\n",
       "      <th>Temperature</th>\n",
       "      <th>Humidity</th>\n",
       "      <th>Windy</th>\n",
       "      <th>Play</th>\n",
       "    </tr>\n",
       "  </thead>\n",
       "  <tbody>\n",
       "    <tr>\n",
       "      <th>0</th>\n",
       "      <td>Sunny</td>\n",
       "      <td>Hot</td>\n",
       "      <td>High</td>\n",
       "      <td>Weak</td>\n",
       "      <td>No</td>\n",
       "    </tr>\n",
       "    <tr>\n",
       "      <th>1</th>\n",
       "      <td>Sunny</td>\n",
       "      <td>Hot</td>\n",
       "      <td>High</td>\n",
       "      <td>Strong</td>\n",
       "      <td>No</td>\n",
       "    </tr>\n",
       "    <tr>\n",
       "      <th>2</th>\n",
       "      <td>Overcast</td>\n",
       "      <td>Hot</td>\n",
       "      <td>High</td>\n",
       "      <td>Weak</td>\n",
       "      <td>Yes</td>\n",
       "    </tr>\n",
       "    <tr>\n",
       "      <th>3</th>\n",
       "      <td>Rain</td>\n",
       "      <td>Mild</td>\n",
       "      <td>High</td>\n",
       "      <td>Weak</td>\n",
       "      <td>Yes</td>\n",
       "    </tr>\n",
       "    <tr>\n",
       "      <th>4</th>\n",
       "      <td>Rain</td>\n",
       "      <td>Cool</td>\n",
       "      <td>Normal</td>\n",
       "      <td>Weak</td>\n",
       "      <td>Yes</td>\n",
       "    </tr>\n",
       "    <tr>\n",
       "      <th>5</th>\n",
       "      <td>Rain</td>\n",
       "      <td>Cool</td>\n",
       "      <td>Normal</td>\n",
       "      <td>Strong</td>\n",
       "      <td>No</td>\n",
       "    </tr>\n",
       "    <tr>\n",
       "      <th>6</th>\n",
       "      <td>Overcast</td>\n",
       "      <td>Cool</td>\n",
       "      <td>Normal</td>\n",
       "      <td>Strong</td>\n",
       "      <td>Yes</td>\n",
       "    </tr>\n",
       "    <tr>\n",
       "      <th>7</th>\n",
       "      <td>Sunny</td>\n",
       "      <td>Mild</td>\n",
       "      <td>High</td>\n",
       "      <td>Weak</td>\n",
       "      <td>No</td>\n",
       "    </tr>\n",
       "    <tr>\n",
       "      <th>8</th>\n",
       "      <td>Sunny</td>\n",
       "      <td>Cool</td>\n",
       "      <td>Normal</td>\n",
       "      <td>Weak</td>\n",
       "      <td>Yes</td>\n",
       "    </tr>\n",
       "    <tr>\n",
       "      <th>9</th>\n",
       "      <td>Rain</td>\n",
       "      <td>Mild</td>\n",
       "      <td>Normal</td>\n",
       "      <td>Weak</td>\n",
       "      <td>Yes</td>\n",
       "    </tr>\n",
       "    <tr>\n",
       "      <th>10</th>\n",
       "      <td>Sunny</td>\n",
       "      <td>Mild</td>\n",
       "      <td>Normal</td>\n",
       "      <td>Strong</td>\n",
       "      <td>Yes</td>\n",
       "    </tr>\n",
       "    <tr>\n",
       "      <th>11</th>\n",
       "      <td>Overcast</td>\n",
       "      <td>Mild</td>\n",
       "      <td>High</td>\n",
       "      <td>Strong</td>\n",
       "      <td>Yes</td>\n",
       "    </tr>\n",
       "    <tr>\n",
       "      <th>12</th>\n",
       "      <td>Overcast</td>\n",
       "      <td>Hot</td>\n",
       "      <td>Normal</td>\n",
       "      <td>Weak</td>\n",
       "      <td>Yes</td>\n",
       "    </tr>\n",
       "    <tr>\n",
       "      <th>13</th>\n",
       "      <td>Rain</td>\n",
       "      <td>Mild</td>\n",
       "      <td>High</td>\n",
       "      <td>Strong</td>\n",
       "      <td>No</td>\n",
       "    </tr>\n",
       "  </tbody>\n",
       "</table>\n",
       "</div>"
      ],
      "text/plain": [
       "     Outlook Temperature Humidity   Windy Play\n",
       "0      Sunny         Hot     High    Weak   No\n",
       "1      Sunny         Hot     High  Strong   No\n",
       "2   Overcast         Hot     High    Weak  Yes\n",
       "3       Rain        Mild     High    Weak  Yes\n",
       "4       Rain        Cool   Normal    Weak  Yes\n",
       "5       Rain        Cool   Normal  Strong   No\n",
       "6   Overcast        Cool   Normal  Strong  Yes\n",
       "7      Sunny        Mild     High    Weak   No\n",
       "8      Sunny        Cool   Normal    Weak  Yes\n",
       "9       Rain        Mild   Normal    Weak  Yes\n",
       "10     Sunny        Mild   Normal  Strong  Yes\n",
       "11  Overcast        Mild     High  Strong  Yes\n",
       "12  Overcast         Hot   Normal    Weak  Yes\n",
       "13      Rain        Mild     High  Strong   No"
      ]
     },
     "execution_count": 109,
     "metadata": {},
     "output_type": "execute_result"
    }
   ],
   "source": [
    "import kagglehub\n",
    "import os\n",
    "import pandas as pd\n",
    "import numpy as np\n",
    "from sklearn.model_selection import train_test_split\n",
    "from math import sqrt, pi, exp\n",
    "\n",
    "# Download latest version\n",
    "folder_path = kagglehub.dataset_download(\"dheemanthbhat/simple-weather-forecast\")\n",
    "\n",
    "print(\"Path to dataset files:\", folder_path)\n",
    "print(os.listdir(folder_path))\n",
    "\n",
    "csv_path = os.path.join(folder_path, 'weather_forecast.csv')\n",
    "df = pd.read_csv(csv_path)\n",
    "df"
   ]
  },
  {
   "cell_type": "code",
   "execution_count": 110,
   "metadata": {
    "id": "JfeYhkcukP1P"
   },
   "outputs": [],
   "source": [
    "## ข้อที่ 1\n",
    "categorical_feats = [\"Outlook\", \"Temperature\", \"Humidity\", \"Windy\"]\n",
    "numerical_feats = []\n",
    "target_feat = \"Play\"\n",
    "\n",
    "# fit model\n",
    "nb_model_Ex1 = NaiveBayesClassifier(\n",
    "    categorical_feats, numerical_feats, target_feat, use_add1_smoothing=False\n",
    ")\n",
    "nb_model_Ex1.fit(df)"
   ]
  },
  {
   "cell_type": "code",
   "execution_count": 111,
   "metadata": {},
   "outputs": [
    {
     "name": "stdout",
     "output_type": "stream",
     "text": [
      "M =  7\n",
      "N =  1\n"
     ]
    }
   ],
   "source": [
    "student_id = 65010077\n",
    "m = student_id % 10\n",
    "n = student_id % 4\n",
    "\n",
    "print(\"M = \", m)\n",
    "print(\"N = \", n)"
   ]
  },
  {
   "cell_type": "code",
   "execution_count": 112,
   "metadata": {},
   "outputs": [],
   "source": [
    "categorical_feats = ['Outlook', 'Temperature', 'Humidity', 'Windy']\n",
    "target_feat = 'Play'"
   ]
  },
  {
   "cell_type": "code",
   "execution_count": 113,
   "metadata": {},
   "outputs": [
    {
     "name": "stdout",
     "output_type": "stream",
     "text": [
      "Query Original: {'Outlook': 'Sunny', 'Temperature': 'Mild', 'Humidity': 'High', 'Windy': 'Weak'}\n"
     ]
    }
   ],
   "source": [
    "query_original = df.iloc[m][categorical_feats].to_dict()\n",
    "print(\"Query Original:\", query_original)"
   ]
  },
  {
   "cell_type": "code",
   "execution_count": 114,
   "metadata": {},
   "outputs": [
    {
     "name": "stdout",
     "output_type": "stream",
     "text": [
      "After modification: {'Outlook': 'Sunny', 'Temperature': 'Hot', 'Humidity': 'High', 'Windy': 'Weak'}\n"
     ]
    }
   ],
   "source": [
    "feat_to_change = categorical_feats[n]\n",
    "possible_vals = df[feat_to_change].unique().tolist()\n",
    "new_val = [v for v in possible_vals if v != query_original[feat_to_change]][0]\n",
    "query_modified = query_original.copy()\n",
    "query_modified[feat_to_change] = new_val\n",
    "print(\"After modification:\", query_modified)"
   ]
  },
  {
   "cell_type": "code",
   "execution_count": 115,
   "metadata": {},
   "outputs": [],
   "source": [
    "nb_no_smooth = NaiveBayesClassifier(\n",
    "    categorical_feats, numerical_feats, target_feat, use_add1_smoothing=False\n",
    ")\n",
    "nb_no_smooth.fit(df)\n",
    "nb_add1 = NaiveBayesClassifier(\n",
    "    categorical_feats, numerical_feats, target_feat, use_add1_smoothing=True\n",
    ")\n",
    "nb_add1.fit(df)"
   ]
  },
  {
   "cell_type": "code",
   "execution_count": 144,
   "metadata": {},
   "outputs": [
    {
     "name": "stdout",
     "output_type": "stream",
     "text": [
      "\n",
      "Posterior Probability (No Add-1):\n",
      "P(Yes) = 0.0786\n",
      "P(No) = 0.9214\n",
      "Predicted class (No Add-1): No\n",
      "\n",
      "Posterior Probability (Add-1):\n",
      "P(Yes) = 0.1899\n",
      "P(No) = 0.8101\n",
      "Predicted class (Add-1): No\n"
     ]
    }
   ],
   "source": [
    "posterior_no_smooth = nb_no_smooth.predict_proba(query_modified)\n",
    "posterior_smooth = nb_add1.predict_proba(query_modified)\n",
    "\n",
    "pred_class_no_smooth = nb_no_smooth.predict(query_modified)\n",
    "pred_class_smooth = nb_add1.predict(query_modified)\n",
    "\n",
    "print(\"\\nPosterior Probability (No Add-1):\")\n",
    "print(f\"P(Yes) = {posterior_no_smooth.get('Yes', 0):.4f}\")\n",
    "print(f\"P(No) = {posterior_no_smooth.get('No', 0):.4f}\")\n",
    "print(f\"Predicted class (No Add-1): {pred_class_no_smooth}\")\n",
    "\n",
    "print(\"\\nPosterior Probability (Add-1):\")\n",
    "print(f\"P(Yes) = {posterior_smooth.get('Yes', 0):.4f}\")\n",
    "print(f\"P(No) = {posterior_smooth.get('No', 0):.4f}\")\n",
    "print(f\"Predicted class (Add-1): {pred_class_smooth}\")"
   ]
  },
  {
   "cell_type": "markdown",
   "metadata": {},
   "source": [
    "2. ทำการ train naive bayes model โดยที่ไม่ใช้ Add-1 Smoothing"
   ]
  },
  {
   "cell_type": "code",
   "execution_count": 145,
   "metadata": {},
   "outputs": [
    {
     "name": "stdout",
     "output_type": "stream",
     "text": [
      "random_state: 77\n"
     ]
    }
   ],
   "source": [
    "random_state = k = int(str(student_id)[-3:])\n",
    "print(\"random_state:\", random_state)\n",
    "train_df, test_df = train_test_split(df, test_size=0.3, random_state=random_state)"
   ]
  },
  {
   "cell_type": "code",
   "execution_count": 146,
   "metadata": {},
   "outputs": [],
   "source": [
    "nb_no_smooth = NaiveBayesClassifier(\n",
    "    categorical_feats, numerical_feats, target_feat, use_add1_smoothing=False\n",
    ")\n",
    "nb_no_smooth.fit(train_df)"
   ]
  },
  {
   "cell_type": "code",
   "execution_count": 147,
   "metadata": {},
   "outputs": [],
   "source": [
    "def show_likelihood_tables(\n",
    "    df, categorical_feats, target_feat, use_add1_smoothing=False\n",
    "):\n",
    "    total_yes_samples = df[df[target_feat] == \"Yes\"].shape[0]\n",
    "    total_no_samples = df[df[target_feat] == \"No\"].shape[0]\n",
    "\n",
    "    for feature_name in categorical_feats:\n",
    "        print(f\"\\n=== Likelihood Table for {feature_name.capitalize()} ===\")\n",
    "        num_unique_feature_values = df[feature_name].nunique()\n",
    "\n",
    "        for feat_value in sorted(df[feature_name].unique()):\n",
    "            count_feat_class_yes = df[\n",
    "                (df[target_feat] == \"Yes\") & (df[feature_name] == feat_value)\n",
    "            ].shape[0]\n",
    "            count_feat_class_no = df[\n",
    "                (df[target_feat] == \"No\") & (df[feature_name] == feat_value)\n",
    "            ].shape[0]\n",
    "\n",
    "            if use_add1_smoothing:\n",
    "                prob_yes = (count_feat_class_yes + 1) / (\n",
    "                    total_yes_samples + num_unique_feature_values\n",
    "                )\n",
    "                prob_no = (count_feat_class_no + 1) / (\n",
    "                    total_no_samples + num_unique_feature_values\n",
    "                )\n",
    "                fraction_yes_str = f\"{count_feat_class_yes + 1}/{total_yes_samples + num_unique_feature_values}\"\n",
    "                fraction_no_str = f\"{count_feat_class_no + 1}/{total_no_samples + num_unique_feature_values}\"\n",
    "            else:\n",
    "                prob_yes = (\n",
    "                    count_feat_class_yes / total_yes_samples\n",
    "                    if total_yes_samples > 0\n",
    "                    else 0\n",
    "                )\n",
    "                prob_no = (\n",
    "                    count_feat_class_no / total_no_samples\n",
    "                    if total_no_samples > 0\n",
    "                    else 0\n",
    "                )\n",
    "                fraction_yes_str = f\"{count_feat_class_yes}/{total_yes_samples}\"\n",
    "                fraction_no_str = f\"{count_feat_class_no}/{total_no_samples}\"\n",
    "\n",
    "            print(\n",
    "                f\"{feat_value:9s} | P({feat_value:9s} | Yes) : {fraction_yes_str:<6s} = {prob_yes:.2f} \"\n",
    "                f\"| P({feat_value:9s} | No) : {fraction_no_str:<6s} = {prob_no:.2f}\"\n",
    "            )\n"
   ]
  },
  {
   "cell_type": "code",
   "execution_count": 148,
   "metadata": {},
   "outputs": [],
   "source": [
    "from sklearn.metrics import accuracy_score\n",
    "\n",
    "def evaluate_naive_bayes(nb_model, test_df, categorical_feats, target_feat):\n",
    "    preds = []\n",
    "    print(\"\\n=== Posterior Probabilities on Test Data ===\")\n",
    "    for i, row in test_df.iterrows():\n",
    "        query = row[categorical_feats].to_dict()\n",
    "        posterior = nb_model.predict_proba(query)\n",
    "        predicted_class = nb_model.predict(query)\n",
    "        preds.append(predicted_class)\n",
    "        print(\n",
    "            f\"Test sample {i}: \"\n",
    "            f\"P(Yes) = {posterior.get('Yes', 0):.4f}, \"\n",
    "            f\"P(No)  = {posterior.get('No', 0):.4f}, \"\n",
    "            f\"Predicted = {predicted_class}\"\n",
    "        )\n",
    "    \n",
    "    accuracy = accuracy_score(test_df[target_feat].values, preds)\n",
    "    print(f\"\\nAccuracy: {accuracy:.4f}\")\n",
    "    return accuracy\n"
   ]
  },
  {
   "cell_type": "code",
   "execution_count": 149,
   "metadata": {},
   "outputs": [
    {
     "name": "stdout",
     "output_type": "stream",
     "text": [
      "\n",
      "=== Likelihood Tables (No Smoothing) ===\n",
      "\n",
      "=== Likelihood Table for Outlook ===\n",
      "Overcast  | P(Overcast  | Yes) : 2/5    = 0.40 | P(Overcast  | No) : 0/4    = 0.00\n",
      "Rain      | P(Rain      | Yes) : 1/5    = 0.20 | P(Rain      | No) : 1/4    = 0.25\n",
      "Sunny     | P(Sunny     | Yes) : 2/5    = 0.40 | P(Sunny     | No) : 3/4    = 0.75\n",
      "\n",
      "=== Likelihood Table for Temperature ===\n",
      "Cool      | P(Cool      | Yes) : 2/5    = 0.40 | P(Cool      | No) : 1/4    = 0.25\n",
      "Hot       | P(Hot       | Yes) : 1/5    = 0.20 | P(Hot       | No) : 2/4    = 0.50\n",
      "Mild      | P(Mild      | Yes) : 2/5    = 0.40 | P(Mild      | No) : 1/4    = 0.25\n",
      "\n",
      "=== Likelihood Table for Humidity ===\n",
      "High      | P(High      | Yes) : 1/5    = 0.20 | P(High      | No) : 3/4    = 0.75\n",
      "Normal    | P(Normal    | Yes) : 4/5    = 0.80 | P(Normal    | No) : 1/4    = 0.25\n",
      "\n",
      "=== Likelihood Table for Windy ===\n",
      "Strong    | P(Strong    | Yes) : 2/5    = 0.40 | P(Strong    | No) : 2/4    = 0.50\n",
      "Weak      | P(Weak      | Yes) : 3/5    = 0.60 | P(Weak      | No) : 2/4    = 0.50\n"
     ]
    }
   ],
   "source": [
    "print(\"\\n=== Likelihood Tables (No Smoothing) ===\")\n",
    "show_likelihood_tables(train_df, categorical_feats, target_feat, use_add1_smoothing=False)"
   ]
  },
  {
   "cell_type": "code",
   "execution_count": 150,
   "metadata": {},
   "outputs": [
    {
     "name": "stdout",
     "output_type": "stream",
     "text": [
      "\n",
      "=== Posterior Probabilities on Test Data ===\n",
      "Test sample 13: P(Yes) = 0.2545, P(No)  = 0.7455, Predicted = No\n",
      "Test sample 6: P(Yes) = 1.0000, P(No)  = 0.0000, Predicted = Yes\n",
      "Test sample 2: P(Yes) = 1.0000, P(No)  = 0.0000, Predicted = Yes\n",
      "Test sample 9: P(Yes) = 0.8600, P(No)  = 0.1400, Predicted = Yes\n",
      "Test sample 3: P(Yes) = 0.3386, P(No)  = 0.6614, Predicted = No\n",
      "\n",
      "Accuracy: 0.8000\n"
     ]
    }
   ],
   "source": [
    "accuracy_no_smooth = evaluate_naive_bayes(nb_no_smooth, test_df, categorical_feats, target_feat)"
   ]
  },
  {
   "cell_type": "markdown",
   "metadata": {},
   "source": [
    "3. ทำเหมือนกับกับข้อที่ 2 โดยที่ใช้ Add-1 Smoothing"
   ]
  },
  {
   "cell_type": "code",
   "execution_count": 151,
   "metadata": {},
   "outputs": [],
   "source": [
    "nb_add1 = NaiveBayesClassifier(\n",
    "    categorical_feats, numerical_feats, target_feat, use_add1_smoothing=True\n",
    ")\n",
    "nb_add1.fit(train_df)"
   ]
  },
  {
   "cell_type": "code",
   "execution_count": 152,
   "metadata": {},
   "outputs": [
    {
     "name": "stdout",
     "output_type": "stream",
     "text": [
      "\n",
      "=== Likelihood Tables (Add-1 Smoothing) ===\n",
      "\n",
      "=== Likelihood Table for Outlook ===\n",
      "Overcast  | P(Overcast  | Yes) : 3/8    = 0.38 | P(Overcast  | No) : 1/7    = 0.14\n",
      "Rain      | P(Rain      | Yes) : 2/8    = 0.25 | P(Rain      | No) : 2/7    = 0.29\n",
      "Sunny     | P(Sunny     | Yes) : 3/8    = 0.38 | P(Sunny     | No) : 4/7    = 0.57\n",
      "\n",
      "=== Likelihood Table for Temperature ===\n",
      "Cool      | P(Cool      | Yes) : 3/8    = 0.38 | P(Cool      | No) : 2/7    = 0.29\n",
      "Hot       | P(Hot       | Yes) : 2/8    = 0.25 | P(Hot       | No) : 3/7    = 0.43\n",
      "Mild      | P(Mild      | Yes) : 3/8    = 0.38 | P(Mild      | No) : 2/7    = 0.29\n",
      "\n",
      "=== Likelihood Table for Humidity ===\n",
      "High      | P(High      | Yes) : 2/7    = 0.29 | P(High      | No) : 4/6    = 0.67\n",
      "Normal    | P(Normal    | Yes) : 5/7    = 0.71 | P(Normal    | No) : 2/6    = 0.33\n",
      "\n",
      "=== Likelihood Table for Windy ===\n",
      "Strong    | P(Strong    | Yes) : 3/7    = 0.43 | P(Strong    | No) : 3/6    = 0.50\n",
      "Weak      | P(Weak      | Yes) : 4/7    = 0.57 | P(Weak      | No) : 3/6    = 0.50\n"
     ]
    }
   ],
   "source": [
    "print(\"\\n=== Likelihood Tables (Add-1 Smoothing) ===\")\n",
    "show_likelihood_tables(train_df, categorical_feats, target_feat, use_add1_smoothing=True)"
   ]
  },
  {
   "cell_type": "code",
   "execution_count": 154,
   "metadata": {},
   "outputs": [
    {
     "name": "stdout",
     "output_type": "stream",
     "text": [
      "\n",
      "=== Posterior Probabilities on Test Data ===\n",
      "Test sample 13: P(Yes) = 0.3453, P(No)  = 0.6547, Predicted = No\n",
      "Test sample 6: P(Yes) = 0.8878, P(No)  = 0.1122, Predicted = Yes\n",
      "Test sample 2: P(Yes) = 0.4839, P(No)  = 0.5161, Predicted = No\n",
      "Test sample 9: P(Yes) = 0.7785, P(No)  = 0.2215, Predicted = Yes\n",
      "Test sample 3: P(Yes) = 0.4128, P(No)  = 0.5872, Predicted = No\n",
      "\n",
      "Accuracy: 0.6000\n"
     ]
    },
    {
     "data": {
      "text/plain": [
       "0.6"
      ]
     },
     "execution_count": 154,
     "metadata": {},
     "output_type": "execute_result"
    }
   ],
   "source": [
    "evaluate_naive_bayes(nb_add1, test_df, categorical_feats, target_feat)"
   ]
  },
  {
   "cell_type": "markdown",
   "metadata": {},
   "source": [
    "4. หลังจากได้ทำทั้ง 2 model จากข้อ2 และ ข้อ3 (ทั้งแบบใช้ Add-1 Smoothing, และไม่ใช้ Add-1 Smoothing) แล้วนั้นหลังจากที่นักศึกษาได้รับ test_data จากการ split แล้วนั้น นักศึกษาคิดว่าควรใช้ model รูปแบบใดจึงจะเหมาะสมที่สุดเพราะเหตุใด"
   ]
  },
  {
   "cell_type": "markdown",
   "metadata": {},
   "source": [
    "ตอบ ควรใช้ แบบไม่ใช้ Add-1 Smoothing เพราะมี Acc ที่สูงกว่าและจะพบว่าใน Likelihood table ของเราจะมีกรณี P(Overcast | No) : 0/4 = 0.00 แต่ที่ไม่ใช้เป็นแบบ Add-1 เพราะ Dataset ของเราไม่มี data ไหนที่จะมาเข้ากรณีของ P(Overcast | No)"
   ]
  },
  {
   "cell_type": "markdown",
   "metadata": {},
   "source": [
    "5. จงระบุเหตุการณ์หรือสถานการณ์ว่าข้อมูลรูปแบบใดควรใช้ Add-1 Smoothing, และไม่ใช้ Add-1 Smoothing"
   ]
  },
  {
   "cell_type": "markdown",
   "metadata": {},
   "source": [
    "ตอบ ใช้ Add-1 Smoothing ในกรณีที่ใน Likelihood table มีค่าเป็น 0 ทำให้เมื่อนำไปใช้คำนวณความน่าจะเป็นของ class label จะทำให้ผลลัพธ์เป็น 0 ส่วนในกรณีที่ Likelihood table ไม่มีค่าเป็น 0 ก็ไม่จำเป็นต้องใช้ Add-1 Smoothing"
   ]
  }
 ],
 "metadata": {
  "colab": {
   "provenance": []
  },
  "kernelspec": {
   "display_name": ".venv",
   "language": "python",
   "name": "python3"
  },
  "language_info": {
   "codemirror_mode": {
    "name": "ipython",
    "version": 3
   },
   "file_extension": ".py",
   "mimetype": "text/x-python",
   "name": "python",
   "nbconvert_exporter": "python",
   "pygments_lexer": "ipython3",
   "version": "3.13.5"
  }
 },
 "nbformat": 4,
 "nbformat_minor": 0
}
