{
  "cells": [
    {
      "cell_type": "markdown",
      "metadata": {
        "id": "zAwTPA_5VtMJ"
      },
      "source": [
        "# Numpy Tutorial\n",
        "Ref: https://www.w3schools.com/python/numpy/default.asp"
      ]
    },
    {
      "cell_type": "markdown",
      "metadata": {
        "id": "atjTXbjhVtMM"
      },
      "source": [
        "##### Sample"
      ]
    },
    {
      "cell_type": "markdown",
      "metadata": {
        "id": "zMq9me-sYQq8"
      },
      "source": [
        "numpy array นั้นมี requirements ที่มากกว่าของ array ปกติ เนื่องจากหากกำหนดให้ข้อมูลภายในนั้นเป็นชนิดใดก็ตามแล้ว ภายใน array นั้น ๆ จะต้องมีข้อมูลชนิดนั้นเท่านั้น เช่น ต้องเป็นตัวอักษรทั้งหมด หรือต้องเป็นตัวเลขทั้งหมด แต่ความยุ่งยากนี้แลกมากับความเร็วในการทำงานที่มากขึ้น ดังตัวอย่างด้านล่าง"
      ]
    },
    {
      "cell_type": "code",
      "execution_count": 1,
      "metadata": {
        "id": "HmNMfBEi-QXX",
        "outputId": "b588f26d-3304-40a3-ce16-15102ca38eb5",
        "colab": {
          "base_uri": "https://localhost:8080/"
        }
      },
      "outputs": [
        {
          "output_type": "stream",
          "name": "stdout",
          "text": [
            "Requirement already satisfied: numpy in /usr/local/lib/python3.11/dist-packages (2.0.2)\n"
          ]
        }
      ],
      "source": [
        "%pip install numpy"
      ]
    },
    {
      "cell_type": "code",
      "execution_count": 2,
      "metadata": {
        "colab": {
          "base_uri": "https://localhost:8080/"
        },
        "id": "LG5RqNwVZ4dZ",
        "outputId": "043ad531-3ff3-4781-8396-9b9f703a95cf"
      },
      "outputs": [
        {
          "output_type": "stream",
          "name": "stdout",
          "text": [
            "Python list time: 0.010679006576538086 seconds\n",
            "Python result: [1, 10, 9, 8, 16, 16, 4, 7, 17, 8, 9, 10, 13, 16, 7, 14, 8, 6, 1, 2]\n",
            "------------------------------\n",
            "NumPy array time: 0.0007956027984619141 seconds\n",
            "NumPy result: [ 1 10  9 ... 17  7 13]\n",
            "is equal : True\n"
          ]
        }
      ],
      "source": [
        "import numpy as np\n",
        "import time\n",
        "\n",
        "size = 100_000\n",
        "\n",
        "list1 = np.random.randint(0, 10, size).tolist()\n",
        "list2 = np.random.randint(0, 10, size).tolist()\n",
        "\n",
        "array1 = np.array(list1)\n",
        "array2 = np.array(list2)\n",
        "\n",
        "start_time = time.time()\n",
        "result_list = [list1[i] + list2[i] for i in range(size)]\n",
        "list_time = time.time() - start_time\n",
        "\n",
        "start_time = time.time()\n",
        "result_array = array1 + array2\n",
        "numpy_time = time.time() - start_time\n",
        "\n",
        "results_equal = result_list == result_array.tolist()\n",
        "\n",
        "print(\"Python list time:\", list_time, \"seconds\")\n",
        "print(\"Python result:\", result_list[:20])\n",
        "print(\"-\"*30)\n",
        "print(\"NumPy array time:\", numpy_time, \"seconds\")\n",
        "print(\"NumPy result:\", result_array)\n",
        "print(\"is equal :\", results_equal)"
      ]
    },
    {
      "cell_type": "code",
      "execution_count": 3,
      "metadata": {
        "id": "3ATYjnGYVtMM"
      },
      "outputs": [],
      "source": [
        "arr = [1, 2, 3, 4, 5]"
      ]
    },
    {
      "cell_type": "code",
      "execution_count": 4,
      "metadata": {
        "colab": {
          "base_uri": "https://localhost:8080/"
        },
        "id": "xs41YKQfVtMO",
        "outputId": "e3aaa96d-f8f7-44fe-8785-b456d48c376e"
      },
      "outputs": [
        {
          "output_type": "execute_result",
          "data": {
            "text/plain": [
              "array([1, 2, 3, 4, 5])"
            ]
          },
          "metadata": {},
          "execution_count": 4
        }
      ],
      "source": [
        "arr = np.array(arr)\n",
        "arr"
      ]
    },
    {
      "cell_type": "code",
      "execution_count": 5,
      "metadata": {
        "colab": {
          "base_uri": "https://localhost:8080/"
        },
        "id": "56Xm2ozTVtMO",
        "outputId": "e77cabe2-16c0-4121-982f-9a45ae4a8f65"
      },
      "outputs": [
        {
          "output_type": "stream",
          "name": "stdout",
          "text": [
            "2.0.2\n"
          ]
        }
      ],
      "source": [
        "print(np.__version__)"
      ]
    },
    {
      "cell_type": "markdown",
      "metadata": {
        "id": "AU5-RSCSVtMP"
      },
      "source": [
        "##### Creating arrays"
      ]
    },
    {
      "cell_type": "code",
      "execution_count": 6,
      "metadata": {
        "colab": {
          "base_uri": "https://localhost:8080/"
        },
        "id": "Bwma4AeCVtMP",
        "outputId": "14ea4f5d-f930-41dc-d59d-5d696e1bb719"
      },
      "outputs": [
        {
          "output_type": "stream",
          "name": "stdout",
          "text": [
            "42 ()\n"
          ]
        }
      ],
      "source": [
        "# 0-D == scalar value (Only value, none of matrix)\n",
        "arr = np.array(42)\n",
        "print(arr, arr.shape)"
      ]
    },
    {
      "cell_type": "code",
      "execution_count": 7,
      "metadata": {
        "colab": {
          "base_uri": "https://localhost:8080/"
        },
        "id": "jrRUR9mkVtMP",
        "outputId": "43ab32b5-9608-4f87-f98e-6a59d6b3cfda"
      },
      "outputs": [
        {
          "output_type": "stream",
          "name": "stdout",
          "text": [
            "[3 2] (2,)\n"
          ]
        }
      ],
      "source": [
        "# 1-D = Only H or W vector array (Only Height or Width)\n",
        "arr = np.array([3, 2])\n",
        "print(arr, arr.shape)"
      ]
    },
    {
      "cell_type": "code",
      "execution_count": 8,
      "metadata": {
        "colab": {
          "base_uri": "https://localhost:8080/"
        },
        "id": "lDiY0q-0VtMQ",
        "outputId": "82011db3-8e24-4f45-a1ab-c6822da88dc5"
      },
      "outputs": [
        {
          "output_type": "stream",
          "name": "stdout",
          "text": [
            "[[1 0 1]\n",
            " [3 4 1]] (2, 3)\n"
          ]
        }
      ],
      "source": [
        "# 2-D == H x W matrix array (Height x Width))\n",
        "arr = np.array([[1, 0, 1], [3, 4, 1]])\n",
        "print(arr, arr.shape)"
      ]
    },
    {
      "cell_type": "code",
      "execution_count": 9,
      "metadata": {
        "colab": {
          "base_uri": "https://localhost:8080/"
        },
        "id": "gXa5hs7bVtMQ",
        "outputId": "0f489a58-549b-43ff-9280-461ea7907c94"
      },
      "outputs": [
        {
          "output_type": "stream",
          "name": "stdout",
          "text": [
            "[[[1 7 9]\n",
            "  [5 9 3]\n",
            "  [7 9 9]]\n",
            "\n",
            " [[1 2 3]\n",
            "  [4 5 6]\n",
            "  [7 8 9]]] (2, 3, 3)\n"
          ]
        }
      ],
      "source": [
        "# 3-D == D x H x W matrix array (Deep x Height x Width)\n",
        "arr = np.array([[[1, 7, 9], [5, 9, 3], [7, 9, 9]], [[1, 2, 3], [4, 5, 6], [7, 8, 9]]])\n",
        "print(arr, arr.shape)"
      ]
    },
    {
      "cell_type": "markdown",
      "metadata": {
        "id": "AH2LMRlUVtMQ"
      },
      "source": [
        "![Sample_arrays.png](attachment:Sample_arrays.png)"
      ]
    },
    {
      "cell_type": "markdown",
      "metadata": {
        "id": "nEsmMx0pVtMQ"
      },
      "source": [
        "Array Elements and Indexing"
      ]
    },
    {
      "cell_type": "code",
      "execution_count": 10,
      "metadata": {
        "colab": {
          "base_uri": "https://localhost:8080/"
        },
        "id": "MV3rB_m8VtMR",
        "outputId": "77d7d34d-8d69-417e-cc38-81c03614546f"
      },
      "outputs": [
        {
          "output_type": "stream",
          "name": "stdout",
          "text": [
            "1\n",
            "2\n",
            "7\n",
            "----------\n",
            "1-d Shape : (4,)\n"
          ]
        }
      ],
      "source": [
        "# 1-D (4 width)\n",
        "arr = np.array([1, 2, 3, 4])\n",
        "print(arr[0])\n",
        "print(arr[1])\n",
        "print(arr[2] + arr[3])\n",
        "print(\"-\"*10)\n",
        "print(f\"1-d Shape : {arr.shape}\")"
      ]
    },
    {
      "cell_type": "code",
      "execution_count": 11,
      "metadata": {
        "colab": {
          "base_uri": "https://localhost:8080/"
        },
        "id": "LXRfnW6GVtMR",
        "outputId": "99f24343-5547-470e-be4b-c27c5cbd975f"
      },
      "outputs": [
        {
          "output_type": "stream",
          "name": "stdout",
          "text": [
            "2nd element on 1st row:  2\n",
            "5th element on 2nd row:  10\n",
            "Optional: 5th element on 2nd row:  10\n",
            "Sum of 1st element on 1st row and 4th element on 2nd row:  10\n",
            "----------\n",
            "2-d Shape : (2, 5)\n"
          ]
        }
      ],
      "source": [
        "# 2-D (5 width x 2 height)\n",
        "arr = np.array([[1,2,3,4,5], [6,7,8,9,10]])\n",
        "print('2nd element on 1st row: ', arr[0, 1])\n",
        "print('5th element on 2nd row: ', arr[1, 4])\n",
        "print('Optional: 5th element on 2nd row: ', arr[1, -1])\n",
        "print('Sum of 1st element on 1st row and 4th element on 2nd row: ', arr[0, 0]+arr[1, 3])\n",
        "print(\"-\"*10)\n",
        "print(f\"2-d Shape : {arr.shape}\")"
      ]
    },
    {
      "cell_type": "code",
      "execution_count": 12,
      "metadata": {
        "colab": {
          "base_uri": "https://localhost:8080/"
        },
        "id": "sjwkzZdCVtMR",
        "outputId": "d18356fe-c1cd-4951-e18a-98bd5e6b2822"
      },
      "outputs": [
        {
          "output_type": "stream",
          "name": "stdout",
          "text": [
            "Last element from 1st matrix:  6\n",
            "First element from 1st matrix:  7\n",
            "Last row from 2nd matrix:  [10 11 12]\n",
            "First row from 1st matrix:  [1 2 3]\n",
            "1st matrix: \n",
            " [[1 2 3]\n",
            " [4 5 6]]\n",
            "2nd matrix: \n",
            " [[ 7  8  9]\n",
            " [10 11 12]]\n"
          ]
        }
      ],
      "source": [
        "# 3-D (2 depth x 3 width x 2 height)\n",
        "arr = np.array([[[1, 2, 3], [4, 5, 6]], [[7, 8, 9], [10, 11, 12]]])\n",
        "print('Last element from 1st matrix: ', arr[0, 1, 2])\n",
        "print('First element from 1st matrix: ', arr[1, 0, 0])\n",
        "print('Last row from 2nd matrix: ', arr[1, -1])\n",
        "print('First row from 1st matrix: ', arr[0, 0])\n",
        "print('1st matrix: \\n', arr[0])\n",
        "print('2nd matrix: \\n', arr[1])"
      ]
    },
    {
      "cell_type": "markdown",
      "metadata": {
        "id": "K6yS8cawVtMR"
      },
      "source": [
        "##### Array Slicing"
      ]
    },
    {
      "cell_type": "code",
      "execution_count": 13,
      "metadata": {
        "colab": {
          "base_uri": "https://localhost:8080/"
        },
        "id": "ZOhytYxnVtMR",
        "outputId": "f37ea8c3-a1df-48c1-8570-4db7c74b93bf"
      },
      "outputs": [
        {
          "output_type": "stream",
          "name": "stdout",
          "text": [
            "Indexing order\n",
            "[2 3 4 5]\n",
            "[6 7]\n",
            "[4 5 6 7]\n",
            "[1 2 3 4]\n"
          ]
        }
      ],
      "source": [
        "# 1-D\n",
        "arr = np.array([1, 2, 3, 4, 5, 6, 7])\n",
        "\n",
        "print(\"Indexing order\")\n",
        "print(arr[1:5])\n",
        "print(arr[5:7])\n",
        "print(arr[3: ])\n",
        "print(arr[ :4])"
      ]
    },
    {
      "cell_type": "code",
      "execution_count": 14,
      "metadata": {
        "colab": {
          "base_uri": "https://localhost:8080/"
        },
        "id": "PLDU9GJcVtMR",
        "outputId": "912c5e42-9ab1-4606-98e9-d70cb34cb7b2"
      },
      "outputs": [
        {
          "output_type": "stream",
          "name": "stdout",
          "text": [
            "Indexing reversed order (minus operation)\n",
            "[3 4 5 6]\n",
            "[5 6]\n"
          ]
        }
      ],
      "source": [
        "print(\"Indexing reversed order (minus operation)\")\n",
        "print(arr[2:-1])\n",
        "print(arr[-3:-1])"
      ]
    },
    {
      "cell_type": "code",
      "execution_count": 15,
      "metadata": {
        "colab": {
          "base_uri": "https://localhost:8080/"
        },
        "id": "SIkTlT-GVtMS",
        "outputId": "b051bd35-51ee-4fc9-91ae-52d4ffbf572d"
      },
      "outputs": [
        {
          "output_type": "stream",
          "name": "stdout",
          "text": [
            "Indexing skip order\n",
            "[1 2 3 4 5 6 7]\n",
            "[1 3 5 7]\n",
            "Indexing skip order/normal operation\n",
            "[4 5 6 7]\n",
            "[2 4]\n",
            "Indexing skip order/minus-reversed operation\n",
            "[1 3 5]\n",
            "[4 6]\n"
          ]
        }
      ],
      "source": [
        "print(\"Indexing skip order\")\n",
        "print(arr[::1])\n",
        "print(arr[::2])\n",
        "print(\"Indexing skip order/normal operation\")\n",
        "print(arr[3::1])\n",
        "print(arr[1:5:2])\n",
        "print(\"Indexing skip order/minus-reversed operation\")\n",
        "print(arr[:-1:2])\n",
        "print(arr[-4:-1:2])"
      ]
    },
    {
      "cell_type": "code",
      "execution_count": 16,
      "metadata": {
        "colab": {
          "base_uri": "https://localhost:8080/"
        },
        "id": "Z3jDxSEUVtMS",
        "outputId": "5a6f527f-c59b-4b27-b57f-5240a7953939"
      },
      "outputs": [
        {
          "output_type": "stream",
          "name": "stdout",
          "text": [
            "Indexing order\n",
            "[7 8 9]\n",
            "[3 8]\n",
            "[[2 3 4]\n",
            " [7 8 9]]\n"
          ]
        }
      ],
      "source": [
        "# 2-D\n",
        "arr = np.array([[1, 2, 3, 4, 5], [6, 7, 8, 9, 10]])\n",
        "\n",
        "print(\"Indexing order\")\n",
        "print(arr[1, 1:4])\n",
        "print(arr[0:2, 2])\n",
        "print(arr[0:2, 1:4])"
      ]
    },
    {
      "cell_type": "markdown",
      "metadata": {
        "id": "UrqSRBdjVtMS"
      },
      "source": [
        "##### Data Types\n",
        "\n",
        "i - integer\\\n",
        "b - boolean\\\n",
        "u - unsigned integer\\\n",
        "f - float\\\n",
        "c - complex float\\\n",
        "m - timedelta\\\n",
        "M - datetime\\\n",
        "O - object\\\n",
        "S - string\\\n",
        "U - unicode string\\\n",
        "V - fixed chunk of memory for other type ( void )"
      ]
    },
    {
      "cell_type": "code",
      "execution_count": 17,
      "metadata": {
        "colab": {
          "base_uri": "https://localhost:8080/"
        },
        "id": "nlX8XGfsVtMS",
        "outputId": "1d253021-116e-46ed-ab96-4dd9aec4e70f"
      },
      "outputs": [
        {
          "output_type": "stream",
          "name": "stdout",
          "text": [
            "int64\n"
          ]
        }
      ],
      "source": [
        "# integer\n",
        "arr = np.array([1, 2, 3, 4])\n",
        "print(arr.dtype)"
      ]
    },
    {
      "cell_type": "code",
      "execution_count": 18,
      "metadata": {
        "colab": {
          "base_uri": "https://localhost:8080/"
        },
        "id": "ort9boB_VtMS",
        "outputId": "c9a68f25-1284-454f-a308-5cd058a45e3f"
      },
      "outputs": [
        {
          "output_type": "stream",
          "name": "stdout",
          "text": [
            "float64\n"
          ]
        }
      ],
      "source": [
        "# float\n",
        "arr = np.array([1., 2.5, 3.0, 4.2345697789])\n",
        "print(arr.dtype)"
      ]
    },
    {
      "cell_type": "code",
      "execution_count": 19,
      "metadata": {
        "colab": {
          "base_uri": "https://localhost:8080/"
        },
        "id": "I9eISuReVtMS",
        "outputId": "cfe14c5a-7984-4926-9815-e502dabb8d8e"
      },
      "outputs": [
        {
          "output_type": "stream",
          "name": "stdout",
          "text": [
            "<U6\n"
          ]
        }
      ],
      "source": [
        "# strings\n",
        "arr = np.array(['apple', 'banana', 'cherry'])\n",
        "print(arr.dtype)"
      ]
    },
    {
      "cell_type": "code",
      "execution_count": 20,
      "metadata": {
        "colab": {
          "base_uri": "https://localhost:8080/"
        },
        "id": "wF7bXbJxVtMS",
        "outputId": "633f8fea-cfd9-41ea-85ac-1d71bcfafcb8"
      },
      "outputs": [
        {
          "output_type": "stream",
          "name": "stdout",
          "text": [
            "[b'1' b'2' b'3' b'4']\n",
            "|S1\n"
          ]
        }
      ],
      "source": [
        "# string\n",
        "arr = np.array([1, 2, 3, 4], dtype='S')\n",
        "print(arr)\n",
        "print(arr.dtype)"
      ]
    },
    {
      "cell_type": "code",
      "execution_count": 21,
      "metadata": {
        "colab": {
          "base_uri": "https://localhost:8080/"
        },
        "id": "Ax7mu-GKVtMT",
        "outputId": "7fb01833-dbd4-4daa-fcc9-56978637b9d1"
      },
      "outputs": [
        {
          "output_type": "stream",
          "name": "stdout",
          "text": [
            "[1 2 3 4]\n",
            "int32\n"
          ]
        }
      ],
      "source": [
        "# 4 bytes integer\n",
        "arr = np.array([1, 2, 3, 4], dtype='i4')\n",
        "print(arr)\n",
        "print(arr.dtype)"
      ]
    },
    {
      "cell_type": "code",
      "execution_count": 22,
      "metadata": {
        "colab": {
          "base_uri": "https://localhost:8080/"
        },
        "id": "zcaGdYl_VtMT",
        "outputId": "dc758355-c658-4119-e145-aa33f70f28a1"
      },
      "outputs": [
        {
          "output_type": "stream",
          "name": "stdout",
          "text": [
            "[1 2 3]\n",
            "int32\n"
          ]
        }
      ],
      "source": [
        "# conversion\n",
        "# 1st: float-to-int\n",
        "arr = np.array([1.1, 2.1, 3.9])\n",
        "newarr = arr.astype('i')\n",
        "print(newarr)\n",
        "print(newarr.dtype)"
      ]
    },
    {
      "cell_type": "code",
      "execution_count": 23,
      "metadata": {
        "colab": {
          "base_uri": "https://localhost:8080/"
        },
        "id": "5zEkQIovVtMT",
        "outputId": "b9eb86b5-c8c6-4a92-c04c-64f9e125bb34"
      },
      "outputs": [
        {
          "output_type": "stream",
          "name": "stdout",
          "text": [
            "[1 2 3]\n",
            "int64\n"
          ]
        }
      ],
      "source": [
        "# 2nd: float-to-int\n",
        "arr = np.array([1.1, 2.1, 3.9])\n",
        "newarr = arr.astype(int)\n",
        "print(newarr)\n",
        "print(newarr.dtype)"
      ]
    },
    {
      "cell_type": "code",
      "execution_count": 24,
      "metadata": {
        "colab": {
          "base_uri": "https://localhost:8080/"
        },
        "id": "f-can6VOVtMT",
        "outputId": "42d11305-7034-4ff3-e9d1-346331d43530"
      },
      "outputs": [
        {
          "output_type": "stream",
          "name": "stdout",
          "text": [
            "[ True False  True]\n",
            "bool\n"
          ]
        }
      ],
      "source": [
        "# int-to-bool\n",
        "arr = np.array([1, 0, -3])\n",
        "newarr = arr.astype(bool)\n",
        "print(newarr)\n",
        "print(newarr.dtype)"
      ]
    },
    {
      "cell_type": "markdown",
      "metadata": {
        "id": "WpKxnw95VtMT"
      },
      "source": [
        "##### Array Copying"
      ]
    },
    {
      "cell_type": "code",
      "execution_count": 25,
      "metadata": {
        "colab": {
          "base_uri": "https://localhost:8080/"
        },
        "id": "QgicRq6wVtMT",
        "outputId": "4940c609-64d2-4cbc-b0c2-d22e7dbbb5b3"
      },
      "outputs": [
        {
          "output_type": "stream",
          "name": "stdout",
          "text": [
            "[42  2  3  4  5]\n",
            "[1 2 3 4 5]\n"
          ]
        }
      ],
      "source": [
        "# copy (pass by value)\n",
        "arr = np.array([1, 2, 3, 4, 5])\n",
        "x = arr.copy()\n",
        "arr[0] = 42\n",
        "print(arr)\n",
        "print(x)"
      ]
    },
    {
      "cell_type": "markdown",
      "metadata": {
        "id": "cdCUgXJvg0Jd"
      },
      "source": [
        ".view() ใช้บ่อย จำไว้ให้ดี"
      ]
    },
    {
      "cell_type": "code",
      "execution_count": 26,
      "metadata": {
        "colab": {
          "base_uri": "https://localhost:8080/"
        },
        "id": "gulNRa0-VtMT",
        "outputId": "11f69ec6-ea19-495e-dac3-b9c587fabb30"
      },
      "outputs": [
        {
          "output_type": "stream",
          "name": "stdout",
          "text": [
            "[42  2  3  4  5]\n",
            "[42  2  3  4  5]\n"
          ]
        }
      ],
      "source": [
        "# view (pass by reference)\n",
        "arr = np.array([1, 2, 3, 4, 5])\n",
        "x = arr.view()\n",
        "arr[0] = 42\n",
        "print(arr)\n",
        "print(x)"
      ]
    },
    {
      "cell_type": "markdown",
      "metadata": {
        "id": "QNsWyv7VVtMU"
      },
      "source": [
        "##### Shape and reshape"
      ]
    },
    {
      "cell_type": "code",
      "execution_count": 27,
      "metadata": {
        "colab": {
          "base_uri": "https://localhost:8080/"
        },
        "id": "2WnD_q-MVtMU",
        "outputId": "31f2b829-c431-47df-a6cf-8204b172c0e8"
      },
      "outputs": [
        {
          "output_type": "stream",
          "name": "stdout",
          "text": [
            "[1 2 3 4]\n",
            "pre-shape of array with added dimension: (4,)\n",
            "\n",
            "\n",
            "\n",
            "\n",
            "[[[[[1 2 3 4]]]]]\n",
            "pre-shape of array with added dimension: (1, 1, 1, 1, 4)\n"
          ]
        }
      ],
      "source": [
        "# Shape\n",
        "arr = np.array([1, 2, 3, 4])\n",
        "print(arr)\n",
        "print('pre-shape of array with added dimension:', arr.shape)\n",
        "print('\\n'*3)\n",
        "arr = np.array([1, 2, 3, 4], ndmin=5)\n",
        "print(arr)\n",
        "print('pre-shape of array with added dimension:', arr.shape)"
      ]
    },
    {
      "cell_type": "code",
      "execution_count": 28,
      "metadata": {
        "colab": {
          "base_uri": "https://localhost:8080/"
        },
        "id": "6NCIR902VtMU",
        "outputId": "de249ae4-030c-44ee-de85-7763ebed162d"
      },
      "outputs": [
        {
          "output_type": "stream",
          "name": "stdout",
          "text": [
            "[ 1  2  3  4  5  6  7  8  9 10 11 12] (12,)\n",
            "------------------------------\n",
            "row-major\n",
            "[[ 1  2  3]\n",
            " [ 4  5  6]\n",
            " [ 7  8  9]\n",
            " [10 11 12]] (4, 3)\n",
            "------------------------------\n",
            "column-major\n",
            "[[ 1  5  9]\n",
            " [ 2  6 10]\n",
            " [ 3  7 11]\n",
            " [ 4  8 12]] (4, 3)\n"
          ]
        }
      ],
      "source": [
        "# Reshape 1-D to 2-D\n",
        "# order = 'C' => row-major (default)\n",
        "# order = 'F' => column-major\n",
        "\n",
        "arr = np.array([1, 2, 3, 4, 5, 6, 7, 8, 9, 10, 11, 12])\n",
        "print(arr, arr.shape)\n",
        "print('-'*30)\n",
        "print('row-major')\n",
        "newarrC = arr.reshape((4, 3),order = 'C')\n",
        "print(newarrC, newarrC.shape)\n",
        "print('-'*30)\n",
        "print('column-major')\n",
        "newarrA = arr.reshape((4, 3),order = 'F')\n",
        "print(newarrA, newarrA.shape)"
      ]
    },
    {
      "cell_type": "code",
      "execution_count": 29,
      "metadata": {
        "colab": {
          "base_uri": "https://localhost:8080/"
        },
        "id": "ncMAMeQCVtMU",
        "outputId": "e58d1e51-0f07-4ba4-8d16-7c45ccb01e65"
      },
      "outputs": [
        {
          "output_type": "stream",
          "name": "stdout",
          "text": [
            "[[[ 1  2]\n",
            "  [ 3  4]\n",
            "  [ 5  6]]\n",
            "\n",
            " [[ 7  8]\n",
            "  [ 9 10]\n",
            "  [11 12]]] (2, 3, 2)\n"
          ]
        }
      ],
      "source": [
        "# Reshape 1-D to 3-D\n",
        "# .reshape(2, 3, 2) (2 chanel, 3 h, 2 w)\n",
        "arr = np.array([1, 2, 3, 4, 5, 6, 7, 8, 9, 10, 11, 12])\n",
        "newarr = arr.reshape(2, 3, 2)\n",
        "print(newarr, newarr.shape)"
      ]
    },
    {
      "cell_type": "code",
      "execution_count": 30,
      "metadata": {
        "colab": {
          "base_uri": "https://localhost:8080/"
        },
        "id": "j_QgYnnxVtMU",
        "outputId": "c83ab6a8-8e7b-4202-cedf-8705b434ad37"
      },
      "outputs": [
        {
          "output_type": "stream",
          "name": "stdout",
          "text": [
            "[[[1 2]\n",
            "  [3 4]]\n",
            "\n",
            " [[5 6]\n",
            "  [7 8]]] (2, 2, 2)\n"
          ]
        }
      ],
      "source": [
        "# Use -1 to let NumPy automatically calculate the size of this dimension\n",
        "arr = np.array([1, 2, 3, 4, 5, 6, 7, 8])\n",
        "newarr = arr.reshape(2, 2, -1)\n",
        "print(newarr, newarr.shape)"
      ]
    },
    {
      "cell_type": "markdown",
      "metadata": {
        "id": "Uz9SiyKMVtMY"
      },
      "source": [
        "##### Iterating Arrays"
      ]
    },
    {
      "cell_type": "markdown",
      "metadata": {
        "id": "2yVKHOhHVtMY"
      },
      "source": [
        "Iterating 2-D Arrays"
      ]
    },
    {
      "cell_type": "code",
      "execution_count": 31,
      "metadata": {
        "colab": {
          "base_uri": "https://localhost:8080/"
        },
        "id": "_7k7zk-fVtMZ",
        "outputId": "be1d03c3-d46c-4664-8444-094f06c5a632"
      },
      "outputs": [
        {
          "output_type": "stream",
          "name": "stdout",
          "text": [
            "(2, 3)\n",
            "[1 2 3]\n",
            "----------\n",
            "[4 5 6]\n",
            "----------\n"
          ]
        }
      ],
      "source": [
        "arr = np.array([[1, 2, 3], [4, 5, 6]])\n",
        "print(arr.shape)\n",
        "# print sub-vector (1D) of 2-D array\n",
        "for x in arr:\n",
        "  print(x)\n",
        "  print('-'*10)"
      ]
    },
    {
      "cell_type": "code",
      "execution_count": 32,
      "metadata": {
        "colab": {
          "base_uri": "https://localhost:8080/"
        },
        "id": "hDVXtzXEVtMZ",
        "outputId": "16d00ba6-f61a-422b-eb99-4338537400a0"
      },
      "outputs": [
        {
          "output_type": "stream",
          "name": "stdout",
          "text": [
            "1\n",
            "----------\n",
            "2\n",
            "----------\n",
            "3\n",
            "----------\n",
            "4\n",
            "----------\n",
            "5\n",
            "----------\n",
            "6\n",
            "----------\n"
          ]
        }
      ],
      "source": [
        "# print sub-element (scalar) of sub-array of 2-D array\n",
        "for x in arr:\n",
        "  for y in x:\n",
        "    print(y)\n",
        "    print('-'*10)"
      ]
    },
    {
      "cell_type": "markdown",
      "metadata": {
        "id": "wVdExwgJVtMZ"
      },
      "source": [
        "Iterating 3-D Arrays"
      ]
    },
    {
      "cell_type": "code",
      "execution_count": 33,
      "metadata": {
        "colab": {
          "base_uri": "https://localhost:8080/"
        },
        "id": "e4nLg8U8VtMZ",
        "outputId": "daa677f9-1856-4968-997a-0a967d40da84"
      },
      "outputs": [
        {
          "output_type": "stream",
          "name": "stdout",
          "text": [
            "(2, 2, 3)\n",
            "[[1 2 3]\n",
            " [4 5 6]]\n",
            "----------\n",
            "[[ 7  8  9]\n",
            " [10 11 12]]\n",
            "----------\n"
          ]
        }
      ],
      "source": [
        "arr = np.array([[[1, 2, 3], [4, 5, 6]], [[7, 8, 9], [10, 11, 12]]])\n",
        "print(arr.shape)\n",
        "\n",
        "# print sub-matrix (2D) of 3-D array\n",
        "for x in arr:\n",
        "  print(x)\n",
        "  print('-'*10)"
      ]
    },
    {
      "cell_type": "code",
      "execution_count": 34,
      "metadata": {
        "colab": {
          "base_uri": "https://localhost:8080/"
        },
        "id": "lJVI3h3hVtMZ",
        "outputId": "9c515afd-e012-4770-c43c-f9b59e1dbe3a"
      },
      "outputs": [
        {
          "output_type": "stream",
          "name": "stdout",
          "text": [
            "[1 2 3]\n",
            "[4 5 6]\n",
            "[7 8 9]\n",
            "[10 11 12]\n"
          ]
        }
      ],
      "source": [
        "# print sub-vector (1D) of subsub-matrix (2D) of 3-D array\n",
        "for x in arr:\n",
        "  for y in x:\n",
        "    print(y)"
      ]
    },
    {
      "cell_type": "code",
      "execution_count": 35,
      "metadata": {
        "colab": {
          "base_uri": "https://localhost:8080/"
        },
        "id": "N7elo0zSVtMZ",
        "outputId": "9a4d41c4-2ff3-45eb-b771-31c9386487f2"
      },
      "outputs": [
        {
          "output_type": "stream",
          "name": "stdout",
          "text": [
            "1\n",
            "2\n",
            "3\n",
            "4\n",
            "5\n",
            "6\n",
            "7\n",
            "8\n",
            "9\n",
            "10\n",
            "11\n",
            "12\n"
          ]
        }
      ],
      "source": [
        "# print sub-element (scalar) of sub-vector (1D) of subsub-matrix (2D) of 3-D array\n",
        "for x in arr:\n",
        "  for y in x:\n",
        "    for z in y:\n",
        "      print(z)"
      ]
    },
    {
      "cell_type": "code",
      "execution_count": 36,
      "metadata": {
        "colab": {
          "base_uri": "https://localhost:8080/"
        },
        "id": "LfdofGK8VtMa",
        "outputId": "ac6ff41d-5e62-4ff2-9d80-eb2a19b94759"
      },
      "outputs": [
        {
          "output_type": "stream",
          "name": "stdout",
          "text": [
            "1\n",
            "2\n",
            "3\n",
            "4\n",
            "5\n",
            "6\n",
            "7\n",
            "8\n"
          ]
        }
      ],
      "source": [
        "#Optional: print sub-element via np.nditer\n",
        "arr = np.array([[[1, 2], [3, 4]], [[5, 6], [7, 8]]])\n",
        "for x in np.nditer(arr):\n",
        "  print(x)"
      ]
    },
    {
      "cell_type": "code",
      "execution_count": 37,
      "metadata": {
        "colab": {
          "base_uri": "https://localhost:8080/"
        },
        "id": "dhuMOKNqVtMa",
        "outputId": "f199c1fd-4daf-4295-99e5-1a6bb0fd2b9c"
      },
      "outputs": [
        {
          "output_type": "stream",
          "name": "stdout",
          "text": [
            "np.bytes_(b'1')\n",
            "np.bytes_(b'2')\n",
            "np.bytes_(b'3')\n"
          ]
        }
      ],
      "source": [
        "arr = np.array([1, 2, 3])\n",
        "for x in np.nditer(arr, flags=['buffered'], op_dtypes=['S']):\n",
        "  print(x)"
      ]
    },
    {
      "cell_type": "code",
      "execution_count": 38,
      "metadata": {
        "colab": {
          "base_uri": "https://localhost:8080/"
        },
        "id": "mw7RLgT5VtMa",
        "outputId": "3bb7965a-742e-478f-d801-609c569cb03d"
      },
      "outputs": [
        {
          "output_type": "stream",
          "name": "stdout",
          "text": [
            "1\n",
            "3\n",
            "5\n",
            "7\n"
          ]
        }
      ],
      "source": [
        "arr = np.array([[1, 2, 3, 4], [5, 6, 7, 8]])\n",
        "for x in np.nditer(arr[:,::2]):\n",
        "  print(x)"
      ]
    },
    {
      "cell_type": "code",
      "execution_count": 39,
      "metadata": {
        "colab": {
          "base_uri": "https://localhost:8080/"
        },
        "id": "ep9_PpzdVtMa",
        "outputId": "daf4c418-28c1-4645-ecc0-599eba05cbb2"
      },
      "outputs": [
        {
          "output_type": "stream",
          "name": "stdout",
          "text": [
            "(0,) 1\n",
            "(1,) 2\n",
            "(2,) 3\n",
            "----------\n",
            "(0, 0) 1\n",
            "(0, 1) 2\n",
            "(0, 2) 3\n",
            "(0, 3) 4\n",
            "(1, 0) 5\n",
            "(1, 1) 6\n",
            "(1, 2) 7\n",
            "(1, 3) 8\n"
          ]
        }
      ],
      "source": [
        "arr = np.array([1, 2, 3])\n",
        "for idx, x in np.ndenumerate(arr):\n",
        "  print(idx, x)\n",
        "\n",
        "print('-'*10)\n",
        "arr = np.array([[1, 2, 3, 4], [5, 6, 7, 8]])\n",
        "for idx, x in np.ndenumerate(arr):\n",
        "  print(idx, x)"
      ]
    },
    {
      "cell_type": "markdown",
      "metadata": {
        "id": "UL1GTC6RVtMa"
      },
      "source": [
        "##### Array Concatenation & Stacking"
      ]
    },
    {
      "cell_type": "code",
      "execution_count": 40,
      "metadata": {
        "colab": {
          "base_uri": "https://localhost:8080/"
        },
        "id": "nlj7CTdLVtMa",
        "outputId": "28c07559-ca7a-4a57-a985-2f1d6c2681bd"
      },
      "outputs": [
        {
          "output_type": "stream",
          "name": "stdout",
          "text": [
            "[1 2 3 4 5 6] (6,)\n"
          ]
        }
      ],
      "source": [
        "# 1-D concat\n",
        "arr1 = np.array([1, 2, 3])\n",
        "arr2 = np.array([4, 5, 6])\n",
        "arr = np.concatenate((arr1, arr2))\n",
        "print(arr, arr.shape)"
      ]
    },
    {
      "cell_type": "code",
      "execution_count": 41,
      "metadata": {
        "colab": {
          "base_uri": "https://localhost:8080/"
        },
        "id": "yeFGU1mSVtMb",
        "outputId": "8566767c-6fb3-4c89-8362-cbd229e23c31"
      },
      "outputs": [
        {
          "output_type": "stream",
          "name": "stdout",
          "text": [
            "[[1 2 5 6]\n",
            " [3 4 7 8]] (2, 4)\n"
          ]
        }
      ],
      "source": [
        "# 2-D concat\n",
        "arr1 = np.array([[1, 2], [3, 4]])\n",
        "arr2 = np.array([[5, 6], [7, 8]])\n",
        "arr = np.concatenate((arr1, arr2), axis=1)\n",
        "print(arr, arr.shape)"
      ]
    },
    {
      "cell_type": "code",
      "execution_count": 42,
      "metadata": {
        "colab": {
          "base_uri": "https://localhost:8080/"
        },
        "id": "s10BJmvBVtMb",
        "outputId": "5cdeb85d-d8d4-4ace-e3f5-71fccf756abc"
      },
      "outputs": [
        {
          "output_type": "stream",
          "name": "stdout",
          "text": [
            "[1 2 3 4 5 6] (6,)\n"
          ]
        }
      ],
      "source": [
        "# 1-D hstack (horizontal stack)\n",
        "arr1 = np.array([1, 2, 3])\n",
        "arr2 = np.array([4, 5, 6])\n",
        "arr = np.hstack((arr1, arr2))\n",
        "print(arr, arr.shape)"
      ]
    },
    {
      "cell_type": "code",
      "execution_count": 43,
      "metadata": {
        "colab": {
          "base_uri": "https://localhost:8080/"
        },
        "id": "xi6uY75cVtMb",
        "outputId": "fc0cc753-2b81-418e-c000-3a94c4a5748c"
      },
      "outputs": [
        {
          "output_type": "stream",
          "name": "stdout",
          "text": [
            "[[1 2 3]\n",
            " [4 5 6]] (2, 3)\n"
          ]
        }
      ],
      "source": [
        "# 1-D vstack (vertical stack)\n",
        "arr1 = np.array([1, 2, 3])\n",
        "arr2 = np.array([4, 5, 6])\n",
        "arr = np.vstack((arr1, arr2))\n",
        "print(arr, arr.shape)"
      ]
    },
    {
      "cell_type": "code",
      "execution_count": 44,
      "metadata": {
        "colab": {
          "base_uri": "https://localhost:8080/"
        },
        "id": "yyHnnK0xVtMb",
        "outputId": "5c83589c-048a-4453-f849-7abdfb433b71"
      },
      "outputs": [
        {
          "output_type": "stream",
          "name": "stdout",
          "text": [
            "[[[1 4]\n",
            "  [2 5]\n",
            "  [3 6]]] (1, 3, 2)\n"
          ]
        }
      ],
      "source": [
        "# 1-D dstack (depth stack)\n",
        "arr1 = np.array([1, 2, 3])\n",
        "arr2 = np.array([4, 5, 6])\n",
        "arr = np.dstack((arr1, arr2))\n",
        "print(arr, arr.shape)"
      ]
    },
    {
      "cell_type": "markdown",
      "metadata": {
        "id": "SRV52qpdVtMc"
      },
      "source": [
        "##### Array Spliting"
      ]
    },
    {
      "cell_type": "code",
      "execution_count": 45,
      "metadata": {
        "colab": {
          "base_uri": "https://localhost:8080/"
        },
        "id": "Ne-X-wM1VtMc",
        "outputId": "a516795d-23ae-4897-e581-f92053ebcdf3"
      },
      "outputs": [
        {
          "output_type": "stream",
          "name": "stdout",
          "text": [
            "[array([1, 2]), array([3, 4]), array([5, 6])] (2,)\n"
          ]
        }
      ],
      "source": [
        "# 1-D\n",
        "arr = np.array([1, 2, 3, 4, 5, 6])\n",
        "newarr = np.array_split(arr, 3)\n",
        "print(newarr, newarr[0].shape)"
      ]
    },
    {
      "cell_type": "code",
      "execution_count": 46,
      "metadata": {
        "colab": {
          "base_uri": "https://localhost:8080/"
        },
        "id": "S3iPBfNLVtMc",
        "outputId": "7240ee24-dda6-4816-f15b-43d4c84754ab"
      },
      "outputs": [
        {
          "output_type": "stream",
          "name": "stdout",
          "text": [
            "[array([1, 2]), array([3, 4]), array([5]), array([6])]\n"
          ]
        }
      ],
      "source": [
        "arr = np.array([1, 2, 3, 4, 5, 6])\n",
        "newarr = np.array_split(arr, 4)\n",
        "print(newarr)"
      ]
    },
    {
      "cell_type": "code",
      "execution_count": 47,
      "metadata": {
        "colab": {
          "base_uri": "https://localhost:8080/"
        },
        "id": "ZJLfRsnpVtMc",
        "outputId": "5cd29bfe-9d0f-4c80-d2f4-6886b8c50a79"
      },
      "outputs": [
        {
          "output_type": "stream",
          "name": "stdout",
          "text": [
            "[array([[1, 2],\n",
            "       [3, 4]]), array([[5, 6],\n",
            "       [7, 8]]), array([[ 9, 10],\n",
            "       [11, 12]])] (2, 2)\n"
          ]
        }
      ],
      "source": [
        "# 2-D\n",
        "arr = np.array([[1, 2], [3, 4], [5, 6], [7, 8], [9, 10], [11, 12]])\n",
        "newarr = np.array_split(arr, 3)\n",
        "print(newarr, newarr[0].shape)"
      ]
    },
    {
      "cell_type": "code",
      "execution_count": 48,
      "metadata": {
        "colab": {
          "base_uri": "https://localhost:8080/"
        },
        "id": "_zTSBFD-VtMc",
        "outputId": "c9cf07fd-92d0-4ece-901c-ca708fcd4ce7"
      },
      "outputs": [
        {
          "output_type": "stream",
          "name": "stdout",
          "text": [
            "[array([[1, 2, 3],\n",
            "       [4, 5, 6]]), array([[ 7,  8,  9],\n",
            "       [10, 11, 12]]), array([[13, 14, 15],\n",
            "       [16, 17, 18]])] (2, 3)\n"
          ]
        }
      ],
      "source": [
        "arr = np.array([[1, 2, 3], [4, 5, 6], [7, 8, 9], [10, 11, 12], [13, 14, 15], [16, 17, 18]])\n",
        "newarr = np.array_split(arr, 3)\n",
        "print(newarr, newarr[0].shape)"
      ]
    },
    {
      "cell_type": "markdown",
      "metadata": {
        "id": "hG_qnK3WVtMc"
      },
      "source": [
        "# HW1_1\n",
        "\n",
        "1. ``` np.array([[[1, 1, 1], [1, 1, 1]], [[1, 1, 1], [1, 1, 1]]])``` จงหาขนาด Dimension ของมิติที่ข้างต้น\n",
        "\n",
        "2. ```arr = np.array([[[1, 2], [2, 1]], [[3, 2], [2, 3]], [[4, 3], [3, 4]]])``` จงหาผลลัพท์ของ \\\n",
        "  2.1 arr[0, 0, 0] + arr[1, 1, 1] \\\n",
        "  2.2 arr[0] + arr[1]"
      ]
    },
    {
      "cell_type": "code",
      "execution_count": 53,
      "metadata": {
        "id": "cVgLr1VxThzC",
        "outputId": "f88c72ef-0629-4dc6-a082-7d7e51aad821",
        "colab": {
          "base_uri": "https://localhost:8080/"
        }
      },
      "outputs": [
        {
          "output_type": "stream",
          "name": "stdout",
          "text": [
            "dimension (2, 2, 3)\n"
          ]
        }
      ],
      "source": [
        "# ข้อที่ 1\n",
        "dimension = np.array([[[1, 1, 1], [1, 1, 1]], [[1, 1, 1], [1, 1, 1]]]).shape #จงหาขนาด Dimension ของมิติที่ข้างต้น\n",
        "\n",
        "print(\"dimension\", dimension)"
      ]
    },
    {
      "cell_type": "code",
      "execution_count": 56,
      "metadata": {
        "id": "5Lgn1bNbTxJ6",
        "outputId": "e02afa41-f295-4375-ab62-348e307511d3",
        "colab": {
          "base_uri": "https://localhost:8080/"
        }
      },
      "outputs": [
        {
          "output_type": "stream",
          "name": "stdout",
          "text": [
            "1 3\n",
            "2.1 4\n",
            "2.2 [[4 4]\n",
            " [4 4]]\n"
          ]
        }
      ],
      "source": [
        "# ข้อที่ 2 (มี 2 ข้อ)\n",
        "arr = np.array([[[1, 2], [2, 1]], [[3, 2], [2, 3]], [[4, 3], [3, 4]]])  # จงหา\n",
        "# 2.1 arr[0, 0, 0] + arr[1, 1, 1]\n",
        "print(\"2.1\", arr[0,0,0] + arr[1,1,1])\n",
        "\n",
        "# 2.2 arr[0] + arr[1]\n",
        "\n",
        "print(\"2.2\", arr[0] + arr[1])"
      ]
    }
  ],
  "metadata": {
    "colab": {
      "provenance": [],
      "toc_visible": true
    },
    "kernelspec": {
      "display_name": ".venv",
      "language": "python",
      "name": "python3"
    },
    "language_info": {
      "codemirror_mode": {
        "name": "ipython",
        "version": 3
      },
      "file_extension": ".py",
      "mimetype": "text/x-python",
      "name": "python",
      "nbconvert_exporter": "python",
      "pygments_lexer": "ipython3",
      "version": "3.13.5"
    }
  },
  "nbformat": 4,
  "nbformat_minor": 0
}