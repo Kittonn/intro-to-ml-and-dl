{
 "cells": [
  {
   "cell_type": "markdown",
   "metadata": {
    "id": "fkf_cbkhV2Hy"
   },
   "source": [
    "# Math & Matplotlib library"
   ]
  },
  {
   "cell_type": "code",
   "execution_count": 1,
   "metadata": {
    "ExecuteTime": {
     "end_time": "2021-05-05T23:26:31.917301Z",
     "start_time": "2021-05-05T23:26:31.914823Z"
    },
    "executionInfo": {
     "elapsed": 166,
     "status": "ok",
     "timestamp": 1750830101059,
     "user": {
      "displayName": "Nattawut Chayauam",
      "userId": "02605944594835988637"
     },
     "user_tz": -420
    },
    "id": "d3BNS6A-NTEU"
   },
   "outputs": [],
   "source": [
    "import math"
   ]
  },
  {
   "cell_type": "code",
   "execution_count": 2,
   "metadata": {
    "ExecuteTime": {
     "end_time": "2021-05-05T23:26:32.675586Z",
     "start_time": "2021-05-05T23:26:32.671790Z"
    },
    "colab": {
     "base_uri": "https://localhost:8080/"
    },
    "executionInfo": {
     "elapsed": 19,
     "status": "ok",
     "timestamp": 1750830101109,
     "user": {
      "displayName": "Nattawut Chayauam",
      "userId": "02605944594835988637"
     },
     "user_tz": -420
    },
    "id": "iXhgR2qYNTNm",
    "outputId": "2a6eec05-8e72-4a89-ca21-7915e0d62ae2"
   },
   "outputs": [
    {
     "data": {
      "text/plain": [
       "3.141592653589793"
      ]
     },
     "execution_count": 2,
     "metadata": {},
     "output_type": "execute_result"
    }
   ],
   "source": [
    "math.pi"
   ]
  },
  {
   "cell_type": "code",
   "execution_count": 3,
   "metadata": {
    "ExecuteTime": {
     "end_time": "2021-05-05T23:26:36.037291Z",
     "start_time": "2021-05-05T23:26:36.033372Z"
    },
    "colab": {
     "base_uri": "https://localhost:8080/"
    },
    "executionInfo": {
     "elapsed": 24,
     "status": "ok",
     "timestamp": 1750830101163,
     "user": {
      "displayName": "Nattawut Chayauam",
      "userId": "02605944594835988637"
     },
     "user_tz": -420
    },
    "id": "9iuEqRZqNpAp",
    "outputId": "ce8f2ea7-ed9d-4555-e506-fc5a22a48fd4"
   },
   "outputs": [
    {
     "data": {
      "text/plain": [
       "27.0"
      ]
     },
     "execution_count": 3,
     "metadata": {},
     "output_type": "execute_result"
    }
   ],
   "source": [
    "math.pow(3, 3)"
   ]
  },
  {
   "cell_type": "code",
   "execution_count": 4,
   "metadata": {},
   "outputs": [
    {
     "name": "stdout",
     "output_type": "stream",
     "text": [
      "Collecting matplotlib\n",
      "  Using cached matplotlib-3.10.3-cp313-cp313-macosx_11_0_arm64.whl.metadata (11 kB)\n",
      "Collecting contourpy>=1.0.1 (from matplotlib)\n",
      "  Using cached contourpy-1.3.2-cp313-cp313-macosx_11_0_arm64.whl.metadata (5.5 kB)\n",
      "Collecting cycler>=0.10 (from matplotlib)\n",
      "  Using cached cycler-0.12.1-py3-none-any.whl.metadata (3.8 kB)\n",
      "Collecting fonttools>=4.22.0 (from matplotlib)\n",
      "  Using cached fonttools-4.58.5-cp313-cp313-macosx_10_13_universal2.whl.metadata (106 kB)\n",
      "Collecting kiwisolver>=1.3.1 (from matplotlib)\n",
      "  Using cached kiwisolver-1.4.8-cp313-cp313-macosx_11_0_arm64.whl.metadata (6.2 kB)\n",
      "Requirement already satisfied: numpy>=1.23 in /Users/7n100489/Library/CloudStorage/OneDrive-BankofAyudhyaPublicCompanyLimited/Desktop/Workspace/github/intro-to-ml-and-dl/.venv/lib/python3.13/site-packages (from matplotlib) (2.3.1)\n",
      "Requirement already satisfied: packaging>=20.0 in /Users/7n100489/Library/CloudStorage/OneDrive-BankofAyudhyaPublicCompanyLimited/Desktop/Workspace/github/intro-to-ml-and-dl/.venv/lib/python3.13/site-packages (from matplotlib) (25.0)\n",
      "Collecting pillow>=8 (from matplotlib)\n",
      "  Using cached pillow-11.3.0-cp313-cp313-macosx_11_0_arm64.whl.metadata (9.0 kB)\n",
      "Collecting pyparsing>=2.3.1 (from matplotlib)\n",
      "  Using cached pyparsing-3.2.3-py3-none-any.whl.metadata (5.0 kB)\n",
      "Requirement already satisfied: python-dateutil>=2.7 in /Users/7n100489/Library/CloudStorage/OneDrive-BankofAyudhyaPublicCompanyLimited/Desktop/Workspace/github/intro-to-ml-and-dl/.venv/lib/python3.13/site-packages (from matplotlib) (2.9.0.post0)\n",
      "Requirement already satisfied: six>=1.5 in /Users/7n100489/Library/CloudStorage/OneDrive-BankofAyudhyaPublicCompanyLimited/Desktop/Workspace/github/intro-to-ml-and-dl/.venv/lib/python3.13/site-packages (from python-dateutil>=2.7->matplotlib) (1.17.0)\n",
      "Using cached matplotlib-3.10.3-cp313-cp313-macosx_11_0_arm64.whl (8.1 MB)\n",
      "Using cached contourpy-1.3.2-cp313-cp313-macosx_11_0_arm64.whl (255 kB)\n",
      "Using cached cycler-0.12.1-py3-none-any.whl (8.3 kB)\n",
      "Using cached fonttools-4.58.5-cp313-cp313-macosx_10_13_universal2.whl (2.7 MB)\n",
      "Using cached kiwisolver-1.4.8-cp313-cp313-macosx_11_0_arm64.whl (65 kB)\n",
      "Using cached pillow-11.3.0-cp313-cp313-macosx_11_0_arm64.whl (4.7 MB)\n",
      "Using cached pyparsing-3.2.3-py3-none-any.whl (111 kB)\n",
      "Installing collected packages: pyparsing, pillow, kiwisolver, fonttools, cycler, contourpy, matplotlib\n",
      "\u001b[2K   \u001b[38;2;114;156;31m━━━━━━━━━━━━━━━━━━━━━━━━━━━━━━━━━━━━━━━━\u001b[0m \u001b[32m7/7\u001b[0m [matplotlib]\u001b[0m \u001b[32m6/7\u001b[0m [matplotlib]ow]\n",
      "\u001b[1A\u001b[2KSuccessfully installed contourpy-1.3.2 cycler-0.12.1 fonttools-4.58.5 kiwisolver-1.4.8 matplotlib-3.10.3 pillow-11.3.0 pyparsing-3.2.3\n",
      "Note: you may need to restart the kernel to use updated packages.\n"
     ]
    }
   ],
   "source": [
    "%pip install matplotlib"
   ]
  },
  {
   "cell_type": "markdown",
   "metadata": {
    "id": "y6haxACWHbr0"
   },
   "source": [
    "Additional information: https://www.w3schools.com/python/matplotlib_intro.asp"
   ]
  },
  {
   "cell_type": "code",
   "execution_count": 5,
   "metadata": {
    "ExecuteTime": {
     "end_time": "2021-05-05T23:27:01.019063Z",
     "start_time": "2021-05-05T23:26:58.580119Z"
    },
    "executionInfo": {
     "elapsed": 14,
     "status": "ok",
     "timestamp": 1750830101178,
     "user": {
      "displayName": "Nattawut Chayauam",
      "userId": "02605944594835988637"
     },
     "user_tz": -420
    },
    "id": "5I40qkNjNpDm"
   },
   "outputs": [],
   "source": [
    "import matplotlib.pyplot as plt"
   ]
  },
  {
   "cell_type": "code",
   "execution_count": 21,
   "metadata": {
    "ExecuteTime": {
     "end_time": "2021-05-05T23:27:03.751865Z",
     "start_time": "2021-05-05T23:27:03.571411Z"
    },
    "colab": {
     "base_uri": "https://localhost:8080/",
     "height": 447
    },
    "executionInfo": {
     "elapsed": 97,
     "status": "ok",
     "timestamp": 1750830101326,
     "user": {
      "displayName": "Nattawut Chayauam",
      "userId": "02605944594835988637"
     },
     "user_tz": -420
    },
    "id": "FHQaCMdsV2H2",
    "outputId": "42f5086e-2e09-440a-a92d-105ba72269fc"
   },
   "outputs": [
    {
     "data": {
      "image/png": "[encoded data removed]",
      "text/plain": [
       "<Figure size 640x480 with 1 Axes>"
      ]
     },
     "metadata": {},
     "output_type": "display_data"
    }
   ],
   "source": [
    "x = [1, 2, 3.4, 6, 8]\n",
    "y = [2, 4, 9, 10, 7]\n",
    "plt.plot(x, y, color ='green', marker='o');"
   ]
  },
  {
   "cell_type": "code",
   "execution_count": 58,
   "metadata": {
    "ExecuteTime": {
     "end_time": "2021-05-05T16:06:55.099016Z",
     "start_time": "2021-05-05T16:06:54.979766Z"
    },
    "colab": {
     "base_uri": "https://localhost:8080/",
     "height": 452
    },
    "executionInfo": {
     "elapsed": 349,
     "status": "ok",
     "timestamp": 1750830101678,
     "user": {
      "displayName": "Nattawut Chayauam",
      "userId": "02605944594835988637"
     },
     "user_tz": -420
    },
    "id": "uUT_mSHBUurw",
    "outputId": "81e0a9a6-2597-4bd3-f149-a6735fc3bbb8"
   },
   "outputs": [
    {
     "data": {
      "image/png": "[encoded data removed]",
      "text/plain": [
       "<Figure size 640x480 with 1 Axes>"
      ]
     },
     "metadata": {},
     "output_type": "display_data"
    }
   ],
   "source": [
    "plt.plot(x, y, 'go')\n",
    "plt.title(\"My Graph\")\n",
    "plt.axis([0,10, 0, 12]); # using ';' to prevent the info line"
   ]
  },
  {
   "cell_type": "code",
   "execution_count": 8,
   "metadata": {
    "ExecuteTime": {
     "end_time": "2021-05-05T23:27:55.623984Z",
     "start_time": "2021-05-05T23:27:55.491634Z"
    },
    "colab": {
     "base_uri": "https://localhost:8080/",
     "height": 430
    },
    "executionInfo": {
     "elapsed": 311,
     "status": "ok",
     "timestamp": 1750830102024,
     "user": {
      "displayName": "Nattawut Chayauam",
      "userId": "02605944594835988637"
     },
     "user_tz": -420
    },
    "id": "Hnam_oI2VEpV",
    "outputId": "38b4fd6a-c56b-4ed8-8740-ba0c022ec6c5"
   },
   "outputs": [
    {
     "data": {
      "image/png": "[encoded data removed]",
      "text/plain": [
       "<Figure size 640x480 with 1 Axes>"
      ]
     },
     "metadata": {},
     "output_type": "display_data"
    }
   ],
   "source": [
    "plt.plot(x);"
   ]
  },
  {
   "cell_type": "code",
   "execution_count": 9,
   "metadata": {
    "ExecuteTime": {
     "end_time": "2021-05-05T23:28:02.129779Z",
     "start_time": "2021-05-05T23:28:02.127171Z"
    },
    "executionInfo": {
     "elapsed": 3,
     "status": "ok",
     "timestamp": 1750830102035,
     "user": {
      "displayName": "Nattawut Chayauam",
      "userId": "02605944594835988637"
     },
     "user_tz": -420
    },
    "id": "oa79uiIOUuuY"
   },
   "outputs": [],
   "source": [
    "import numpy as np"
   ]
  },
  {
   "cell_type": "code",
   "execution_count": 10,
   "metadata": {
    "ExecuteTime": {
     "end_time": "2021-05-05T23:28:03.954539Z",
     "start_time": "2021-05-05T23:28:03.951896Z"
    },
    "executionInfo": {
     "elapsed": 45,
     "status": "ok",
     "timestamp": 1750830102083,
     "user": {
      "displayName": "Nattawut Chayauam",
      "userId": "02605944594835988637"
     },
     "user_tz": -420
    },
    "id": "3_NGpaBvV2H5"
   },
   "outputs": [],
   "source": [
    "x = np.arange(0, 4*np.pi, 0.1)"
   ]
  },
  {
   "cell_type": "code",
   "execution_count": 11,
   "metadata": {
    "ExecuteTime": {
     "end_time": "2021-05-05T23:28:04.826605Z",
     "start_time": "2021-05-05T23:28:04.821420Z"
    },
    "colab": {
     "base_uri": "https://localhost:8080/"
    },
    "executionInfo": {
     "elapsed": 45,
     "status": "ok",
     "timestamp": 1750830102085,
     "user": {
      "displayName": "Nattawut Chayauam",
      "userId": "02605944594835988637"
     },
     "user_tz": -420
    },
    "id": "MRpzFPkkYD7n",
    "outputId": "571dcbf5-4472-4167-eac9-3b4b6e0da76f"
   },
   "outputs": [
    {
     "data": {
      "text/plain": [
       "array([ 0. ,  0.1,  0.2,  0.3,  0.4,  0.5,  0.6,  0.7,  0.8,  0.9,  1. ,\n",
       "        1.1,  1.2,  1.3,  1.4,  1.5,  1.6,  1.7,  1.8,  1.9,  2. ,  2.1,\n",
       "        2.2,  2.3,  2.4,  2.5,  2.6,  2.7,  2.8,  2.9,  3. ,  3.1,  3.2,\n",
       "        3.3,  3.4,  3.5,  3.6,  3.7,  3.8,  3.9,  4. ,  4.1,  4.2,  4.3,\n",
       "        4.4,  4.5,  4.6,  4.7,  4.8,  4.9,  5. ,  5.1,  5.2,  5.3,  5.4,\n",
       "        5.5,  5.6,  5.7,  5.8,  5.9,  6. ,  6.1,  6.2,  6.3,  6.4,  6.5,\n",
       "        6.6,  6.7,  6.8,  6.9,  7. ,  7.1,  7.2,  7.3,  7.4,  7.5,  7.6,\n",
       "        7.7,  7.8,  7.9,  8. ,  8.1,  8.2,  8.3,  8.4,  8.5,  8.6,  8.7,\n",
       "        8.8,  8.9,  9. ,  9.1,  9.2,  9.3,  9.4,  9.5,  9.6,  9.7,  9.8,\n",
       "        9.9, 10. , 10.1, 10.2, 10.3, 10.4, 10.5, 10.6, 10.7, 10.8, 10.9,\n",
       "       11. , 11.1, 11.2, 11.3, 11.4, 11.5, 11.6, 11.7, 11.8, 11.9, 12. ,\n",
       "       12.1, 12.2, 12.3, 12.4, 12.5])"
      ]
     },
     "execution_count": 11,
     "metadata": {},
     "output_type": "execute_result"
    }
   ],
   "source": [
    "x"
   ]
  },
  {
   "cell_type": "code",
   "execution_count": 12,
   "metadata": {
    "ExecuteTime": {
     "end_time": "2021-05-05T23:28:20.144240Z",
     "start_time": "2021-05-05T23:28:20.140027Z"
    },
    "colab": {
     "base_uri": "https://localhost:8080/"
    },
    "executionInfo": {
     "elapsed": 31,
     "status": "ok",
     "timestamp": 1750830102086,
     "user": {
      "displayName": "Nattawut Chayauam",
      "userId": "02605944594835988637"
     },
     "user_tz": -420
    },
    "id": "PjfBnRDjV2H5",
    "outputId": "f00b80c0-3abb-4ace-8b82-4cee40910075"
   },
   "outputs": [
    {
     "data": {
      "text/plain": [
       "numpy.ndarray"
      ]
     },
     "execution_count": 12,
     "metadata": {},
     "output_type": "execute_result"
    }
   ],
   "source": [
    "type(x)"
   ]
  },
  {
   "cell_type": "code",
   "execution_count": 13,
   "metadata": {
    "ExecuteTime": {
     "end_time": "2021-05-05T23:28:29.716869Z",
     "start_time": "2021-05-05T23:28:29.714227Z"
    },
    "executionInfo": {
     "elapsed": 16,
     "status": "ok",
     "timestamp": 1750830102089,
     "user": {
      "displayName": "Nattawut Chayauam",
      "userId": "02605944594835988637"
     },
     "user_tz": -420
    },
    "id": "91b6PsdyYD-T"
   },
   "outputs": [],
   "source": [
    "y = np.sin(x)"
   ]
  },
  {
   "cell_type": "code",
   "execution_count": 14,
   "metadata": {
    "ExecuteTime": {
     "end_time": "2021-05-05T23:28:31.655976Z",
     "start_time": "2021-05-05T23:28:31.517448Z"
    },
    "colab": {
     "base_uri": "https://localhost:8080/",
     "height": 452
    },
    "executionInfo": {
     "elapsed": 255,
     "status": "ok",
     "timestamp": 1750830102334,
     "user": {
      "displayName": "Nattawut Chayauam",
      "userId": "02605944594835988637"
     },
     "user_tz": -420
    },
    "id": "d_mgILcNYEAP",
    "outputId": "9ebe020a-2677-4717-8d6f-df98405a9b1e"
   },
   "outputs": [
    {
     "data": {
      "image/png": "[encoded data removed]",
      "text/plain": [
       "<Figure size 640x480 with 1 Axes>"
      ]
     },
     "metadata": {},
     "output_type": "display_data"
    }
   ],
   "source": [
    "plt.plot(x,y);\n",
    "plt.title(\"Sine Wave\")\n",
    "plt.grid();"
   ]
  },
  {
   "cell_type": "code",
   "execution_count": 15,
   "metadata": {
    "ExecuteTime": {
     "end_time": "2021-05-05T23:28:39.684631Z",
     "start_time": "2021-05-05T23:28:39.412138Z"
    },
    "colab": {
     "base_uri": "https://localhost:8080/",
     "height": 919
    },
    "executionInfo": {
     "elapsed": 655,
     "status": "ok",
     "timestamp": 1750830102990,
     "user": {
      "displayName": "Nattawut Chayauam",
      "userId": "02605944594835988637"
     },
     "user_tz": -420
    },
    "id": "o53T1OAoWaJ5",
    "outputId": "753666ea-0c0d-47be-afd0-e9c885435386"
   },
   "outputs": [
    {
     "data": {
      "image/png": "[encoded data removed]",
      "text/plain": [
       "<Figure size 1000x500 with 1 Axes>"
      ]
     },
     "metadata": {},
     "output_type": "display_data"
    },
    {
     "data": {
      "image/png": "[encoded data removed]",
      "text/plain": [
       "<Figure size 1000x500 with 1 Axes>"
      ]
     },
     "metadata": {},
     "output_type": "display_data"
    }
   ],
   "source": [
    "plt.figure(figsize=(10,5))\n",
    "x = np.arange(0, 2*2*np.pi, 0.1)\n",
    "y = 1*np.sin(x)\n",
    "plt.plot(x,y)\n",
    "plt.title(\"Sine Wave\")\n",
    "#plt.grid()\n",
    "plt.show()\n",
    "\n",
    "plt.figure(figsize=(10,5))\n",
    "z = np.arange(0, 4*2*np.pi, 0.1)\n",
    "t = np.cos(z)\n",
    "plt.plot(z, t)\n",
    "plt.title(\"Cosine Wave\")\n",
    "plt.grid()"
   ]
  },
  {
   "cell_type": "code",
   "execution_count": 16,
   "metadata": {
    "ExecuteTime": {
     "end_time": "2021-05-05T23:29:31.152077Z",
     "start_time": "2021-05-05T23:29:30.966543Z"
    },
    "colab": {
     "base_uri": "https://localhost:8080/",
     "height": 468
    },
    "executionInfo": {
     "elapsed": 589,
     "status": "ok",
     "timestamp": 1750830103513,
     "user": {
      "displayName": "Nattawut Chayauam",
      "userId": "02605944594835988637"
     },
     "user_tz": -420
    },
    "id": "QZcy1zzbgyn-",
    "outputId": "98d1d7b8-d41f-4333-b59a-eb6d2658febf"
   },
   "outputs": [
    {
     "data": {
      "image/png": "[encoded data removed]",
      "text/plain": [
       "<Figure size 1000x500 with 1 Axes>"
      ]
     },
     "metadata": {},
     "output_type": "display_data"
    }
   ],
   "source": [
    "plt.figure(figsize=(10,5))\n",
    "x = np.arange(0, 2*2*np.pi, 0.1)\n",
    "y = 1*np.sin(x)\n",
    "#plt.plot(x,y)\n",
    "z = np.arange(0, 4*2*np.pi, 0.1)\n",
    "t = np.cos(z)\n",
    "plt.plot(x, y, z, t)\n",
    "plt.title(\"Sine/Cosine Wave\")\n",
    "plt.grid()"
   ]
  },
  {
   "cell_type": "markdown",
   "metadata": {
    "id": "Obl_cGcFooac"
   },
   "source": [
    "ใส่ทั้ง  plt.grid() และ plt.show(); เพราะบางกรณีเมื่อทำการพล็อตกราฟ แต่ไม่ใช้ plt.show() ภาพของกราฟอาจจะไม่แสดง\n"
   ]
  },
  {
   "cell_type": "code",
   "execution_count": 17,
   "metadata": {
    "ExecuteTime": {
     "end_time": "2021-05-05T23:29:36.063006Z",
     "start_time": "2021-05-05T23:29:36.058075Z"
    },
    "executionInfo": {
     "elapsed": 4,
     "status": "ok",
     "timestamp": 1750830103519,
     "user": {
      "displayName": "Nattawut Chayauam",
      "userId": "02605944594835988637"
     },
     "user_tz": -420
    },
    "id": "vxtyGqbGY9Vr"
   },
   "outputs": [],
   "source": [
    "def plot_senoidal(nper=1, amp=1, ph=0):\n",
    "    plt.figure(figsize=(10,5))\n",
    "    x = np.arange(0, nper*2*np.pi, 0.1)\n",
    "    y = amp*np.sin(x+ph*np.pi)\n",
    "    plt.plot(x,y)\n",
    "    plt.title(\"Sine Wave with shifting 90 degrees\")\n",
    "    plt.grid()\n",
    "    plt.show();"
   ]
  },
  {
   "cell_type": "code",
   "execution_count": 18,
   "metadata": {
    "ExecuteTime": {
     "end_time": "2021-05-05T23:29:41.214124Z",
     "start_time": "2021-05-05T23:29:41.073827Z"
    },
    "colab": {
     "base_uri": "https://localhost:8080/",
     "height": 468
    },
    "executionInfo": {
     "elapsed": 60,
     "status": "ok",
     "timestamp": 1750830103582,
     "user": {
      "displayName": "Nattawut Chayauam",
      "userId": "02605944594835988637"
     },
     "user_tz": -420
    },
    "id": "xxvP3ITOaMCd",
    "outputId": "e0773cd4-7a1f-4d28-f88b-c5ec0be1ca43"
   },
   "outputs": [
    {
     "data": {
      "image/png": "[encoded data removed]",
      "text/plain": [
       "<Figure size 1000x500 with 1 Axes>"
      ]
     },
     "metadata": {},
     "output_type": "display_data"
    }
   ],
   "source": [
    "plot_senoidal(nper=2, amp=2, ph=-1/2)"
   ]
  },
  {
   "cell_type": "code",
   "execution_count": 19,
   "metadata": {
    "colab": {
     "base_uri": "https://localhost:8080/",
     "height": 545
    },
    "executionInfo": {
     "elapsed": 164,
     "status": "ok",
     "timestamp": 1750830103752,
     "user": {
      "displayName": "Nattawut Chayauam",
      "userId": "02605944594835988637"
     },
     "user_tz": -420
    },
    "id": "EdHBD3_KLvuN",
    "outputId": "f9a1a64a-bc9b-4cfa-eebe-0771152e5885"
   },
   "outputs": [
    {
     "data": {
      "image/png": "[encoded data removed]",
      "text/plain": [
       "<Figure size 600x600 with 1 Axes>"
      ]
     },
     "metadata": {},
     "output_type": "display_data"
    }
   ],
   "source": [
    "import matplotlib.pyplot as plt\n",
    "import numpy as np\n",
    "\n",
    "t = np.linspace(0, 2 * np.pi, 1000)\n",
    "\n",
    "x = 16 * np.sin(t) ** 3\n",
    "y = 13 * np.cos(t) - 5 * np.cos(2 * t) - 2 * np.cos(3 * t) - np.cos(4 * t)\n",
    "\n",
    "plt.figure(figsize=(6, 6))\n",
    "\n",
    "plt.plot(x[x < 0], y[x < 0], color='red')\n",
    "\n",
    "plt.plot(x[x > 0], y[x > 0], color='blue')\n",
    "\n",
    "plt.title(\"Heart Shape\")\n",
    "plt.axis('equal')\n",
    "plt.show()"
   ]
  },
  {
   "cell_type": "markdown",
   "metadata": {
    "id": "5F0tXC-mjtlm"
   },
   "source": [
    "-----------\n",
    "# Pandas"
   ]
  },
  {
   "cell_type": "markdown",
   "metadata": {
    "id": "55zvn0shHhuj"
   },
   "source": [
    "Additional information: https://www.w3schools.com/python/pandas/default.asp"
   ]
  },
  {
   "cell_type": "code",
   "execution_count": 22,
   "metadata": {},
   "outputs": [
    {
     "name": "stdout",
     "output_type": "stream",
     "text": [
      "Collecting pandas\n",
      "  Downloading pandas-2.3.0-cp313-cp313-macosx_11_0_arm64.whl.metadata (91 kB)\n",
      "Requirement already satisfied: numpy>=1.26.0 in /Users/7n100489/Library/CloudStorage/OneDrive-BankofAyudhyaPublicCompanyLimited/Desktop/Workspace/github/intro-to-ml-and-dl/.venv/lib/python3.13/site-packages (from pandas) (2.3.1)\n",
      "Requirement already satisfied: python-dateutil>=2.8.2 in /Users/7n100489/Library/CloudStorage/OneDrive-BankofAyudhyaPublicCompanyLimited/Desktop/Workspace/github/intro-to-ml-and-dl/.venv/lib/python3.13/site-packages (from pandas) (2.9.0.post0)\n",
      "Collecting pytz>=2020.1 (from pandas)\n",
      "  Downloading pytz-2025.2-py2.py3-none-any.whl.metadata (22 kB)\n",
      "Collecting tzdata>=2022.7 (from pandas)\n",
      "  Downloading tzdata-2025.2-py2.py3-none-any.whl.metadata (1.4 kB)\n",
      "Requirement already satisfied: six>=1.5 in /Users/7n100489/Library/CloudStorage/OneDrive-BankofAyudhyaPublicCompanyLimited/Desktop/Workspace/github/intro-to-ml-and-dl/.venv/lib/python3.13/site-packages (from python-dateutil>=2.8.2->pandas) (1.17.0)\n",
      "Downloading pandas-2.3.0-cp313-cp313-macosx_11_0_arm64.whl (10.7 MB)\n",
      "\u001b[2K   \u001b[38;2;114;156;31m━━━━━━━━━━━━━━━━━━━━━━━━━━━━━━━━━━━━━━━━\u001b[0m \u001b[32m10.7/10.7 MB\u001b[0m \u001b[31m7.9 MB/s\u001b[0m eta \u001b[36m0:00:00\u001b[0mMB/s\u001b[0m eta \u001b[36m0:00:01\u001b[0m:01\u001b[0mm\n",
      "\u001b[?25hDownloading pytz-2025.2-py2.py3-none-any.whl (509 kB)\n",
      "Downloading tzdata-2025.2-py2.py3-none-any.whl (347 kB)\n",
      "Installing collected packages: pytz, tzdata, pandas\n",
      "\u001b[2K   \u001b[38;2;114;156;31m━━━━━━━━━━━━━━━━━━━━━━━━━━━━━━━━━━━━━━━━\u001b[0m \u001b[32m3/3\u001b[0m [pandas]━━━━━━━━━━━\u001b[0m \u001b[32m2/3\u001b[0m [pandas]\n",
      "\u001b[1A\u001b[2KSuccessfully installed pandas-2.3.0 pytz-2025.2 tzdata-2025.2\n",
      "Note: you may need to restart the kernel to use updated packages.\n"
     ]
    }
   ],
   "source": [
    "%pip install pandas"
   ]
  },
  {
   "cell_type": "code",
   "execution_count": 23,
   "metadata": {
    "ExecuteTime": {
     "end_time": "2021-05-05T23:30:17.274873Z",
     "start_time": "2021-05-05T23:30:13.230739Z"
    },
    "executionInfo": {
     "elapsed": 1597,
     "status": "ok",
     "timestamp": 1750830105351,
     "user": {
      "displayName": "Nattawut Chayauam",
      "userId": "02605944594835988637"
     },
     "user_tz": -420
    },
    "id": "DIr8EgqVjy37"
   },
   "outputs": [],
   "source": [
    "import pandas as pd"
   ]
  },
  {
   "cell_type": "markdown",
   "metadata": {
    "id": "QBIKjfLn7MMr"
   },
   "source": [
    "## Option 1: Creating a Dataframe"
   ]
  },
  {
   "cell_type": "code",
   "execution_count": 24,
   "metadata": {
    "ExecuteTime": {
     "end_time": "2021-05-05T23:30:19.254917Z",
     "start_time": "2021-05-05T23:30:19.247149Z"
    },
    "colab": {
     "base_uri": "https://localhost:8080/"
    },
    "executionInfo": {
     "elapsed": 14,
     "status": "ok",
     "timestamp": 1750830105369,
     "user": {
      "displayName": "Nattawut Chayauam",
      "userId": "02605944594835988637"
     },
     "user_tz": -420
    },
    "id": "QaW9PfDT7Ywc",
    "outputId": "0daa1a03-4091-4d45-cde4-26844cbf3cc3"
   },
   "outputs": [
    {
     "data": {
      "text/plain": [
       "(6, 3)"
      ]
     },
     "execution_count": 24,
     "metadata": {},
     "output_type": "execute_result"
    }
   ],
   "source": [
    "df = pd.DataFrame({'label': ['A', 'B', 'C', 'A', 'B', 'C'],\n",
    "                   'value_1': [1, 22, 3, 455, 50, 6],\n",
    "                   'value_2': [1.5, 2.8, 3.9, 4.85, 50.67, 6.78],\n",
    "                   })\n",
    "df.shape"
   ]
  },
  {
   "cell_type": "code",
   "execution_count": 25,
   "metadata": {
    "ExecuteTime": {
     "end_time": "2021-05-05T23:30:20.088034Z",
     "start_time": "2021-05-05T23:30:20.060929Z"
    },
    "colab": {
     "base_uri": "https://localhost:8080/",
     "height": 238
    },
    "executionInfo": {
     "elapsed": 132,
     "status": "ok",
     "timestamp": 1750830105504,
     "user": {
      "displayName": "Nattawut Chayauam",
      "userId": "02605944594835988637"
     },
     "user_tz": -420
    },
    "id": "vNUvEz7t7Y5B",
    "outputId": "9f0bcf3b-3ff8-4e57-edf2-4569e5394aa8"
   },
   "outputs": [
    {
     "data": {
      "text/html": [
       "<div>\n",
       "<style scoped>\n",
       "    .dataframe tbody tr th:only-of-type {\n",
       "        vertical-align: middle;\n",
       "    }\n",
       "\n",
       "    .dataframe tbody tr th {\n",
       "        vertical-align: top;\n",
       "    }\n",
       "\n",
       "    .dataframe thead th {\n",
       "        text-align: right;\n",
       "    }\n",
       "</style>\n",
       "<table border=\"1\" class=\"dataframe\">\n",
       "  <thead>\n",
       "    <tr style=\"text-align: right;\">\n",
       "      <th></th>\n",
       "      <th>label</th>\n",
       "      <th>value_1</th>\n",
       "      <th>value_2</th>\n",
       "    </tr>\n",
       "  </thead>\n",
       "  <tbody>\n",
       "    <tr>\n",
       "      <th>0</th>\n",
       "      <td>A</td>\n",
       "      <td>1</td>\n",
       "      <td>1.50</td>\n",
       "    </tr>\n",
       "    <tr>\n",
       "      <th>1</th>\n",
       "      <td>B</td>\n",
       "      <td>22</td>\n",
       "      <td>2.80</td>\n",
       "    </tr>\n",
       "    <tr>\n",
       "      <th>2</th>\n",
       "      <td>C</td>\n",
       "      <td>3</td>\n",
       "      <td>3.90</td>\n",
       "    </tr>\n",
       "    <tr>\n",
       "      <th>3</th>\n",
       "      <td>A</td>\n",
       "      <td>455</td>\n",
       "      <td>4.85</td>\n",
       "    </tr>\n",
       "    <tr>\n",
       "      <th>4</th>\n",
       "      <td>B</td>\n",
       "      <td>50</td>\n",
       "      <td>50.67</td>\n",
       "    </tr>\n",
       "    <tr>\n",
       "      <th>5</th>\n",
       "      <td>C</td>\n",
       "      <td>6</td>\n",
       "      <td>6.78</td>\n",
       "    </tr>\n",
       "  </tbody>\n",
       "</table>\n",
       "</div>"
      ],
      "text/plain": [
       "  label  value_1  value_2\n",
       "0     A        1     1.50\n",
       "1     B       22     2.80\n",
       "2     C        3     3.90\n",
       "3     A      455     4.85\n",
       "4     B       50    50.67\n",
       "5     C        6     6.78"
      ]
     },
     "execution_count": 25,
     "metadata": {},
     "output_type": "execute_result"
    }
   ],
   "source": [
    "df"
   ]
  },
  {
   "cell_type": "code",
   "execution_count": 26,
   "metadata": {
    "ExecuteTime": {
     "end_time": "2021-05-05T23:30:21.214701Z",
     "start_time": "2021-05-05T23:30:21.208102Z"
    },
    "colab": {
     "base_uri": "https://localhost:8080/"
    },
    "executionInfo": {
     "elapsed": 40,
     "status": "ok",
     "timestamp": 1750830105574,
     "user": {
      "displayName": "Nattawut Chayauam",
      "userId": "02605944594835988637"
     },
     "user_tz": -420
    },
    "id": "FqPG4_Zz7_qL",
    "outputId": "d04cc361-f5d8-4b54-d502-13edb05fc825"
   },
   "outputs": [
    {
     "name": "stdout",
     "output_type": "stream",
     "text": [
      "<class 'pandas.core.frame.DataFrame'>\n",
      "RangeIndex: 6 entries, 0 to 5\n",
      "Data columns (total 3 columns):\n",
      " #   Column   Non-Null Count  Dtype  \n",
      "---  ------   --------------  -----  \n",
      " 0   label    6 non-null      object \n",
      " 1   value_1  6 non-null      int64  \n",
      " 2   value_2  6 non-null      float64\n",
      "dtypes: float64(1), int64(1), object(1)\n",
      "memory usage: 276.0+ bytes\n"
     ]
    }
   ],
   "source": [
    "df.info()"
   ]
  },
  {
   "cell_type": "code",
   "execution_count": 27,
   "metadata": {
    "ExecuteTime": {
     "end_time": "2021-05-05T23:30:26.174556Z",
     "start_time": "2021-05-05T23:30:26.164041Z"
    },
    "colab": {
     "base_uri": "https://localhost:8080/",
     "height": 238
    },
    "executionInfo": {
     "elapsed": 893,
     "status": "ok",
     "timestamp": 1750830106511,
     "user": {
      "displayName": "Nattawut Chayauam",
      "userId": "02605944594835988637"
     },
     "user_tz": -420
    },
    "id": "Q3jrPC8f8gGY",
    "outputId": "3f1fc614-3740-4cd1-92e2-f4d56dea9448"
   },
   "outputs": [
    {
     "data": {
      "text/html": [
       "<div>\n",
       "<style scoped>\n",
       "    .dataframe tbody tr th:only-of-type {\n",
       "        vertical-align: middle;\n",
       "    }\n",
       "\n",
       "    .dataframe tbody tr th {\n",
       "        vertical-align: top;\n",
       "    }\n",
       "\n",
       "    .dataframe thead th {\n",
       "        text-align: right;\n",
       "    }\n",
       "</style>\n",
       "<table border=\"1\" class=\"dataframe\">\n",
       "  <thead>\n",
       "    <tr style=\"text-align: right;\">\n",
       "      <th></th>\n",
       "      <th>label</th>\n",
       "      <th>value_1</th>\n",
       "      <th>value_2</th>\n",
       "      <th>value_3</th>\n",
       "    </tr>\n",
       "  </thead>\n",
       "  <tbody>\n",
       "    <tr>\n",
       "      <th>0</th>\n",
       "      <td>A</td>\n",
       "      <td>1</td>\n",
       "      <td>1.50</td>\n",
       "      <td>True</td>\n",
       "    </tr>\n",
       "    <tr>\n",
       "      <th>1</th>\n",
       "      <td>B</td>\n",
       "      <td>22</td>\n",
       "      <td>2.80</td>\n",
       "      <td>True</td>\n",
       "    </tr>\n",
       "    <tr>\n",
       "      <th>2</th>\n",
       "      <td>C</td>\n",
       "      <td>3</td>\n",
       "      <td>3.90</td>\n",
       "      <td>False</td>\n",
       "    </tr>\n",
       "    <tr>\n",
       "      <th>3</th>\n",
       "      <td>A</td>\n",
       "      <td>455</td>\n",
       "      <td>4.85</td>\n",
       "      <td>False</td>\n",
       "    </tr>\n",
       "    <tr>\n",
       "      <th>4</th>\n",
       "      <td>B</td>\n",
       "      <td>50</td>\n",
       "      <td>50.67</td>\n",
       "      <td>True</td>\n",
       "    </tr>\n",
       "    <tr>\n",
       "      <th>5</th>\n",
       "      <td>C</td>\n",
       "      <td>6</td>\n",
       "      <td>6.78</td>\n",
       "      <td>True</td>\n",
       "    </tr>\n",
       "  </tbody>\n",
       "</table>\n",
       "</div>"
      ],
      "text/plain": [
       "  label  value_1  value_2  value_3\n",
       "0     A        1     1.50     True\n",
       "1     B       22     2.80     True\n",
       "2     C        3     3.90    False\n",
       "3     A      455     4.85    False\n",
       "4     B       50    50.67     True\n",
       "5     C        6     6.78     True"
      ]
     },
     "execution_count": 27,
     "metadata": {},
     "output_type": "execute_result"
    }
   ],
   "source": [
    "df['value_3'] = [True, True, False, False, True, True]\n",
    "df"
   ]
  },
  {
   "cell_type": "code",
   "execution_count": 28,
   "metadata": {
    "ExecuteTime": {
     "end_time": "2021-05-05T23:30:29.681145Z",
     "start_time": "2021-05-05T23:30:29.673868Z"
    },
    "colab": {
     "base_uri": "https://localhost:8080/"
    },
    "executionInfo": {
     "elapsed": 55,
     "status": "ok",
     "timestamp": 1750830106592,
     "user": {
      "displayName": "Nattawut Chayauam",
      "userId": "02605944594835988637"
     },
     "user_tz": -420
    },
    "id": "M4T48LZx9GHB",
    "outputId": "1c9233b0-7754-42fa-cdf0-ec05ba5a5849"
   },
   "outputs": [
    {
     "name": "stdout",
     "output_type": "stream",
     "text": [
      "<class 'pandas.core.frame.DataFrame'>\n",
      "RangeIndex: 6 entries, 0 to 5\n",
      "Data columns (total 4 columns):\n",
      " #   Column   Non-Null Count  Dtype  \n",
      "---  ------   --------------  -----  \n",
      " 0   label    6 non-null      object \n",
      " 1   value_1  6 non-null      int64  \n",
      " 2   value_2  6 non-null      float64\n",
      " 3   value_3  6 non-null      bool   \n",
      "dtypes: bool(1), float64(1), int64(1), object(1)\n",
      "memory usage: 282.0+ bytes\n"
     ]
    }
   ],
   "source": [
    "df.info()"
   ]
  },
  {
   "cell_type": "code",
   "execution_count": 29,
   "metadata": {
    "ExecuteTime": {
     "end_time": "2021-05-05T23:30:30.650584Z",
     "start_time": "2021-05-05T23:30:30.642320Z"
    },
    "colab": {
     "base_uri": "https://localhost:8080/",
     "height": 112
    },
    "executionInfo": {
     "elapsed": 103,
     "status": "ok",
     "timestamp": 1750830106655,
     "user": {
      "displayName": "Nattawut Chayauam",
      "userId": "02605944594835988637"
     },
     "user_tz": -420
    },
    "id": "vTX2T3Hj9j0S",
    "outputId": "b8050668-6e16-48da-f14a-53f0f6fce6b1"
   },
   "outputs": [
    {
     "data": {
      "text/html": [
       "<div>\n",
       "<style scoped>\n",
       "    .dataframe tbody tr th:only-of-type {\n",
       "        vertical-align: middle;\n",
       "    }\n",
       "\n",
       "    .dataframe tbody tr th {\n",
       "        vertical-align: top;\n",
       "    }\n",
       "\n",
       "    .dataframe thead th {\n",
       "        text-align: right;\n",
       "    }\n",
       "</style>\n",
       "<table border=\"1\" class=\"dataframe\">\n",
       "  <thead>\n",
       "    <tr style=\"text-align: right;\">\n",
       "      <th></th>\n",
       "      <th>label</th>\n",
       "      <th>value_1</th>\n",
       "      <th>value_2</th>\n",
       "      <th>value_3</th>\n",
       "    </tr>\n",
       "  </thead>\n",
       "  <tbody>\n",
       "    <tr>\n",
       "      <th>0</th>\n",
       "      <td>A</td>\n",
       "      <td>1</td>\n",
       "      <td>1.5</td>\n",
       "      <td>True</td>\n",
       "    </tr>\n",
       "    <tr>\n",
       "      <th>1</th>\n",
       "      <td>B</td>\n",
       "      <td>22</td>\n",
       "      <td>2.8</td>\n",
       "      <td>True</td>\n",
       "    </tr>\n",
       "  </tbody>\n",
       "</table>\n",
       "</div>"
      ],
      "text/plain": [
       "  label  value_1  value_2  value_3\n",
       "0     A        1      1.5     True\n",
       "1     B       22      2.8     True"
      ]
     },
     "execution_count": 29,
     "metadata": {},
     "output_type": "execute_result"
    }
   ],
   "source": [
    "df.head(2)"
   ]
  },
  {
   "cell_type": "code",
   "execution_count": 30,
   "metadata": {
    "ExecuteTime": {
     "end_time": "2021-05-05T23:30:33.384453Z",
     "start_time": "2021-05-05T23:30:33.375475Z"
    },
    "colab": {
     "base_uri": "https://localhost:8080/",
     "height": 112
    },
    "executionInfo": {
     "elapsed": 92,
     "status": "ok",
     "timestamp": 1750830106753,
     "user": {
      "displayName": "Nattawut Chayauam",
      "userId": "02605944594835988637"
     },
     "user_tz": -420
    },
    "id": "tnYJee0n92Tr",
    "outputId": "15cfe70a-c08f-4d0a-de54-fd667b77b395"
   },
   "outputs": [
    {
     "data": {
      "text/html": [
       "<div>\n",
       "<style scoped>\n",
       "    .dataframe tbody tr th:only-of-type {\n",
       "        vertical-align: middle;\n",
       "    }\n",
       "\n",
       "    .dataframe tbody tr th {\n",
       "        vertical-align: top;\n",
       "    }\n",
       "\n",
       "    .dataframe thead th {\n",
       "        text-align: right;\n",
       "    }\n",
       "</style>\n",
       "<table border=\"1\" class=\"dataframe\">\n",
       "  <thead>\n",
       "    <tr style=\"text-align: right;\">\n",
       "      <th></th>\n",
       "      <th>label</th>\n",
       "      <th>value_1</th>\n",
       "      <th>value_2</th>\n",
       "      <th>value_3</th>\n",
       "    </tr>\n",
       "  </thead>\n",
       "  <tbody>\n",
       "    <tr>\n",
       "      <th>4</th>\n",
       "      <td>B</td>\n",
       "      <td>50</td>\n",
       "      <td>50.67</td>\n",
       "      <td>True</td>\n",
       "    </tr>\n",
       "    <tr>\n",
       "      <th>5</th>\n",
       "      <td>C</td>\n",
       "      <td>6</td>\n",
       "      <td>6.78</td>\n",
       "      <td>True</td>\n",
       "    </tr>\n",
       "  </tbody>\n",
       "</table>\n",
       "</div>"
      ],
      "text/plain": [
       "  label  value_1  value_2  value_3\n",
       "4     B       50    50.67     True\n",
       "5     C        6     6.78     True"
      ]
     },
     "execution_count": 30,
     "metadata": {},
     "output_type": "execute_result"
    }
   ],
   "source": [
    "df.tail(2)"
   ]
  },
  {
   "cell_type": "code",
   "execution_count": 31,
   "metadata": {
    "ExecuteTime": {
     "end_time": "2021-05-05T23:30:42.133190Z",
     "start_time": "2021-05-05T23:30:42.117467Z"
    },
    "colab": {
     "base_uri": "https://localhost:8080/",
     "height": 300
    },
    "executionInfo": {
     "elapsed": 91,
     "status": "ok",
     "timestamp": 1750830106846,
     "user": {
      "displayName": "Nattawut Chayauam",
      "userId": "02605944594835988637"
     },
     "user_tz": -420
    },
    "id": "g9b_U-PB99LW",
    "outputId": "81250348-cb4c-4d48-fda0-4c034d47a4dc"
   },
   "outputs": [
    {
     "data": {
      "text/html": [
       "<div>\n",
       "<style scoped>\n",
       "    .dataframe tbody tr th:only-of-type {\n",
       "        vertical-align: middle;\n",
       "    }\n",
       "\n",
       "    .dataframe tbody tr th {\n",
       "        vertical-align: top;\n",
       "    }\n",
       "\n",
       "    .dataframe thead th {\n",
       "        text-align: right;\n",
       "    }\n",
       "</style>\n",
       "<table border=\"1\" class=\"dataframe\">\n",
       "  <thead>\n",
       "    <tr style=\"text-align: right;\">\n",
       "      <th></th>\n",
       "      <th>value_1</th>\n",
       "      <th>value_2</th>\n",
       "    </tr>\n",
       "  </thead>\n",
       "  <tbody>\n",
       "    <tr>\n",
       "      <th>count</th>\n",
       "      <td>6.000000</td>\n",
       "      <td>6.000000</td>\n",
       "    </tr>\n",
       "    <tr>\n",
       "      <th>mean</th>\n",
       "      <td>89.500000</td>\n",
       "      <td>11.750000</td>\n",
       "    </tr>\n",
       "    <tr>\n",
       "      <th>std</th>\n",
       "      <td>179.996389</td>\n",
       "      <td>19.151317</td>\n",
       "    </tr>\n",
       "    <tr>\n",
       "      <th>min</th>\n",
       "      <td>1.000000</td>\n",
       "      <td>1.500000</td>\n",
       "    </tr>\n",
       "    <tr>\n",
       "      <th>25%</th>\n",
       "      <td>3.750000</td>\n",
       "      <td>3.075000</td>\n",
       "    </tr>\n",
       "    <tr>\n",
       "      <th>50%</th>\n",
       "      <td>14.000000</td>\n",
       "      <td>4.375000</td>\n",
       "    </tr>\n",
       "    <tr>\n",
       "      <th>75%</th>\n",
       "      <td>43.000000</td>\n",
       "      <td>6.297500</td>\n",
       "    </tr>\n",
       "    <tr>\n",
       "      <th>max</th>\n",
       "      <td>455.000000</td>\n",
       "      <td>50.670000</td>\n",
       "    </tr>\n",
       "  </tbody>\n",
       "</table>\n",
       "</div>"
      ],
      "text/plain": [
       "          value_1    value_2\n",
       "count    6.000000   6.000000\n",
       "mean    89.500000  11.750000\n",
       "std    179.996389  19.151317\n",
       "min      1.000000   1.500000\n",
       "25%      3.750000   3.075000\n",
       "50%     14.000000   4.375000\n",
       "75%     43.000000   6.297500\n",
       "max    455.000000  50.670000"
      ]
     },
     "execution_count": 31,
     "metadata": {},
     "output_type": "execute_result"
    }
   ],
   "source": [
    "# Generate descriptive statistics - numeric values\n",
    "df.describe()"
   ]
  },
  {
   "cell_type": "markdown",
   "metadata": {
    "id": "6-RQfqqYV2H8"
   },
   "source": [
    "Inspecting non numeric values"
   ]
  },
  {
   "cell_type": "code",
   "execution_count": 32,
   "metadata": {
    "ExecuteTime": {
     "end_time": "2021-05-05T23:30:46.866823Z",
     "start_time": "2021-05-05T23:30:46.861463Z"
    },
    "colab": {
     "base_uri": "https://localhost:8080/",
     "height": 210
    },
    "executionInfo": {
     "elapsed": 13,
     "status": "ok",
     "timestamp": 1750830106896,
     "user": {
      "displayName": "Nattawut Chayauam",
      "userId": "02605944594835988637"
     },
     "user_tz": -420
    },
    "id": "xF5CbB3h9kGr",
    "outputId": "d21fd723-698a-499d-c3e9-ce717d27045c"
   },
   "outputs": [
    {
     "data": {
      "text/plain": [
       "label\n",
       "A    2\n",
       "B    2\n",
       "C    2\n",
       "Name: count, dtype: int64"
      ]
     },
     "execution_count": 32,
     "metadata": {},
     "output_type": "execute_result"
    }
   ],
   "source": [
    "df.label.value_counts()"
   ]
  },
  {
   "cell_type": "code",
   "execution_count": 33,
   "metadata": {
    "ExecuteTime": {
     "end_time": "2021-05-05T23:30:47.663162Z",
     "start_time": "2021-05-05T23:30:47.656549Z"
    },
    "colab": {
     "base_uri": "https://localhost:8080/",
     "height": 178
    },
    "executionInfo": {
     "elapsed": 15,
     "status": "ok",
     "timestamp": 1750830106907,
     "user": {
      "displayName": "Nattawut Chayauam",
      "userId": "02605944594835988637"
     },
     "user_tz": -420
    },
    "id": "v5Upx1BK-hDC",
    "outputId": "cf619236-d491-48c1-ae6e-d71f07dae8e3"
   },
   "outputs": [
    {
     "data": {
      "text/plain": [
       "value_3\n",
       "True     4\n",
       "False    2\n",
       "Name: count, dtype: int64"
      ]
     },
     "execution_count": 33,
     "metadata": {},
     "output_type": "execute_result"
    }
   ],
   "source": [
    "df.value_3.value_counts()"
   ]
  },
  {
   "cell_type": "markdown",
   "metadata": {
    "id": "LQJWK8Wu-yuZ"
   },
   "source": [
    "## Option 2: Downloading a dataset from a URL"
   ]
  },
  {
   "cell_type": "code",
   "execution_count": 34,
   "metadata": {
    "ExecuteTime": {
     "end_time": "2021-05-05T23:30:53.384467Z",
     "start_time": "2021-05-05T23:30:52.763365Z"
    },
    "colab": {
     "base_uri": "https://localhost:8080/"
    },
    "executionInfo": {
     "elapsed": 12,
     "status": "ok",
     "timestamp": 1750830106920,
     "user": {
      "displayName": "Nattawut Chayauam",
      "userId": "02605944594835988637"
     },
     "user_tz": -420
    },
    "id": "Dsngz5Tjllg_",
    "outputId": "6def75a2-af9a-4a46-d40d-a7b7288fcc8d"
   },
   "outputs": [
    {
     "data": {
      "text/plain": [
       "(194, 2)"
      ]
     },
     "execution_count": 34,
     "metadata": {},
     "output_type": "execute_result"
    }
   ],
   "source": [
    "url=\"https://raw.githubusercontent.com/cs109/2014_data/master/countries.csv\"\n",
    "df=pd.read_csv(url)\n",
    "df.shape"
   ]
  },
  {
   "cell_type": "code",
   "execution_count": 35,
   "metadata": {
    "ExecuteTime": {
     "end_time": "2021-05-05T23:30:54.258506Z",
     "start_time": "2021-05-05T23:30:54.251070Z"
    },
    "colab": {
     "base_uri": "https://localhost:8080/",
     "height": 206
    },
    "executionInfo": {
     "elapsed": 8,
     "status": "ok",
     "timestamp": 1750830106930,
     "user": {
      "displayName": "Nattawut Chayauam",
      "userId": "02605944594835988637"
     },
     "user_tz": -420
    },
    "id": "jCocvcNfllj9",
    "outputId": "98c7490e-05d0-4e64-9257-d6eeeb107b54"
   },
   "outputs": [
    {
     "data": {
      "text/html": [
       "<div>\n",
       "<style scoped>\n",
       "    .dataframe tbody tr th:only-of-type {\n",
       "        vertical-align: middle;\n",
       "    }\n",
       "\n",
       "    .dataframe tbody tr th {\n",
       "        vertical-align: top;\n",
       "    }\n",
       "\n",
       "    .dataframe thead th {\n",
       "        text-align: right;\n",
       "    }\n",
       "</style>\n",
       "<table border=\"1\" class=\"dataframe\">\n",
       "  <thead>\n",
       "    <tr style=\"text-align: right;\">\n",
       "      <th></th>\n",
       "      <th>Country</th>\n",
       "      <th>Region</th>\n",
       "    </tr>\n",
       "  </thead>\n",
       "  <tbody>\n",
       "    <tr>\n",
       "      <th>0</th>\n",
       "      <td>Algeria</td>\n",
       "      <td>AFRICA</td>\n",
       "    </tr>\n",
       "    <tr>\n",
       "      <th>1</th>\n",
       "      <td>Angola</td>\n",
       "      <td>AFRICA</td>\n",
       "    </tr>\n",
       "    <tr>\n",
       "      <th>2</th>\n",
       "      <td>Benin</td>\n",
       "      <td>AFRICA</td>\n",
       "    </tr>\n",
       "    <tr>\n",
       "      <th>3</th>\n",
       "      <td>Botswana</td>\n",
       "      <td>AFRICA</td>\n",
       "    </tr>\n",
       "    <tr>\n",
       "      <th>4</th>\n",
       "      <td>Burkina</td>\n",
       "      <td>AFRICA</td>\n",
       "    </tr>\n",
       "  </tbody>\n",
       "</table>\n",
       "</div>"
      ],
      "text/plain": [
       "    Country  Region\n",
       "0   Algeria  AFRICA\n",
       "1    Angola  AFRICA\n",
       "2     Benin  AFRICA\n",
       "3  Botswana  AFRICA\n",
       "4   Burkina  AFRICA"
      ]
     },
     "execution_count": 35,
     "metadata": {},
     "output_type": "execute_result"
    }
   ],
   "source": [
    "df.head()"
   ]
  },
  {
   "cell_type": "code",
   "execution_count": 36,
   "metadata": {
    "ExecuteTime": {
     "end_time": "2021-05-05T23:30:57.165360Z",
     "start_time": "2021-05-05T23:30:57.159221Z"
    },
    "colab": {
     "base_uri": "https://localhost:8080/",
     "height": 304
    },
    "executionInfo": {
     "elapsed": 12,
     "status": "ok",
     "timestamp": 1750830106944,
     "user": {
      "displayName": "Nattawut Chayauam",
      "userId": "02605944594835988637"
     },
     "user_tz": -420
    },
    "id": "Gf4aBwTrlln4",
    "outputId": "4493be18-8232-46e5-d369-5671e5be8a15"
   },
   "outputs": [
    {
     "data": {
      "text/plain": [
       "Region\n",
       "AFRICA           54\n",
       "EUROPE           47\n",
       "ASIA             44\n",
       "NORTH AMERICA    23\n",
       "OCEANIA          14\n",
       "SOUTH AMERICA    12\n",
       "Name: count, dtype: int64"
      ]
     },
     "execution_count": 36,
     "metadata": {},
     "output_type": "execute_result"
    }
   ],
   "source": [
    "df.Region.value_counts()"
   ]
  },
  {
   "cell_type": "code",
   "execution_count": 37,
   "metadata": {
    "ExecuteTime": {
     "end_time": "2021-05-05T23:30:58.953498Z",
     "start_time": "2021-05-05T23:30:58.948607Z"
    },
    "colab": {
     "base_uri": "https://localhost:8080/"
    },
    "executionInfo": {
     "elapsed": 20,
     "status": "ok",
     "timestamp": 1750830106966,
     "user": {
      "displayName": "Nattawut Chayauam",
      "userId": "02605944594835988637"
     },
     "user_tz": -420
    },
    "id": "UT6ok3LgllpZ",
    "outputId": "f64585ae-7aa4-4301-cc8d-a2732115c655"
   },
   "outputs": [
    {
     "data": {
      "text/plain": [
       "array(['Argentina', 'Bolivia', 'Brazil', 'Chile', 'Colombia', 'Ecuador',\n",
       "       'Guyana', 'Paraguay', 'Peru', 'Suriname', 'Uruguay', 'Venezuela'],\n",
       "      dtype=object)"
      ]
     },
     "execution_count": 37,
     "metadata": {},
     "output_type": "execute_result"
    }
   ],
   "source": [
    "sa_countries = df[df.Region == 'SOUTH AMERICA'].Country.values\n",
    "sa_countries"
   ]
  },
  {
   "cell_type": "code",
   "execution_count": 38,
   "metadata": {
    "ExecuteTime": {
     "end_time": "2021-05-05T23:30:59.917458Z",
     "start_time": "2021-05-05T23:30:59.911316Z"
    },
    "colab": {
     "base_uri": "https://localhost:8080/",
     "height": 304
    },
    "executionInfo": {
     "elapsed": 5,
     "status": "ok",
     "timestamp": 1750830106973,
     "user": {
      "displayName": "Nattawut Chayauam",
      "userId": "02605944594835988637"
     },
     "user_tz": -420
    },
    "id": "2k84EQKn_rtB",
    "outputId": "22cd7253-eb9e-4349-b20b-057084398094"
   },
   "outputs": [
    {
     "data": {
      "text/plain": [
       "Region\n",
       "AFRICA           54\n",
       "EUROPE           47\n",
       "ASIA             44\n",
       "NORTH AMERICA    23\n",
       "OCEANIA          14\n",
       "SOUTH AMERICA    12\n",
       "Name: count, dtype: int64"
      ]
     },
     "execution_count": 38,
     "metadata": {},
     "output_type": "execute_result"
    }
   ],
   "source": [
    "ww_regions = df.Region.value_counts()\n",
    "ww_regions"
   ]
  },
  {
   "cell_type": "code",
   "execution_count": 39,
   "metadata": {
    "ExecuteTime": {
     "end_time": "2021-05-05T23:31:04.493747Z",
     "start_time": "2021-05-05T23:31:04.490042Z"
    },
    "colab": {
     "base_uri": "https://localhost:8080/",
     "height": 204
    },
    "executionInfo": {
     "elapsed": 45,
     "status": "ok",
     "timestamp": 1750830107020,
     "user": {
      "displayName": "Nattawut Chayauam",
      "userId": "02605944594835988637"
     },
     "user_tz": -420
    },
    "id": "-35A_GkJ_7du",
    "outputId": "c5711d57-0d45-4115-a2bd-f67fa0a020b0"
   },
   "outputs": [
    {
     "data": {
      "text/plain": [
       "pandas.core.series.Series"
      ]
     },
     "execution_count": 39,
     "metadata": {},
     "output_type": "execute_result"
    }
   ],
   "source": [
    "type(ww_regions)"
   ]
  },
  {
   "cell_type": "markdown",
   "metadata": {
    "id": "7dd2n7b2AUKU"
   },
   "source": [
    "## Option 3.1: Directing dataset from local computer"
   ]
  },
  {
   "cell_type": "code",
   "execution_count": 40,
   "metadata": {
    "ExecuteTime": {
     "end_time": "2021-05-05T23:40:13.082124Z",
     "start_time": "2021-05-05T23:40:12.925557Z"
    },
    "colab": {
     "base_uri": "https://localhost:8080/"
    },
    "executionInfo": {
     "elapsed": 20,
     "status": "ok",
     "timestamp": 1750830107043,
     "user": {
      "displayName": "Nattawut Chayauam",
      "userId": "02605944594835988637"
     },
     "user_tz": -420
    },
    "id": "mCTWuX8EV2IB",
    "outputId": "84d1d8b3-b10b-4d1f-964c-eed565910ae8"
   },
   "outputs": [
    {
     "name": "stdout",
     "output_type": "stream",
     "text": [
      "W1_1_NumpyMatrix_R0.ipynb          W1_3_Matplotlib_n_Pandas_R0a.ipynb\n",
      "W1_2_TorchTensor_R0.ipynb\n"
     ]
    }
   ],
   "source": [
    "# here are my files, you should be different\n",
    "!ls"
   ]
  },
  {
   "cell_type": "code",
   "execution_count": 41,
   "metadata": {
    "ExecuteTime": {
     "end_time": "2021-05-05T16:21:55.710265Z",
     "start_time": "2021-05-05T16:21:55.582449Z"
    },
    "colab": {
     "base_uri": "https://localhost:8080/"
    },
    "executionInfo": {
     "elapsed": 15,
     "status": "ok",
     "timestamp": 1750830107053,
     "user": {
      "displayName": "Nattawut Chayauam",
      "userId": "02605944594835988637"
     },
     "user_tz": -420
    },
    "id": "5MUUupB_V2IB",
    "outputId": "9542332b-5bce-4fd4-c5bf-b61b14de6bd2"
   },
   "outputs": [
    {
     "name": "stdout",
     "output_type": "stream",
     "text": [
      "README.md \u001b[1m\u001b[36mweek-1\u001b[m\u001b[m\n"
     ]
    }
   ],
   "source": [
    "# going \"one layer up\"\n",
    "!ls ../"
   ]
  },
  {
   "cell_type": "code",
   "execution_count": 42,
   "metadata": {
    "ExecuteTime": {
     "end_time": "2021-05-05T16:22:10.052447Z",
     "start_time": "2021-05-05T16:22:09.920143Z"
    },
    "colab": {
     "base_uri": "https://localhost:8080/"
    },
    "executionInfo": {
     "elapsed": 18,
     "status": "ok",
     "timestamp": 1750830107072,
     "user": {
      "displayName": "Nattawut Chayauam",
      "userId": "02605944594835988637"
     },
     "user_tz": -420
    },
    "id": "Pa35h6faV2IC",
    "outputId": "23758a70-0629-4014-c0f2-44f9778fa05f"
   },
   "outputs": [
    {
     "name": "stdout",
     "output_type": "stream",
     "text": [
      "ls: ./sample_data: No such file or directory\n"
     ]
    }
   ],
   "source": [
    "!ls ./sample_data"
   ]
  },
  {
   "cell_type": "code",
   "execution_count": 43,
   "metadata": {
    "ExecuteTime": {
     "end_time": "2021-05-05T23:33:06.430736Z",
     "start_time": "2021-05-05T23:33:06.427839Z"
    },
    "executionInfo": {
     "elapsed": 4,
     "status": "ok",
     "timestamp": 1750830107080,
     "user": {
      "displayName": "Nattawut Chayauam",
      "userId": "02605944594835988637"
     },
     "user_tz": -420
    },
    "id": "8_yjeE8WV2IC"
   },
   "outputs": [],
   "source": [
    "path = './sample_data/california_housing_test.csv'"
   ]
  },
  {
   "cell_type": "markdown",
   "metadata": {
    "id": "yOCQ-mvhV2IC"
   },
   "source": [
    "## Option 3.2: Uploading From Computer to Colab"
   ]
  },
  {
   "cell_type": "code",
   "execution_count": 44,
   "metadata": {
    "colab": {
     "base_uri": "https://localhost:8080/"
    },
    "executionInfo": {
     "elapsed": 22,
     "status": "ok",
     "timestamp": 1750830107105,
     "user": {
      "displayName": "Nattawut Chayauam",
      "userId": "02605944594835988637"
     },
     "user_tz": -420
    },
    "id": "l2gGYoEzKfxk",
    "outputId": "61d578e8-22eb-4e3d-bac0-8a82d82d69f8"
   },
   "outputs": [
    {
     "name": "stdout",
     "output_type": "stream",
     "text": [
      "W1_1_NumpyMatrix_R0.ipynb          W1_3_Matplotlib_n_Pandas_R0a.ipynb\n",
      "W1_2_TorchTensor_R0.ipynb\n"
     ]
    }
   ],
   "source": [
    "!ls"
   ]
  },
  {
   "cell_type": "code",
   "execution_count": 45,
   "metadata": {
    "colab": {
     "base_uri": "https://localhost:8080/",
     "height": 38
    },
    "executionInfo": {
     "elapsed": 17443,
     "status": "ok",
     "timestamp": 1750830124554,
     "user": {
      "displayName": "Nattawut Chayauam",
      "userId": "02605944594835988637"
     },
     "user_tz": -420
    },
    "id": "wRGvG_pFkZwv",
    "outputId": "5adfff1f-accd-4739-9c5f-975cbcb73864"
   },
   "outputs": [
    {
     "ename": "ModuleNotFoundError",
     "evalue": "No module named 'google'",
     "output_type": "error",
     "traceback": [
      "\u001b[31m---------------------------------------------------------------------------\u001b[39m",
      "\u001b[31mModuleNotFoundError\u001b[39m                       Traceback (most recent call last)",
      "\u001b[36mCell\u001b[39m\u001b[36m \u001b[39m\u001b[32mIn[45]\u001b[39m\u001b[32m, line 1\u001b[39m\n\u001b[32m----> \u001b[39m\u001b[32m1\u001b[39m \u001b[38;5;28;01mfrom\u001b[39;00m\u001b[38;5;250m \u001b[39m\u001b[34;01mgoogle\u001b[39;00m\u001b[34;01m.\u001b[39;00m\u001b[34;01mcolab\u001b[39;00m\u001b[38;5;250m \u001b[39m\u001b[38;5;28;01mimport\u001b[39;00m files\n\u001b[32m      2\u001b[39m uploaded = files.upload()\n",
      "\u001b[31mModuleNotFoundError\u001b[39m: No module named 'google'"
     ]
    }
   ],
   "source": [
    "from google.colab import files\n",
    "uploaded = files.upload()"
   ]
  },
  {
   "cell_type": "code",
   "execution_count": null,
   "metadata": {
    "colab": {
     "base_uri": "https://localhost:8080/"
    },
    "executionInfo": {
     "elapsed": 16,
     "status": "ok",
     "timestamp": 1750830124572,
     "user": {
      "displayName": "Nattawut Chayauam",
      "userId": "02605944594835988637"
     },
     "user_tz": -420
    },
    "id": "iWG88aNeAhYl",
    "outputId": "17e89d98-dd4f-4746-a4cf-bfe9e61a7d6d"
   },
   "outputs": [
    {
     "data": {
      "text/plain": [
       "{}"
      ]
     },
     "execution_count": 42,
     "metadata": {},
     "output_type": "execute_result"
    }
   ],
   "source": [
    "uploaded"
   ]
  },
  {
   "cell_type": "code",
   "execution_count": null,
   "metadata": {
    "colab": {
     "base_uri": "https://localhost:8080/"
    },
    "executionInfo": {
     "elapsed": 100,
     "status": "ok",
     "timestamp": 1750830124673,
     "user": {
      "displayName": "Nattawut Chayauam",
      "userId": "02605944594835988637"
     },
     "user_tz": -420
    },
    "id": "hQZU4L4OEldz",
    "outputId": "6b0f7bcd-910d-4b0f-da6e-2d02b6664de7"
   },
   "outputs": [
    {
     "name": "stdout",
     "output_type": "stream",
     "text": [
      "sample_data\n"
     ]
    }
   ],
   "source": [
    "!ls #find uploaded file from this command"
   ]
  },
  {
   "cell_type": "markdown",
   "metadata": {
    "id": "IkyMlnOaV2ID"
   },
   "source": [
    "## Creating Dataframe and Inspecting data"
   ]
  },
  {
   "cell_type": "code",
   "execution_count": null,
   "metadata": {
    "executionInfo": {
     "elapsed": 6,
     "status": "ok",
     "timestamp": 1750830124680,
     "user": {
      "displayName": "Nattawut Chayauam",
      "userId": "02605944594835988637"
     },
     "user_tz": -420
    },
    "id": "JrWiqDsEAheb"
   },
   "outputs": [],
   "source": [
    "path = './sample_data/california_housing_test.csv'"
   ]
  },
  {
   "cell_type": "code",
   "execution_count": null,
   "metadata": {
    "ExecuteTime": {
     "end_time": "2021-05-05T23:33:11.177421Z",
     "start_time": "2021-05-05T23:33:11.160972Z"
    },
    "colab": {
     "base_uri": "https://localhost:8080/"
    },
    "executionInfo": {
     "elapsed": 41,
     "status": "ok",
     "timestamp": 1750830124726,
     "user": {
      "displayName": "Nattawut Chayauam",
      "userId": "02605944594835988637"
     },
     "user_tz": -420
    },
    "id": "uUaJFBx1Ahir",
    "outputId": "30c77d0e-98d5-4556-f7a3-c092b8f49c09"
   },
   "outputs": [
    {
     "data": {
      "text/plain": [
       "(3000, 9)"
      ]
     },
     "execution_count": 45,
     "metadata": {},
     "output_type": "execute_result"
    }
   ],
   "source": [
    "br = pd.read_csv(path)\n",
    "br.shape"
   ]
  },
  {
   "cell_type": "code",
   "execution_count": null,
   "metadata": {
    "ExecuteTime": {
     "end_time": "2021-05-05T23:33:12.327895Z",
     "start_time": "2021-05-05T23:33:12.315757Z"
    },
    "colab": {
     "base_uri": "https://localhost:8080/",
     "height": 206
    },
    "executionInfo": {
     "elapsed": 37,
     "status": "ok",
     "timestamp": 1750830124761,
     "user": {
      "displayName": "Nattawut Chayauam",
      "userId": "02605944594835988637"
     },
     "user_tz": -420
    },
    "id": "sSD3UrXDDk26",
    "outputId": "3d65e0e0-8713-4956-f07f-2c68cc8f4d21"
   },
   "outputs": [
    {
     "data": {
      "application/vnd.google.colaboratory.intrinsic+json": {
       "summary": "{\n  \"name\": \"br\",\n  \"rows\": 3000,\n  \"fields\": [\n    {\n      \"column\": \"longitude\",\n      \"properties\": {\n        \"dtype\": \"number\",\n        \"std\": 1.9949362939550161,\n        \"min\": -124.18,\n        \"max\": -114.49,\n        \"num_unique_values\": 607,\n        \"samples\": [\n          -121.15,\n          -121.46,\n          -121.02\n        ],\n        \"semantic_type\": \"\",\n        \"description\": \"\"\n      }\n    },\n    {\n      \"column\": \"latitude\",\n      \"properties\": {\n        \"dtype\": \"number\",\n        \"std\": 2.1296695233438325,\n        \"min\": 32.56,\n        \"max\": 41.92,\n        \"num_unique_values\": 587,\n        \"samples\": [\n          40.17,\n          33.69,\n          39.61\n        ],\n        \"semantic_type\": \"\",\n        \"description\": \"\"\n      }\n    },\n    {\n      \"column\": \"housing_median_age\",\n      \"properties\": {\n        \"dtype\": \"number\",\n        \"std\": 12.555395554955755,\n        \"min\": 1.0,\n        \"max\": 52.0,\n        \"num_unique_values\": 52,\n        \"samples\": [\n          14.0,\n          49.0,\n          7.0\n        ],\n        \"semantic_type\": \"\",\n        \"description\": \"\"\n      }\n    },\n    {\n      \"column\": \"total_rooms\",\n      \"properties\": {\n        \"dtype\": \"number\",\n        \"std\": 2155.59333162558,\n        \"min\": 6.0,\n        \"max\": 30450.0,\n        \"num_unique_values\": 2215,\n        \"samples\": [\n          1961.0,\n          1807.0,\n          680.0\n        ],\n        \"semantic_type\": \"\",\n        \"description\": \"\"\n      }\n    },\n    {\n      \"column\": \"total_bedrooms\",\n      \"properties\": {\n        \"dtype\": \"number\",\n        \"std\": 415.6543681363232,\n        \"min\": 2.0,\n        \"max\": 5419.0,\n        \"num_unique_values\": 1055,\n        \"samples\": [\n          532.0,\n          764.0,\n          2162.0\n        ],\n        \"semantic_type\": \"\",\n        \"description\": \"\"\n      }\n    },\n    {\n      \"column\": \"population\",\n      \"properties\": {\n        \"dtype\": \"number\",\n        \"std\": 1030.5430124122422,\n        \"min\": 5.0,\n        \"max\": 11935.0,\n        \"num_unique_values\": 1802,\n        \"samples\": [\n          947.0,\n          1140.0,\n          2019.0\n        ],\n        \"semantic_type\": \"\",\n        \"description\": \"\"\n      }\n    },\n    {\n      \"column\": \"households\",\n      \"properties\": {\n        \"dtype\": \"number\",\n        \"std\": 365.42270980552604,\n        \"min\": 2.0,\n        \"max\": 4930.0,\n        \"num_unique_values\": 1026,\n        \"samples\": [\n          646.0,\n          629.0,\n          504.0\n        ],\n        \"semantic_type\": \"\",\n        \"description\": \"\"\n      }\n    },\n    {\n      \"column\": \"median_income\",\n      \"properties\": {\n        \"dtype\": \"number\",\n        \"std\": 1.854511729691481,\n        \"min\": 0.4999,\n        \"max\": 15.0001,\n        \"num_unique_values\": 2578,\n        \"samples\": [\n          1.725,\n          0.7403,\n          2.6964\n        ],\n        \"semantic_type\": \"\",\n        \"description\": \"\"\n      }\n    },\n    {\n      \"column\": \"median_house_value\",\n      \"properties\": {\n        \"dtype\": \"number\",\n        \"std\": 113119.68746964433,\n        \"min\": 22500.0,\n        \"max\": 500001.0,\n        \"num_unique_values\": 1784,\n        \"samples\": [\n          71900.0,\n          63000.0,\n          115800.0\n        ],\n        \"semantic_type\": \"\",\n        \"description\": \"\"\n      }\n    }\n  ]\n}",
       "type": "dataframe",
       "variable_name": "br"
      },
      "text/html": [
       "\n",
       "  <div id=\"df-694a1700-9216-4cef-9571-902f58c13c10\" class=\"colab-df-container\">\n",
       "    <div>\n",
       "<style scoped>\n",
       "    .dataframe tbody tr th:only-of-type {\n",
       "        vertical-align: middle;\n",
       "    }\n",
       "\n",
       "    .dataframe tbody tr th {\n",
       "        vertical-align: top;\n",
       "    }\n",
       "\n",
       "    .dataframe thead th {\n",
       "        text-align: right;\n",
       "    }\n",
       "</style>\n",
       "<table border=\"1\" class=\"dataframe\">\n",
       "  <thead>\n",
       "    <tr style=\"text-align: right;\">\n",
       "      <th></th>\n",
       "      <th>longitude</th>\n",
       "      <th>latitude</th>\n",
       "      <th>housing_median_age</th>\n",
       "      <th>total_rooms</th>\n",
       "      <th>total_bedrooms</th>\n",
       "      <th>population</th>\n",
       "      <th>households</th>\n",
       "      <th>median_income</th>\n",
       "      <th>median_house_value</th>\n",
       "    </tr>\n",
       "  </thead>\n",
       "  <tbody>\n",
       "    <tr>\n",
       "      <th>0</th>\n",
       "      <td>-122.05</td>\n",
       "      <td>37.37</td>\n",
       "      <td>27.0</td>\n",
       "      <td>3885.0</td>\n",
       "      <td>661.0</td>\n",
       "      <td>1537.0</td>\n",
       "      <td>606.0</td>\n",
       "      <td>6.6085</td>\n",
       "      <td>344700.0</td>\n",
       "    </tr>\n",
       "    <tr>\n",
       "      <th>1</th>\n",
       "      <td>-118.30</td>\n",
       "      <td>34.26</td>\n",
       "      <td>43.0</td>\n",
       "      <td>1510.0</td>\n",
       "      <td>310.0</td>\n",
       "      <td>809.0</td>\n",
       "      <td>277.0</td>\n",
       "      <td>3.5990</td>\n",
       "      <td>176500.0</td>\n",
       "    </tr>\n",
       "    <tr>\n",
       "      <th>2</th>\n",
       "      <td>-117.81</td>\n",
       "      <td>33.78</td>\n",
       "      <td>27.0</td>\n",
       "      <td>3589.0</td>\n",
       "      <td>507.0</td>\n",
       "      <td>1484.0</td>\n",
       "      <td>495.0</td>\n",
       "      <td>5.7934</td>\n",
       "      <td>270500.0</td>\n",
       "    </tr>\n",
       "    <tr>\n",
       "      <th>3</th>\n",
       "      <td>-118.36</td>\n",
       "      <td>33.82</td>\n",
       "      <td>28.0</td>\n",
       "      <td>67.0</td>\n",
       "      <td>15.0</td>\n",
       "      <td>49.0</td>\n",
       "      <td>11.0</td>\n",
       "      <td>6.1359</td>\n",
       "      <td>330000.0</td>\n",
       "    </tr>\n",
       "    <tr>\n",
       "      <th>4</th>\n",
       "      <td>-119.67</td>\n",
       "      <td>36.33</td>\n",
       "      <td>19.0</td>\n",
       "      <td>1241.0</td>\n",
       "      <td>244.0</td>\n",
       "      <td>850.0</td>\n",
       "      <td>237.0</td>\n",
       "      <td>2.9375</td>\n",
       "      <td>81700.0</td>\n",
       "    </tr>\n",
       "  </tbody>\n",
       "</table>\n",
       "</div>\n",
       "    <div class=\"colab-df-buttons\">\n",
       "\n",
       "  <div class=\"colab-df-container\">\n",
       "    <button class=\"colab-df-convert\" onclick=\"convertToInteractive('df-694a1700-9216-4cef-9571-902f58c13c10')\"\n",
       "            title=\"Convert this dataframe to an interactive table.\"\n",
       "            style=\"display:none;\">\n",
       "\n",
       "  <svg xmlns=\"http://www.w3.org/2000/svg\" height=\"24px\" viewBox=\"0 -960 960 960\">\n",
       "    <path d=\"M120-120v-720h720v720H120Zm60-500h600v-160H180v160Zm220 220h160v-160H400v160Zm0 220h160v-160H400v160ZM180-400h160v-160H180v160Zm440 0h160v-160H620v160ZM180-180h160v-160H180v160Zm440 0h160v-160H620v160Z\"/>\n",
       "  </svg>\n",
       "    </button>\n",
       "\n",
       "  <style>\n",
       "    .colab-df-container {\n",
       "      display:flex;\n",
       "      gap: 12px;\n",
       "    }\n",
       "\n",
       "    .colab-df-convert {\n",
       "      background-color: #E8F0FE;\n",
       "      border: none;\n",
       "      border-radius: 50%;\n",
       "      cursor: pointer;\n",
       "      display: none;\n",
       "      fill: #1967D2;\n",
       "      height: 32px;\n",
       "      padding: 0 0 0 0;\n",
       "      width: 32px;\n",
       "    }\n",
       "\n",
       "    .colab-df-convert:hover {\n",
       "      background-color: #E2EBFA;\n",
       "      box-shadow: 0px 1px 2px rgba(60, 64, 67, 0.3), 0px 1px 3px 1px rgba(60, 64, 67, 0.15);\n",
       "      fill: #174EA6;\n",
       "    }\n",
       "\n",
       "    .colab-df-buttons div {\n",
       "      margin-bottom: 4px;\n",
       "    }\n",
       "\n",
       "    [theme=dark] .colab-df-convert {\n",
       "      background-color: #3B4455;\n",
       "      fill: #D2E3FC;\n",
       "    }\n",
       "\n",
       "    [theme=dark] .colab-df-convert:hover {\n",
       "      background-color: #434B5C;\n",
       "      box-shadow: 0px 1px 3px 1px rgba(0, 0, 0, 0.15);\n",
       "      filter: drop-shadow(0px 1px 2px rgba(0, 0, 0, 0.3));\n",
       "      fill: #FFFFFF;\n",
       "    }\n",
       "  </style>\n",
       "\n",
       "    <script>\n",
       "      const buttonEl =\n",
       "        document.querySelector('#df-694a1700-9216-4cef-9571-902f58c13c10 button.colab-df-convert');\n",
       "      buttonEl.style.display =\n",
       "        google.colab.kernel.accessAllowed ? 'block' : 'none';\n",
       "\n",
       "      async function convertToInteractive(key) {\n",
       "        const element = document.querySelector('#df-694a1700-9216-4cef-9571-902f58c13c10');\n",
       "        const dataTable =\n",
       "          await google.colab.kernel.invokeFunction('convertToInteractive',\n",
       "                                                    [key], {});\n",
       "        if (!dataTable) return;\n",
       "\n",
       "        const docLinkHtml = 'Like what you see? Visit the ' +\n",
       "          '<a target=\"_blank\" href=https://colab.research.google.com/notebooks/data_table.ipynb>data table notebook</a>'\n",
       "          + ' to learn more about interactive tables.';\n",
       "        element.innerHTML = '';\n",
       "        dataTable['output_type'] = 'display_data';\n",
       "        await google.colab.output.renderOutput(dataTable, element);\n",
       "        const docLink = document.createElement('div');\n",
       "        docLink.innerHTML = docLinkHtml;\n",
       "        element.appendChild(docLink);\n",
       "      }\n",
       "    </script>\n",
       "  </div>\n",
       "\n",
       "\n",
       "    <div id=\"df-f26ca9f7-521a-4fe7-9cf4-304f1951d6fa\">\n",
       "      <button class=\"colab-df-quickchart\" onclick=\"quickchart('df-f26ca9f7-521a-4fe7-9cf4-304f1951d6fa')\"\n",
       "                title=\"Suggest charts\"\n",
       "                style=\"display:none;\">\n",
       "\n",
       "<svg xmlns=\"http://www.w3.org/2000/svg\" height=\"24px\"viewBox=\"0 0 24 24\"\n",
       "     width=\"24px\">\n",
       "    <g>\n",
       "        <path d=\"M19 3H5c-1.1 0-2 .9-2 2v14c0 1.1.9 2 2 2h14c1.1 0 2-.9 2-2V5c0-1.1-.9-2-2-2zM9 17H7v-7h2v7zm4 0h-2V7h2v10zm4 0h-2v-4h2v4z\"/>\n",
       "    </g>\n",
       "</svg>\n",
       "      </button>\n",
       "\n",
       "<style>\n",
       "  .colab-df-quickchart {\n",
       "      --bg-color: #E8F0FE;\n",
       "      --fill-color: #1967D2;\n",
       "      --hover-bg-color: #E2EBFA;\n",
       "      --hover-fill-color: #174EA6;\n",
       "      --disabled-fill-color: #AAA;\n",
       "      --disabled-bg-color: #DDD;\n",
       "  }\n",
       "\n",
       "  [theme=dark] .colab-df-quickchart {\n",
       "      --bg-color: #3B4455;\n",
       "      --fill-color: #D2E3FC;\n",
       "      --hover-bg-color: #434B5C;\n",
       "      --hover-fill-color: #FFFFFF;\n",
       "      --disabled-bg-color: #3B4455;\n",
       "      --disabled-fill-color: #666;\n",
       "  }\n",
       "\n",
       "  .colab-df-quickchart {\n",
       "    background-color: var(--bg-color);\n",
       "    border: none;\n",
       "    border-radius: 50%;\n",
       "    cursor: pointer;\n",
       "    display: none;\n",
       "    fill: var(--fill-color);\n",
       "    height: 32px;\n",
       "    padding: 0;\n",
       "    width: 32px;\n",
       "  }\n",
       "\n",
       "  .colab-df-quickchart:hover {\n",
       "    background-color: var(--hover-bg-color);\n",
       "    box-shadow: 0 1px 2px rgba(60, 64, 67, 0.3), 0 1px 3px 1px rgba(60, 64, 67, 0.15);\n",
       "    fill: var(--button-hover-fill-color);\n",
       "  }\n",
       "\n",
       "  .colab-df-quickchart-complete:disabled,\n",
       "  .colab-df-quickchart-complete:disabled:hover {\n",
       "    background-color: var(--disabled-bg-color);\n",
       "    fill: var(--disabled-fill-color);\n",
       "    box-shadow: none;\n",
       "  }\n",
       "\n",
       "  .colab-df-spinner {\n",
       "    border: 2px solid var(--fill-color);\n",
       "    border-color: transparent;\n",
       "    border-bottom-color: var(--fill-color);\n",
       "    animation:\n",
       "      spin 1s steps(1) infinite;\n",
       "  }\n",
       "\n",
       "  @keyframes spin {\n",
       "    0% {\n",
       "      border-color: transparent;\n",
       "      border-bottom-color: var(--fill-color);\n",
       "      border-left-color: var(--fill-color);\n",
       "    }\n",
       "    20% {\n",
       "      border-color: transparent;\n",
       "      border-left-color: var(--fill-color);\n",
       "      border-top-color: var(--fill-color);\n",
       "    }\n",
       "    30% {\n",
       "      border-color: transparent;\n",
       "      border-left-color: var(--fill-color);\n",
       "      border-top-color: var(--fill-color);\n",
       "      border-right-color: var(--fill-color);\n",
       "    }\n",
       "    40% {\n",
       "      border-color: transparent;\n",
       "      border-right-color: var(--fill-color);\n",
       "      border-top-color: var(--fill-color);\n",
       "    }\n",
       "    60% {\n",
       "      border-color: transparent;\n",
       "      border-right-color: var(--fill-color);\n",
       "    }\n",
       "    80% {\n",
       "      border-color: transparent;\n",
       "      border-right-color: var(--fill-color);\n",
       "      border-bottom-color: var(--fill-color);\n",
       "    }\n",
       "    90% {\n",
       "      border-color: transparent;\n",
       "      border-bottom-color: var(--fill-color);\n",
       "    }\n",
       "  }\n",
       "</style>\n",
       "\n",
       "      <script>\n",
       "        async function quickchart(key) {\n",
       "          const quickchartButtonEl =\n",
       "            document.querySelector('#' + key + ' button');\n",
       "          quickchartButtonEl.disabled = true;  // To prevent multiple clicks.\n",
       "          quickchartButtonEl.classList.add('colab-df-spinner');\n",
       "          try {\n",
       "            const charts = await google.colab.kernel.invokeFunction(\n",
       "                'suggestCharts', [key], {});\n",
       "          } catch (error) {\n",
       "            console.error('Error during call to suggestCharts:', error);\n",
       "          }\n",
       "          quickchartButtonEl.classList.remove('colab-df-spinner');\n",
       "          quickchartButtonEl.classList.add('colab-df-quickchart-complete');\n",
       "        }\n",
       "        (() => {\n",
       "          let quickchartButtonEl =\n",
       "            document.querySelector('#df-f26ca9f7-521a-4fe7-9cf4-304f1951d6fa button');\n",
       "          quickchartButtonEl.style.display =\n",
       "            google.colab.kernel.accessAllowed ? 'block' : 'none';\n",
       "        })();\n",
       "      </script>\n",
       "    </div>\n",
       "\n",
       "    </div>\n",
       "  </div>\n"
      ],
      "text/plain": [
       "   longitude  latitude  housing_median_age  total_rooms  total_bedrooms  \\\n",
       "0    -122.05     37.37                27.0       3885.0           661.0   \n",
       "1    -118.30     34.26                43.0       1510.0           310.0   \n",
       "2    -117.81     33.78                27.0       3589.0           507.0   \n",
       "3    -118.36     33.82                28.0         67.0            15.0   \n",
       "4    -119.67     36.33                19.0       1241.0           244.0   \n",
       "\n",
       "   population  households  median_income  median_house_value  \n",
       "0      1537.0       606.0         6.6085            344700.0  \n",
       "1       809.0       277.0         3.5990            176500.0  \n",
       "2      1484.0       495.0         5.7934            270500.0  \n",
       "3        49.0        11.0         6.1359            330000.0  \n",
       "4       850.0       237.0         2.9375             81700.0  "
      ]
     },
     "execution_count": 46,
     "metadata": {},
     "output_type": "execute_result"
    }
   ],
   "source": [
    "br.head()"
   ]
  },
  {
   "cell_type": "code",
   "execution_count": null,
   "metadata": {
    "ExecuteTime": {
     "end_time": "2021-05-05T23:33:13.756967Z",
     "start_time": "2021-05-05T23:33:13.746809Z"
    },
    "colab": {
     "base_uri": "https://localhost:8080/",
     "height": 206
    },
    "executionInfo": {
     "elapsed": 41,
     "status": "ok",
     "timestamp": 1750830124803,
     "user": {
      "displayName": "Nattawut Chayauam",
      "userId": "02605944594835988637"
     },
     "user_tz": -420
    },
    "id": "tvhErianDk5z",
    "outputId": "82ea5fb9-9573-410b-d7cc-09cd889476ae"
   },
   "outputs": [
    {
     "data": {
      "application/vnd.google.colaboratory.intrinsic+json": {
       "summary": "{\n  \"name\": \"br\",\n  \"rows\": 3000,\n  \"fields\": [\n    {\n      \"column\": \"longitude\",\n      \"properties\": {\n        \"dtype\": \"number\",\n        \"std\": 1.9949362939550161,\n        \"min\": -124.18,\n        \"max\": -114.49,\n        \"num_unique_values\": 607,\n        \"samples\": [\n          -121.15,\n          -121.46,\n          -121.02\n        ],\n        \"semantic_type\": \"\",\n        \"description\": \"\"\n      }\n    },\n    {\n      \"column\": \"latitude\",\n      \"properties\": {\n        \"dtype\": \"number\",\n        \"std\": 2.1296695233438325,\n        \"min\": 32.56,\n        \"max\": 41.92,\n        \"num_unique_values\": 587,\n        \"samples\": [\n          40.17,\n          33.69,\n          39.61\n        ],\n        \"semantic_type\": \"\",\n        \"description\": \"\"\n      }\n    },\n    {\n      \"column\": \"housing_median_age\",\n      \"properties\": {\n        \"dtype\": \"number\",\n        \"std\": 12.555395554955755,\n        \"min\": 1.0,\n        \"max\": 52.0,\n        \"num_unique_values\": 52,\n        \"samples\": [\n          14.0,\n          49.0,\n          7.0\n        ],\n        \"semantic_type\": \"\",\n        \"description\": \"\"\n      }\n    },\n    {\n      \"column\": \"total_rooms\",\n      \"properties\": {\n        \"dtype\": \"number\",\n        \"std\": 2155.59333162558,\n        \"min\": 6.0,\n        \"max\": 30450.0,\n        \"num_unique_values\": 2215,\n        \"samples\": [\n          1961.0,\n          1807.0,\n          680.0\n        ],\n        \"semantic_type\": \"\",\n        \"description\": \"\"\n      }\n    },\n    {\n      \"column\": \"population\",\n      \"properties\": {\n        \"dtype\": \"number\",\n        \"std\": 1030.5430124122422,\n        \"min\": 5.0,\n        \"max\": 11935.0,\n        \"num_unique_values\": 1802,\n        \"samples\": [\n          947.0,\n          1140.0,\n          2019.0\n        ],\n        \"semantic_type\": \"\",\n        \"description\": \"\"\n      }\n    },\n    {\n      \"column\": \"households\",\n      \"properties\": {\n        \"dtype\": \"number\",\n        \"std\": 365.42270980552604,\n        \"min\": 2.0,\n        \"max\": 4930.0,\n        \"num_unique_values\": 1026,\n        \"samples\": [\n          646.0,\n          629.0,\n          504.0\n        ],\n        \"semantic_type\": \"\",\n        \"description\": \"\"\n      }\n    },\n    {\n      \"column\": \"median_income\",\n      \"properties\": {\n        \"dtype\": \"number\",\n        \"std\": 1.854511729691481,\n        \"min\": 0.4999,\n        \"max\": 15.0001,\n        \"num_unique_values\": 2578,\n        \"samples\": [\n          1.725,\n          0.7403,\n          2.6964\n        ],\n        \"semantic_type\": \"\",\n        \"description\": \"\"\n      }\n    },\n    {\n      \"column\": \"median_house_value\",\n      \"properties\": {\n        \"dtype\": \"number\",\n        \"std\": 113119.68746964433,\n        \"min\": 22500.0,\n        \"max\": 500001.0,\n        \"num_unique_values\": 1784,\n        \"samples\": [\n          71900.0,\n          63000.0,\n          115800.0\n        ],\n        \"semantic_type\": \"\",\n        \"description\": \"\"\n      }\n    }\n  ]\n}",
       "type": "dataframe",
       "variable_name": "br"
      },
      "text/html": [
       "\n",
       "  <div id=\"df-cc4f3863-b558-4dd0-96a7-dd2605b94aba\" class=\"colab-df-container\">\n",
       "    <div>\n",
       "<style scoped>\n",
       "    .dataframe tbody tr th:only-of-type {\n",
       "        vertical-align: middle;\n",
       "    }\n",
       "\n",
       "    .dataframe tbody tr th {\n",
       "        vertical-align: top;\n",
       "    }\n",
       "\n",
       "    .dataframe thead th {\n",
       "        text-align: right;\n",
       "    }\n",
       "</style>\n",
       "<table border=\"1\" class=\"dataframe\">\n",
       "  <thead>\n",
       "    <tr style=\"text-align: right;\">\n",
       "      <th></th>\n",
       "      <th>longitude</th>\n",
       "      <th>latitude</th>\n",
       "      <th>housing_median_age</th>\n",
       "      <th>total_rooms</th>\n",
       "      <th>population</th>\n",
       "      <th>households</th>\n",
       "      <th>median_income</th>\n",
       "      <th>median_house_value</th>\n",
       "    </tr>\n",
       "  </thead>\n",
       "  <tbody>\n",
       "    <tr>\n",
       "      <th>0</th>\n",
       "      <td>-122.05</td>\n",
       "      <td>37.37</td>\n",
       "      <td>27.0</td>\n",
       "      <td>3885.0</td>\n",
       "      <td>1537.0</td>\n",
       "      <td>606.0</td>\n",
       "      <td>6.6085</td>\n",
       "      <td>344700.0</td>\n",
       "    </tr>\n",
       "    <tr>\n",
       "      <th>1</th>\n",
       "      <td>-118.30</td>\n",
       "      <td>34.26</td>\n",
       "      <td>43.0</td>\n",
       "      <td>1510.0</td>\n",
       "      <td>809.0</td>\n",
       "      <td>277.0</td>\n",
       "      <td>3.5990</td>\n",
       "      <td>176500.0</td>\n",
       "    </tr>\n",
       "    <tr>\n",
       "      <th>2</th>\n",
       "      <td>-117.81</td>\n",
       "      <td>33.78</td>\n",
       "      <td>27.0</td>\n",
       "      <td>3589.0</td>\n",
       "      <td>1484.0</td>\n",
       "      <td>495.0</td>\n",
       "      <td>5.7934</td>\n",
       "      <td>270500.0</td>\n",
       "    </tr>\n",
       "    <tr>\n",
       "      <th>3</th>\n",
       "      <td>-118.36</td>\n",
       "      <td>33.82</td>\n",
       "      <td>28.0</td>\n",
       "      <td>67.0</td>\n",
       "      <td>49.0</td>\n",
       "      <td>11.0</td>\n",
       "      <td>6.1359</td>\n",
       "      <td>330000.0</td>\n",
       "    </tr>\n",
       "    <tr>\n",
       "      <th>4</th>\n",
       "      <td>-119.67</td>\n",
       "      <td>36.33</td>\n",
       "      <td>19.0</td>\n",
       "      <td>1241.0</td>\n",
       "      <td>850.0</td>\n",
       "      <td>237.0</td>\n",
       "      <td>2.9375</td>\n",
       "      <td>81700.0</td>\n",
       "    </tr>\n",
       "  </tbody>\n",
       "</table>\n",
       "</div>\n",
       "    <div class=\"colab-df-buttons\">\n",
       "\n",
       "  <div class=\"colab-df-container\">\n",
       "    <button class=\"colab-df-convert\" onclick=\"convertToInteractive('df-cc4f3863-b558-4dd0-96a7-dd2605b94aba')\"\n",
       "            title=\"Convert this dataframe to an interactive table.\"\n",
       "            style=\"display:none;\">\n",
       "\n",
       "  <svg xmlns=\"http://www.w3.org/2000/svg\" height=\"24px\" viewBox=\"0 -960 960 960\">\n",
       "    <path d=\"M120-120v-720h720v720H120Zm60-500h600v-160H180v160Zm220 220h160v-160H400v160Zm0 220h160v-160H400v160ZM180-400h160v-160H180v160Zm440 0h160v-160H620v160ZM180-180h160v-160H180v160Zm440 0h160v-160H620v160Z\"/>\n",
       "  </svg>\n",
       "    </button>\n",
       "\n",
       "  <style>\n",
       "    .colab-df-container {\n",
       "      display:flex;\n",
       "      gap: 12px;\n",
       "    }\n",
       "\n",
       "    .colab-df-convert {\n",
       "      background-color: #E8F0FE;\n",
       "      border: none;\n",
       "      border-radius: 50%;\n",
       "      cursor: pointer;\n",
       "      display: none;\n",
       "      fill: #1967D2;\n",
       "      height: 32px;\n",
       "      padding: 0 0 0 0;\n",
       "      width: 32px;\n",
       "    }\n",
       "\n",
       "    .colab-df-convert:hover {\n",
       "      background-color: #E2EBFA;\n",
       "      box-shadow: 0px 1px 2px rgba(60, 64, 67, 0.3), 0px 1px 3px 1px rgba(60, 64, 67, 0.15);\n",
       "      fill: #174EA6;\n",
       "    }\n",
       "\n",
       "    .colab-df-buttons div {\n",
       "      margin-bottom: 4px;\n",
       "    }\n",
       "\n",
       "    [theme=dark] .colab-df-convert {\n",
       "      background-color: #3B4455;\n",
       "      fill: #D2E3FC;\n",
       "    }\n",
       "\n",
       "    [theme=dark] .colab-df-convert:hover {\n",
       "      background-color: #434B5C;\n",
       "      box-shadow: 0px 1px 3px 1px rgba(0, 0, 0, 0.15);\n",
       "      filter: drop-shadow(0px 1px 2px rgba(0, 0, 0, 0.3));\n",
       "      fill: #FFFFFF;\n",
       "    }\n",
       "  </style>\n",
       "\n",
       "    <script>\n",
       "      const buttonEl =\n",
       "        document.querySelector('#df-cc4f3863-b558-4dd0-96a7-dd2605b94aba button.colab-df-convert');\n",
       "      buttonEl.style.display =\n",
       "        google.colab.kernel.accessAllowed ? 'block' : 'none';\n",
       "\n",
       "      async function convertToInteractive(key) {\n",
       "        const element = document.querySelector('#df-cc4f3863-b558-4dd0-96a7-dd2605b94aba');\n",
       "        const dataTable =\n",
       "          await google.colab.kernel.invokeFunction('convertToInteractive',\n",
       "                                                    [key], {});\n",
       "        if (!dataTable) return;\n",
       "\n",
       "        const docLinkHtml = 'Like what you see? Visit the ' +\n",
       "          '<a target=\"_blank\" href=https://colab.research.google.com/notebooks/data_table.ipynb>data table notebook</a>'\n",
       "          + ' to learn more about interactive tables.';\n",
       "        element.innerHTML = '';\n",
       "        dataTable['output_type'] = 'display_data';\n",
       "        await google.colab.output.renderOutput(dataTable, element);\n",
       "        const docLink = document.createElement('div');\n",
       "        docLink.innerHTML = docLinkHtml;\n",
       "        element.appendChild(docLink);\n",
       "      }\n",
       "    </script>\n",
       "  </div>\n",
       "\n",
       "\n",
       "    <div id=\"df-b7c07ef7-7689-49cd-ab3c-6677ec4720a0\">\n",
       "      <button class=\"colab-df-quickchart\" onclick=\"quickchart('df-b7c07ef7-7689-49cd-ab3c-6677ec4720a0')\"\n",
       "                title=\"Suggest charts\"\n",
       "                style=\"display:none;\">\n",
       "\n",
       "<svg xmlns=\"http://www.w3.org/2000/svg\" height=\"24px\"viewBox=\"0 0 24 24\"\n",
       "     width=\"24px\">\n",
       "    <g>\n",
       "        <path d=\"M19 3H5c-1.1 0-2 .9-2 2v14c0 1.1.9 2 2 2h14c1.1 0 2-.9 2-2V5c0-1.1-.9-2-2-2zM9 17H7v-7h2v7zm4 0h-2V7h2v10zm4 0h-2v-4h2v4z\"/>\n",
       "    </g>\n",
       "</svg>\n",
       "      </button>\n",
       "\n",
       "<style>\n",
       "  .colab-df-quickchart {\n",
       "      --bg-color: #E8F0FE;\n",
       "      --fill-color: #1967D2;\n",
       "      --hover-bg-color: #E2EBFA;\n",
       "      --hover-fill-color: #174EA6;\n",
       "      --disabled-fill-color: #AAA;\n",
       "      --disabled-bg-color: #DDD;\n",
       "  }\n",
       "\n",
       "  [theme=dark] .colab-df-quickchart {\n",
       "      --bg-color: #3B4455;\n",
       "      --fill-color: #D2E3FC;\n",
       "      --hover-bg-color: #434B5C;\n",
       "      --hover-fill-color: #FFFFFF;\n",
       "      --disabled-bg-color: #3B4455;\n",
       "      --disabled-fill-color: #666;\n",
       "  }\n",
       "\n",
       "  .colab-df-quickchart {\n",
       "    background-color: var(--bg-color);\n",
       "    border: none;\n",
       "    border-radius: 50%;\n",
       "    cursor: pointer;\n",
       "    display: none;\n",
       "    fill: var(--fill-color);\n",
       "    height: 32px;\n",
       "    padding: 0;\n",
       "    width: 32px;\n",
       "  }\n",
       "\n",
       "  .colab-df-quickchart:hover {\n",
       "    background-color: var(--hover-bg-color);\n",
       "    box-shadow: 0 1px 2px rgba(60, 64, 67, 0.3), 0 1px 3px 1px rgba(60, 64, 67, 0.15);\n",
       "    fill: var(--button-hover-fill-color);\n",
       "  }\n",
       "\n",
       "  .colab-df-quickchart-complete:disabled,\n",
       "  .colab-df-quickchart-complete:disabled:hover {\n",
       "    background-color: var(--disabled-bg-color);\n",
       "    fill: var(--disabled-fill-color);\n",
       "    box-shadow: none;\n",
       "  }\n",
       "\n",
       "  .colab-df-spinner {\n",
       "    border: 2px solid var(--fill-color);\n",
       "    border-color: transparent;\n",
       "    border-bottom-color: var(--fill-color);\n",
       "    animation:\n",
       "      spin 1s steps(1) infinite;\n",
       "  }\n",
       "\n",
       "  @keyframes spin {\n",
       "    0% {\n",
       "      border-color: transparent;\n",
       "      border-bottom-color: var(--fill-color);\n",
       "      border-left-color: var(--fill-color);\n",
       "    }\n",
       "    20% {\n",
       "      border-color: transparent;\n",
       "      border-left-color: var(--fill-color);\n",
       "      border-top-color: var(--fill-color);\n",
       "    }\n",
       "    30% {\n",
       "      border-color: transparent;\n",
       "      border-left-color: var(--fill-color);\n",
       "      border-top-color: var(--fill-color);\n",
       "      border-right-color: var(--fill-color);\n",
       "    }\n",
       "    40% {\n",
       "      border-color: transparent;\n",
       "      border-right-color: var(--fill-color);\n",
       "      border-top-color: var(--fill-color);\n",
       "    }\n",
       "    60% {\n",
       "      border-color: transparent;\n",
       "      border-right-color: var(--fill-color);\n",
       "    }\n",
       "    80% {\n",
       "      border-color: transparent;\n",
       "      border-right-color: var(--fill-color);\n",
       "      border-bottom-color: var(--fill-color);\n",
       "    }\n",
       "    90% {\n",
       "      border-color: transparent;\n",
       "      border-bottom-color: var(--fill-color);\n",
       "    }\n",
       "  }\n",
       "</style>\n",
       "\n",
       "      <script>\n",
       "        async function quickchart(key) {\n",
       "          const quickchartButtonEl =\n",
       "            document.querySelector('#' + key + ' button');\n",
       "          quickchartButtonEl.disabled = true;  // To prevent multiple clicks.\n",
       "          quickchartButtonEl.classList.add('colab-df-spinner');\n",
       "          try {\n",
       "            const charts = await google.colab.kernel.invokeFunction(\n",
       "                'suggestCharts', [key], {});\n",
       "          } catch (error) {\n",
       "            console.error('Error during call to suggestCharts:', error);\n",
       "          }\n",
       "          quickchartButtonEl.classList.remove('colab-df-spinner');\n",
       "          quickchartButtonEl.classList.add('colab-df-quickchart-complete');\n",
       "        }\n",
       "        (() => {\n",
       "          let quickchartButtonEl =\n",
       "            document.querySelector('#df-b7c07ef7-7689-49cd-ab3c-6677ec4720a0 button');\n",
       "          quickchartButtonEl.style.display =\n",
       "            google.colab.kernel.accessAllowed ? 'block' : 'none';\n",
       "        })();\n",
       "      </script>\n",
       "    </div>\n",
       "\n",
       "    </div>\n",
       "  </div>\n"
      ],
      "text/plain": [
       "   longitude  latitude  housing_median_age  total_rooms  population  \\\n",
       "0    -122.05     37.37                27.0       3885.0      1537.0   \n",
       "1    -118.30     34.26                43.0       1510.0       809.0   \n",
       "2    -117.81     33.78                27.0       3589.0      1484.0   \n",
       "3    -118.36     33.82                28.0         67.0        49.0   \n",
       "4    -119.67     36.33                19.0       1241.0       850.0   \n",
       "\n",
       "   households  median_income  median_house_value  \n",
       "0       606.0         6.6085            344700.0  \n",
       "1       277.0         3.5990            176500.0  \n",
       "2       495.0         5.7934            270500.0  \n",
       "3        11.0         6.1359            330000.0  \n",
       "4       237.0         2.9375             81700.0  "
      ]
     },
     "execution_count": 47,
     "metadata": {},
     "output_type": "execute_result"
    }
   ],
   "source": [
    "del br['total_bedrooms']\n",
    "br.head()"
   ]
  },
  {
   "cell_type": "code",
   "execution_count": null,
   "metadata": {
    "ExecuteTime": {
     "end_time": "2021-05-05T23:33:16.397139Z",
     "start_time": "2021-05-05T23:33:16.390403Z"
    },
    "colab": {
     "base_uri": "https://localhost:8080/",
     "height": 112
    },
    "executionInfo": {
     "elapsed": 48,
     "status": "ok",
     "timestamp": 1750830124849,
     "user": {
      "displayName": "Nattawut Chayauam",
      "userId": "02605944594835988637"
     },
     "user_tz": -420
    },
    "id": "Bv_r3lCOEH8A",
    "outputId": "1dd02f81-e233-46f8-b944-d85d0aa4481b"
   },
   "outputs": [
    {
     "data": {
      "application/vnd.google.colaboratory.intrinsic+json": {
       "summary": "{\n  \"name\": \"br[br['housing_median_age'] == br['housing_median_age']\",\n  \"rows\": 2,\n  \"fields\": [\n    {\n      \"column\": \"longitude\",\n      \"properties\": {\n        \"dtype\": \"number\",\n        \"std\": 0.7071067811865476,\n        \"min\": -117.95,\n        \"max\": -116.95,\n        \"num_unique_values\": 2,\n        \"samples\": [\n          -116.95,\n          -117.95\n        ],\n        \"semantic_type\": \"\",\n        \"description\": \"\"\n      }\n    },\n    {\n      \"column\": \"latitude\",\n      \"properties\": {\n        \"dtype\": \"number\",\n        \"std\": 0.8626702730475871,\n        \"min\": 33.86,\n        \"max\": 35.08,\n        \"num_unique_values\": 2,\n        \"samples\": [\n          33.86,\n          35.08\n        ],\n        \"semantic_type\": \"\",\n        \"description\": \"\"\n      }\n    },\n    {\n      \"column\": \"housing_median_age\",\n      \"properties\": {\n        \"dtype\": \"number\",\n        \"std\": 0.0,\n        \"min\": 1.0,\n        \"max\": 1.0,\n        \"num_unique_values\": 1,\n        \"samples\": [\n          1.0\n        ],\n        \"semantic_type\": \"\",\n        \"description\": \"\"\n      }\n    },\n    {\n      \"column\": \"total_rooms\",\n      \"properties\": {\n        \"dtype\": \"number\",\n        \"std\": 54.44722215136416,\n        \"min\": 6.0,\n        \"max\": 83.0,\n        \"num_unique_values\": 2,\n        \"samples\": [\n          6.0\n        ],\n        \"semantic_type\": \"\",\n        \"description\": \"\"\n      }\n    },\n    {\n      \"column\": \"population\",\n      \"properties\": {\n        \"dtype\": \"number\",\n        \"std\": 16.97056274847714,\n        \"min\": 8.0,\n        \"max\": 32.0,\n        \"num_unique_values\": 2,\n        \"samples\": [\n          8.0\n        ],\n        \"semantic_type\": \"\",\n        \"description\": \"\"\n      }\n    },\n    {\n      \"column\": \"households\",\n      \"properties\": {\n        \"dtype\": \"number\",\n        \"std\": 9.192388155425117,\n        \"min\": 2.0,\n        \"max\": 15.0,\n        \"num_unique_values\": 2,\n        \"samples\": [\n          2.0\n        ],\n        \"semantic_type\": \"\",\n        \"description\": \"\"\n      }\n    },\n    {\n      \"column\": \"median_income\",\n      \"properties\": {\n        \"dtype\": \"number\",\n        \"std\": 2.2980970388562794,\n        \"min\": 1.625,\n        \"max\": 4.875,\n        \"num_unique_values\": 2,\n        \"samples\": [\n          1.625\n        ],\n        \"semantic_type\": \"\",\n        \"description\": \"\"\n      }\n    },\n    {\n      \"column\": \"median_house_value\",\n      \"properties\": {\n        \"dtype\": \"number\",\n        \"std\": 61306.15792887367,\n        \"min\": 55000.0,\n        \"max\": 141700.0,\n        \"num_unique_values\": 2,\n        \"samples\": [\n          55000.0\n        ],\n        \"semantic_type\": \"\",\n        \"description\": \"\"\n      }\n    }\n  ]\n}",
       "type": "dataframe"
      },
      "text/html": [
       "\n",
       "  <div id=\"df-f5c51622-cce3-41b0-a6e4-aa320c3fad08\" class=\"colab-df-container\">\n",
       "    <div>\n",
       "<style scoped>\n",
       "    .dataframe tbody tr th:only-of-type {\n",
       "        vertical-align: middle;\n",
       "    }\n",
       "\n",
       "    .dataframe tbody tr th {\n",
       "        vertical-align: top;\n",
       "    }\n",
       "\n",
       "    .dataframe thead th {\n",
       "        text-align: right;\n",
       "    }\n",
       "</style>\n",
       "<table border=\"1\" class=\"dataframe\">\n",
       "  <thead>\n",
       "    <tr style=\"text-align: right;\">\n",
       "      <th></th>\n",
       "      <th>longitude</th>\n",
       "      <th>latitude</th>\n",
       "      <th>housing_median_age</th>\n",
       "      <th>total_rooms</th>\n",
       "      <th>population</th>\n",
       "      <th>households</th>\n",
       "      <th>median_income</th>\n",
       "      <th>median_house_value</th>\n",
       "    </tr>\n",
       "  </thead>\n",
       "  <tbody>\n",
       "    <tr>\n",
       "      <th>842</th>\n",
       "      <td>-117.95</td>\n",
       "      <td>35.08</td>\n",
       "      <td>1.0</td>\n",
       "      <td>83.0</td>\n",
       "      <td>32.0</td>\n",
       "      <td>15.0</td>\n",
       "      <td>4.875</td>\n",
       "      <td>141700.0</td>\n",
       "    </tr>\n",
       "    <tr>\n",
       "      <th>1115</th>\n",
       "      <td>-116.95</td>\n",
       "      <td>33.86</td>\n",
       "      <td>1.0</td>\n",
       "      <td>6.0</td>\n",
       "      <td>8.0</td>\n",
       "      <td>2.0</td>\n",
       "      <td>1.625</td>\n",
       "      <td>55000.0</td>\n",
       "    </tr>\n",
       "  </tbody>\n",
       "</table>\n",
       "</div>\n",
       "    <div class=\"colab-df-buttons\">\n",
       "\n",
       "  <div class=\"colab-df-container\">\n",
       "    <button class=\"colab-df-convert\" onclick=\"convertToInteractive('df-f5c51622-cce3-41b0-a6e4-aa320c3fad08')\"\n",
       "            title=\"Convert this dataframe to an interactive table.\"\n",
       "            style=\"display:none;\">\n",
       "\n",
       "  <svg xmlns=\"http://www.w3.org/2000/svg\" height=\"24px\" viewBox=\"0 -960 960 960\">\n",
       "    <path d=\"M120-120v-720h720v720H120Zm60-500h600v-160H180v160Zm220 220h160v-160H400v160Zm0 220h160v-160H400v160ZM180-400h160v-160H180v160Zm440 0h160v-160H620v160ZM180-180h160v-160H180v160Zm440 0h160v-160H620v160Z\"/>\n",
       "  </svg>\n",
       "    </button>\n",
       "\n",
       "  <style>\n",
       "    .colab-df-container {\n",
       "      display:flex;\n",
       "      gap: 12px;\n",
       "    }\n",
       "\n",
       "    .colab-df-convert {\n",
       "      background-color: #E8F0FE;\n",
       "      border: none;\n",
       "      border-radius: 50%;\n",
       "      cursor: pointer;\n",
       "      display: none;\n",
       "      fill: #1967D2;\n",
       "      height: 32px;\n",
       "      padding: 0 0 0 0;\n",
       "      width: 32px;\n",
       "    }\n",
       "\n",
       "    .colab-df-convert:hover {\n",
       "      background-color: #E2EBFA;\n",
       "      box-shadow: 0px 1px 2px rgba(60, 64, 67, 0.3), 0px 1px 3px 1px rgba(60, 64, 67, 0.15);\n",
       "      fill: #174EA6;\n",
       "    }\n",
       "\n",
       "    .colab-df-buttons div {\n",
       "      margin-bottom: 4px;\n",
       "    }\n",
       "\n",
       "    [theme=dark] .colab-df-convert {\n",
       "      background-color: #3B4455;\n",
       "      fill: #D2E3FC;\n",
       "    }\n",
       "\n",
       "    [theme=dark] .colab-df-convert:hover {\n",
       "      background-color: #434B5C;\n",
       "      box-shadow: 0px 1px 3px 1px rgba(0, 0, 0, 0.15);\n",
       "      filter: drop-shadow(0px 1px 2px rgba(0, 0, 0, 0.3));\n",
       "      fill: #FFFFFF;\n",
       "    }\n",
       "  </style>\n",
       "\n",
       "    <script>\n",
       "      const buttonEl =\n",
       "        document.querySelector('#df-f5c51622-cce3-41b0-a6e4-aa320c3fad08 button.colab-df-convert');\n",
       "      buttonEl.style.display =\n",
       "        google.colab.kernel.accessAllowed ? 'block' : 'none';\n",
       "\n",
       "      async function convertToInteractive(key) {\n",
       "        const element = document.querySelector('#df-f5c51622-cce3-41b0-a6e4-aa320c3fad08');\n",
       "        const dataTable =\n",
       "          await google.colab.kernel.invokeFunction('convertToInteractive',\n",
       "                                                    [key], {});\n",
       "        if (!dataTable) return;\n",
       "\n",
       "        const docLinkHtml = 'Like what you see? Visit the ' +\n",
       "          '<a target=\"_blank\" href=https://colab.research.google.com/notebooks/data_table.ipynb>data table notebook</a>'\n",
       "          + ' to learn more about interactive tables.';\n",
       "        element.innerHTML = '';\n",
       "        dataTable['output_type'] = 'display_data';\n",
       "        await google.colab.output.renderOutput(dataTable, element);\n",
       "        const docLink = document.createElement('div');\n",
       "        docLink.innerHTML = docLinkHtml;\n",
       "        element.appendChild(docLink);\n",
       "      }\n",
       "    </script>\n",
       "  </div>\n",
       "\n",
       "\n",
       "    <div id=\"df-bd21d0ea-f416-418a-92b1-6a451565316e\">\n",
       "      <button class=\"colab-df-quickchart\" onclick=\"quickchart('df-bd21d0ea-f416-418a-92b1-6a451565316e')\"\n",
       "                title=\"Suggest charts\"\n",
       "                style=\"display:none;\">\n",
       "\n",
       "<svg xmlns=\"http://www.w3.org/2000/svg\" height=\"24px\"viewBox=\"0 0 24 24\"\n",
       "     width=\"24px\">\n",
       "    <g>\n",
       "        <path d=\"M19 3H5c-1.1 0-2 .9-2 2v14c0 1.1.9 2 2 2h14c1.1 0 2-.9 2-2V5c0-1.1-.9-2-2-2zM9 17H7v-7h2v7zm4 0h-2V7h2v10zm4 0h-2v-4h2v4z\"/>\n",
       "    </g>\n",
       "</svg>\n",
       "      </button>\n",
       "\n",
       "<style>\n",
       "  .colab-df-quickchart {\n",
       "      --bg-color: #E8F0FE;\n",
       "      --fill-color: #1967D2;\n",
       "      --hover-bg-color: #E2EBFA;\n",
       "      --hover-fill-color: #174EA6;\n",
       "      --disabled-fill-color: #AAA;\n",
       "      --disabled-bg-color: #DDD;\n",
       "  }\n",
       "\n",
       "  [theme=dark] .colab-df-quickchart {\n",
       "      --bg-color: #3B4455;\n",
       "      --fill-color: #D2E3FC;\n",
       "      --hover-bg-color: #434B5C;\n",
       "      --hover-fill-color: #FFFFFF;\n",
       "      --disabled-bg-color: #3B4455;\n",
       "      --disabled-fill-color: #666;\n",
       "  }\n",
       "\n",
       "  .colab-df-quickchart {\n",
       "    background-color: var(--bg-color);\n",
       "    border: none;\n",
       "    border-radius: 50%;\n",
       "    cursor: pointer;\n",
       "    display: none;\n",
       "    fill: var(--fill-color);\n",
       "    height: 32px;\n",
       "    padding: 0;\n",
       "    width: 32px;\n",
       "  }\n",
       "\n",
       "  .colab-df-quickchart:hover {\n",
       "    background-color: var(--hover-bg-color);\n",
       "    box-shadow: 0 1px 2px rgba(60, 64, 67, 0.3), 0 1px 3px 1px rgba(60, 64, 67, 0.15);\n",
       "    fill: var(--button-hover-fill-color);\n",
       "  }\n",
       "\n",
       "  .colab-df-quickchart-complete:disabled,\n",
       "  .colab-df-quickchart-complete:disabled:hover {\n",
       "    background-color: var(--disabled-bg-color);\n",
       "    fill: var(--disabled-fill-color);\n",
       "    box-shadow: none;\n",
       "  }\n",
       "\n",
       "  .colab-df-spinner {\n",
       "    border: 2px solid var(--fill-color);\n",
       "    border-color: transparent;\n",
       "    border-bottom-color: var(--fill-color);\n",
       "    animation:\n",
       "      spin 1s steps(1) infinite;\n",
       "  }\n",
       "\n",
       "  @keyframes spin {\n",
       "    0% {\n",
       "      border-color: transparent;\n",
       "      border-bottom-color: var(--fill-color);\n",
       "      border-left-color: var(--fill-color);\n",
       "    }\n",
       "    20% {\n",
       "      border-color: transparent;\n",
       "      border-left-color: var(--fill-color);\n",
       "      border-top-color: var(--fill-color);\n",
       "    }\n",
       "    30% {\n",
       "      border-color: transparent;\n",
       "      border-left-color: var(--fill-color);\n",
       "      border-top-color: var(--fill-color);\n",
       "      border-right-color: var(--fill-color);\n",
       "    }\n",
       "    40% {\n",
       "      border-color: transparent;\n",
       "      border-right-color: var(--fill-color);\n",
       "      border-top-color: var(--fill-color);\n",
       "    }\n",
       "    60% {\n",
       "      border-color: transparent;\n",
       "      border-right-color: var(--fill-color);\n",
       "    }\n",
       "    80% {\n",
       "      border-color: transparent;\n",
       "      border-right-color: var(--fill-color);\n",
       "      border-bottom-color: var(--fill-color);\n",
       "    }\n",
       "    90% {\n",
       "      border-color: transparent;\n",
       "      border-bottom-color: var(--fill-color);\n",
       "    }\n",
       "  }\n",
       "</style>\n",
       "\n",
       "      <script>\n",
       "        async function quickchart(key) {\n",
       "          const quickchartButtonEl =\n",
       "            document.querySelector('#' + key + ' button');\n",
       "          quickchartButtonEl.disabled = true;  // To prevent multiple clicks.\n",
       "          quickchartButtonEl.classList.add('colab-df-spinner');\n",
       "          try {\n",
       "            const charts = await google.colab.kernel.invokeFunction(\n",
       "                'suggestCharts', [key], {});\n",
       "          } catch (error) {\n",
       "            console.error('Error during call to suggestCharts:', error);\n",
       "          }\n",
       "          quickchartButtonEl.classList.remove('colab-df-spinner');\n",
       "          quickchartButtonEl.classList.add('colab-df-quickchart-complete');\n",
       "        }\n",
       "        (() => {\n",
       "          let quickchartButtonEl =\n",
       "            document.querySelector('#df-bd21d0ea-f416-418a-92b1-6a451565316e button');\n",
       "          quickchartButtonEl.style.display =\n",
       "            google.colab.kernel.accessAllowed ? 'block' : 'none';\n",
       "        })();\n",
       "      </script>\n",
       "    </div>\n",
       "\n",
       "    </div>\n",
       "  </div>\n"
      ],
      "text/plain": [
       "      longitude  latitude  housing_median_age  total_rooms  population  \\\n",
       "842     -117.95     35.08                 1.0         83.0        32.0   \n",
       "1115    -116.95     33.86                 1.0          6.0         8.0   \n",
       "\n",
       "      households  median_income  median_house_value  \n",
       "842         15.0          4.875            141700.0  \n",
       "1115         2.0          1.625             55000.0  "
      ]
     },
     "execution_count": 48,
     "metadata": {},
     "output_type": "execute_result"
    }
   ],
   "source": [
    "# Find the row(s) where housing_median_age is at minimum\n",
    "br[br['housing_median_age'] == br['housing_median_age'].min()]"
   ]
  },
  {
   "cell_type": "code",
   "execution_count": null,
   "metadata": {
    "ExecuteTime": {
     "end_time": "2021-05-05T23:33:17.171683Z",
     "start_time": "2021-05-05T23:33:17.160108Z"
    },
    "colab": {
     "base_uri": "https://localhost:8080/",
     "height": 424
    },
    "executionInfo": {
     "elapsed": 40,
     "status": "ok",
     "timestamp": 1750830124884,
     "user": {
      "displayName": "Nattawut Chayauam",
      "userId": "02605944594835988637"
     },
     "user_tz": -420
    },
    "id": "Zgv_G38vFY6a",
    "outputId": "82c94349-7cb9-4a2f-8152-5abd88054c15"
   },
   "outputs": [
    {
     "data": {
      "application/vnd.google.colaboratory.intrinsic+json": {
       "summary": "{\n  \"name\": \"br[br['housing_median_age'] == br['housing_median_age']\",\n  \"rows\": 173,\n  \"fields\": [\n    {\n      \"column\": \"longitude\",\n      \"properties\": {\n        \"dtype\": \"number\",\n        \"std\": 2.025813176997123,\n        \"min\": -124.16,\n        \"max\": -117.11,\n        \"num_unique_values\": 83,\n        \"samples\": [\n          -121.49,\n          -122.42,\n          -117.33\n        ],\n        \"semantic_type\": \"\",\n        \"description\": \"\"\n      }\n    },\n    {\n      \"column\": \"latitude\",\n      \"properties\": {\n        \"dtype\": \"number\",\n        \"std\": 1.9747579601586212,\n        \"min\": 32.66,\n        \"max\": 41.2,\n        \"num_unique_values\": 79,\n        \"samples\": [\n          39.22,\n          37.76,\n          33.98\n        ],\n        \"semantic_type\": \"\",\n        \"description\": \"\"\n      }\n    },\n    {\n      \"column\": \"housing_median_age\",\n      \"properties\": {\n        \"dtype\": \"number\",\n        \"std\": 0.0,\n        \"min\": 52.0,\n        \"max\": 52.0,\n        \"num_unique_values\": 1,\n        \"samples\": [\n          52.0\n        ],\n        \"semantic_type\": \"\",\n        \"description\": \"\"\n      }\n    },\n    {\n      \"column\": \"total_rooms\",\n      \"properties\": {\n        \"dtype\": \"number\",\n        \"std\": 1025.7093678454564,\n        \"min\": 16.0,\n        \"max\": 6186.0,\n        \"num_unique_values\": 169,\n        \"samples\": [\n          4513.0\n        ],\n        \"semantic_type\": \"\",\n        \"description\": \"\"\n      }\n    },\n    {\n      \"column\": \"population\",\n      \"properties\": {\n        \"dtype\": \"number\",\n        \"std\": 672.8518263224889,\n        \"min\": 8.0,\n        \"max\": 6675.0,\n        \"num_unique_values\": 169,\n        \"samples\": [\n          899.0\n        ],\n        \"semantic_type\": \"\",\n        \"description\": \"\"\n      }\n    },\n    {\n      \"column\": \"households\",\n      \"properties\": {\n        \"dtype\": \"number\",\n        \"std\": 218.770763422242,\n        \"min\": 3.0,\n        \"max\": 1374.0,\n        \"num_unique_values\": 155,\n        \"samples\": [\n          34.0\n        ],\n        \"semantic_type\": \"\",\n        \"description\": \"\"\n      }\n    },\n    {\n      \"column\": \"median_income\",\n      \"properties\": {\n        \"dtype\": \"number\",\n        \"std\": 1.9155368956935477,\n        \"min\": 0.75,\n        \"max\": 15.0001,\n        \"num_unique_values\": 167,\n        \"samples\": [\n          2.2125\n        ],\n        \"semantic_type\": \"\",\n        \"description\": \"\"\n      }\n    },\n    {\n      \"column\": \"median_house_value\",\n      \"properties\": {\n        \"dtype\": \"number\",\n        \"std\": 130956.84941419344,\n        \"min\": 22500.0,\n        \"max\": 500001.0,\n        \"num_unique_values\": 145,\n        \"samples\": [\n          268500.0\n        ],\n        \"semantic_type\": \"\",\n        \"description\": \"\"\n      }\n    }\n  ]\n}",
       "type": "dataframe"
      },
      "text/html": [
       "\n",
       "  <div id=\"df-25191d1c-0668-4d43-b44b-1913ebb7b51a\" class=\"colab-df-container\">\n",
       "    <div>\n",
       "<style scoped>\n",
       "    .dataframe tbody tr th:only-of-type {\n",
       "        vertical-align: middle;\n",
       "    }\n",
       "\n",
       "    .dataframe tbody tr th {\n",
       "        vertical-align: top;\n",
       "    }\n",
       "\n",
       "    .dataframe thead th {\n",
       "        text-align: right;\n",
       "    }\n",
       "</style>\n",
       "<table border=\"1\" class=\"dataframe\">\n",
       "  <thead>\n",
       "    <tr style=\"text-align: right;\">\n",
       "      <th></th>\n",
       "      <th>longitude</th>\n",
       "      <th>latitude</th>\n",
       "      <th>housing_median_age</th>\n",
       "      <th>total_rooms</th>\n",
       "      <th>population</th>\n",
       "      <th>households</th>\n",
       "      <th>median_income</th>\n",
       "      <th>median_house_value</th>\n",
       "    </tr>\n",
       "  </thead>\n",
       "  <tbody>\n",
       "    <tr>\n",
       "      <th>26</th>\n",
       "      <td>-122.42</td>\n",
       "      <td>37.76</td>\n",
       "      <td>52.0</td>\n",
       "      <td>3587.0</td>\n",
       "      <td>2259.0</td>\n",
       "      <td>979.0</td>\n",
       "      <td>2.5403</td>\n",
       "      <td>250000.0</td>\n",
       "    </tr>\n",
       "    <tr>\n",
       "      <th>36</th>\n",
       "      <td>-122.53</td>\n",
       "      <td>37.97</td>\n",
       "      <td>52.0</td>\n",
       "      <td>1560.0</td>\n",
       "      <td>700.0</td>\n",
       "      <td>419.0</td>\n",
       "      <td>2.5125</td>\n",
       "      <td>270800.0</td>\n",
       "    </tr>\n",
       "    <tr>\n",
       "      <th>70</th>\n",
       "      <td>-121.92</td>\n",
       "      <td>37.33</td>\n",
       "      <td>52.0</td>\n",
       "      <td>2125.0</td>\n",
       "      <td>930.0</td>\n",
       "      <td>387.0</td>\n",
       "      <td>5.2831</td>\n",
       "      <td>299500.0</td>\n",
       "    </tr>\n",
       "    <tr>\n",
       "      <th>99</th>\n",
       "      <td>-118.20</td>\n",
       "      <td>33.77</td>\n",
       "      <td>52.0</td>\n",
       "      <td>1375.0</td>\n",
       "      <td>1089.0</td>\n",
       "      <td>317.0</td>\n",
       "      <td>2.2344</td>\n",
       "      <td>200000.0</td>\n",
       "    </tr>\n",
       "    <tr>\n",
       "      <th>109</th>\n",
       "      <td>-122.43</td>\n",
       "      <td>37.74</td>\n",
       "      <td>52.0</td>\n",
       "      <td>1514.0</td>\n",
       "      <td>724.0</td>\n",
       "      <td>301.0</td>\n",
       "      <td>5.3292</td>\n",
       "      <td>300900.0</td>\n",
       "    </tr>\n",
       "    <tr>\n",
       "      <th>...</th>\n",
       "      <td>...</td>\n",
       "      <td>...</td>\n",
       "      <td>...</td>\n",
       "      <td>...</td>\n",
       "      <td>...</td>\n",
       "      <td>...</td>\n",
       "      <td>...</td>\n",
       "      <td>...</td>\n",
       "    </tr>\n",
       "    <tr>\n",
       "      <th>2950</th>\n",
       "      <td>-122.42</td>\n",
       "      <td>37.79</td>\n",
       "      <td>52.0</td>\n",
       "      <td>3364.0</td>\n",
       "      <td>2112.0</td>\n",
       "      <td>1045.0</td>\n",
       "      <td>2.1343</td>\n",
       "      <td>400000.0</td>\n",
       "    </tr>\n",
       "    <tr>\n",
       "      <th>2965</th>\n",
       "      <td>-122.44</td>\n",
       "      <td>37.71</td>\n",
       "      <td>52.0</td>\n",
       "      <td>2711.0</td>\n",
       "      <td>1848.0</td>\n",
       "      <td>524.0</td>\n",
       "      <td>3.9567</td>\n",
       "      <td>251500.0</td>\n",
       "    </tr>\n",
       "    <tr>\n",
       "      <th>2970</th>\n",
       "      <td>-122.47</td>\n",
       "      <td>37.77</td>\n",
       "      <td>52.0</td>\n",
       "      <td>2241.0</td>\n",
       "      <td>1042.0</td>\n",
       "      <td>377.0</td>\n",
       "      <td>4.1635</td>\n",
       "      <td>398400.0</td>\n",
       "    </tr>\n",
       "    <tr>\n",
       "      <th>2972</th>\n",
       "      <td>-118.14</td>\n",
       "      <td>34.17</td>\n",
       "      <td>52.0</td>\n",
       "      <td>2667.0</td>\n",
       "      <td>1681.0</td>\n",
       "      <td>504.0</td>\n",
       "      <td>4.0524</td>\n",
       "      <td>173100.0</td>\n",
       "    </tr>\n",
       "    <tr>\n",
       "      <th>2992</th>\n",
       "      <td>-122.33</td>\n",
       "      <td>37.39</td>\n",
       "      <td>52.0</td>\n",
       "      <td>573.0</td>\n",
       "      <td>232.0</td>\n",
       "      <td>92.0</td>\n",
       "      <td>6.2263</td>\n",
       "      <td>500001.0</td>\n",
       "    </tr>\n",
       "  </tbody>\n",
       "</table>\n",
       "<p>173 rows × 8 columns</p>\n",
       "</div>\n",
       "    <div class=\"colab-df-buttons\">\n",
       "\n",
       "  <div class=\"colab-df-container\">\n",
       "    <button class=\"colab-df-convert\" onclick=\"convertToInteractive('df-25191d1c-0668-4d43-b44b-1913ebb7b51a')\"\n",
       "            title=\"Convert this dataframe to an interactive table.\"\n",
       "            style=\"display:none;\">\n",
       "\n",
       "  <svg xmlns=\"http://www.w3.org/2000/svg\" height=\"24px\" viewBox=\"0 -960 960 960\">\n",
       "    <path d=\"M120-120v-720h720v720H120Zm60-500h600v-160H180v160Zm220 220h160v-160H400v160Zm0 220h160v-160H400v160ZM180-400h160v-160H180v160Zm440 0h160v-160H620v160ZM180-180h160v-160H180v160Zm440 0h160v-160H620v160Z\"/>\n",
       "  </svg>\n",
       "    </button>\n",
       "\n",
       "  <style>\n",
       "    .colab-df-container {\n",
       "      display:flex;\n",
       "      gap: 12px;\n",
       "    }\n",
       "\n",
       "    .colab-df-convert {\n",
       "      background-color: #E8F0FE;\n",
       "      border: none;\n",
       "      border-radius: 50%;\n",
       "      cursor: pointer;\n",
       "      display: none;\n",
       "      fill: #1967D2;\n",
       "      height: 32px;\n",
       "      padding: 0 0 0 0;\n",
       "      width: 32px;\n",
       "    }\n",
       "\n",
       "    .colab-df-convert:hover {\n",
       "      background-color: #E2EBFA;\n",
       "      box-shadow: 0px 1px 2px rgba(60, 64, 67, 0.3), 0px 1px 3px 1px rgba(60, 64, 67, 0.15);\n",
       "      fill: #174EA6;\n",
       "    }\n",
       "\n",
       "    .colab-df-buttons div {\n",
       "      margin-bottom: 4px;\n",
       "    }\n",
       "\n",
       "    [theme=dark] .colab-df-convert {\n",
       "      background-color: #3B4455;\n",
       "      fill: #D2E3FC;\n",
       "    }\n",
       "\n",
       "    [theme=dark] .colab-df-convert:hover {\n",
       "      background-color: #434B5C;\n",
       "      box-shadow: 0px 1px 3px 1px rgba(0, 0, 0, 0.15);\n",
       "      filter: drop-shadow(0px 1px 2px rgba(0, 0, 0, 0.3));\n",
       "      fill: #FFFFFF;\n",
       "    }\n",
       "  </style>\n",
       "\n",
       "    <script>\n",
       "      const buttonEl =\n",
       "        document.querySelector('#df-25191d1c-0668-4d43-b44b-1913ebb7b51a button.colab-df-convert');\n",
       "      buttonEl.style.display =\n",
       "        google.colab.kernel.accessAllowed ? 'block' : 'none';\n",
       "\n",
       "      async function convertToInteractive(key) {\n",
       "        const element = document.querySelector('#df-25191d1c-0668-4d43-b44b-1913ebb7b51a');\n",
       "        const dataTable =\n",
       "          await google.colab.kernel.invokeFunction('convertToInteractive',\n",
       "                                                    [key], {});\n",
       "        if (!dataTable) return;\n",
       "\n",
       "        const docLinkHtml = 'Like what you see? Visit the ' +\n",
       "          '<a target=\"_blank\" href=https://colab.research.google.com/notebooks/data_table.ipynb>data table notebook</a>'\n",
       "          + ' to learn more about interactive tables.';\n",
       "        element.innerHTML = '';\n",
       "        dataTable['output_type'] = 'display_data';\n",
       "        await google.colab.output.renderOutput(dataTable, element);\n",
       "        const docLink = document.createElement('div');\n",
       "        docLink.innerHTML = docLinkHtml;\n",
       "        element.appendChild(docLink);\n",
       "      }\n",
       "    </script>\n",
       "  </div>\n",
       "\n",
       "\n",
       "    <div id=\"df-8beb6509-514b-4897-aab3-0555da843b05\">\n",
       "      <button class=\"colab-df-quickchart\" onclick=\"quickchart('df-8beb6509-514b-4897-aab3-0555da843b05')\"\n",
       "                title=\"Suggest charts\"\n",
       "                style=\"display:none;\">\n",
       "\n",
       "<svg xmlns=\"http://www.w3.org/2000/svg\" height=\"24px\"viewBox=\"0 0 24 24\"\n",
       "     width=\"24px\">\n",
       "    <g>\n",
       "        <path d=\"M19 3H5c-1.1 0-2 .9-2 2v14c0 1.1.9 2 2 2h14c1.1 0 2-.9 2-2V5c0-1.1-.9-2-2-2zM9 17H7v-7h2v7zm4 0h-2V7h2v10zm4 0h-2v-4h2v4z\"/>\n",
       "    </g>\n",
       "</svg>\n",
       "      </button>\n",
       "\n",
       "<style>\n",
       "  .colab-df-quickchart {\n",
       "      --bg-color: #E8F0FE;\n",
       "      --fill-color: #1967D2;\n",
       "      --hover-bg-color: #E2EBFA;\n",
       "      --hover-fill-color: #174EA6;\n",
       "      --disabled-fill-color: #AAA;\n",
       "      --disabled-bg-color: #DDD;\n",
       "  }\n",
       "\n",
       "  [theme=dark] .colab-df-quickchart {\n",
       "      --bg-color: #3B4455;\n",
       "      --fill-color: #D2E3FC;\n",
       "      --hover-bg-color: #434B5C;\n",
       "      --hover-fill-color: #FFFFFF;\n",
       "      --disabled-bg-color: #3B4455;\n",
       "      --disabled-fill-color: #666;\n",
       "  }\n",
       "\n",
       "  .colab-df-quickchart {\n",
       "    background-color: var(--bg-color);\n",
       "    border: none;\n",
       "    border-radius: 50%;\n",
       "    cursor: pointer;\n",
       "    display: none;\n",
       "    fill: var(--fill-color);\n",
       "    height: 32px;\n",
       "    padding: 0;\n",
       "    width: 32px;\n",
       "  }\n",
       "\n",
       "  .colab-df-quickchart:hover {\n",
       "    background-color: var(--hover-bg-color);\n",
       "    box-shadow: 0 1px 2px rgba(60, 64, 67, 0.3), 0 1px 3px 1px rgba(60, 64, 67, 0.15);\n",
       "    fill: var(--button-hover-fill-color);\n",
       "  }\n",
       "\n",
       "  .colab-df-quickchart-complete:disabled,\n",
       "  .colab-df-quickchart-complete:disabled:hover {\n",
       "    background-color: var(--disabled-bg-color);\n",
       "    fill: var(--disabled-fill-color);\n",
       "    box-shadow: none;\n",
       "  }\n",
       "\n",
       "  .colab-df-spinner {\n",
       "    border: 2px solid var(--fill-color);\n",
       "    border-color: transparent;\n",
       "    border-bottom-color: var(--fill-color);\n",
       "    animation:\n",
       "      spin 1s steps(1) infinite;\n",
       "  }\n",
       "\n",
       "  @keyframes spin {\n",
       "    0% {\n",
       "      border-color: transparent;\n",
       "      border-bottom-color: var(--fill-color);\n",
       "      border-left-color: var(--fill-color);\n",
       "    }\n",
       "    20% {\n",
       "      border-color: transparent;\n",
       "      border-left-color: var(--fill-color);\n",
       "      border-top-color: var(--fill-color);\n",
       "    }\n",
       "    30% {\n",
       "      border-color: transparent;\n",
       "      border-left-color: var(--fill-color);\n",
       "      border-top-color: var(--fill-color);\n",
       "      border-right-color: var(--fill-color);\n",
       "    }\n",
       "    40% {\n",
       "      border-color: transparent;\n",
       "      border-right-color: var(--fill-color);\n",
       "      border-top-color: var(--fill-color);\n",
       "    }\n",
       "    60% {\n",
       "      border-color: transparent;\n",
       "      border-right-color: var(--fill-color);\n",
       "    }\n",
       "    80% {\n",
       "      border-color: transparent;\n",
       "      border-right-color: var(--fill-color);\n",
       "      border-bottom-color: var(--fill-color);\n",
       "    }\n",
       "    90% {\n",
       "      border-color: transparent;\n",
       "      border-bottom-color: var(--fill-color);\n",
       "    }\n",
       "  }\n",
       "</style>\n",
       "\n",
       "      <script>\n",
       "        async function quickchart(key) {\n",
       "          const quickchartButtonEl =\n",
       "            document.querySelector('#' + key + ' button');\n",
       "          quickchartButtonEl.disabled = true;  // To prevent multiple clicks.\n",
       "          quickchartButtonEl.classList.add('colab-df-spinner');\n",
       "          try {\n",
       "            const charts = await google.colab.kernel.invokeFunction(\n",
       "                'suggestCharts', [key], {});\n",
       "          } catch (error) {\n",
       "            console.error('Error during call to suggestCharts:', error);\n",
       "          }\n",
       "          quickchartButtonEl.classList.remove('colab-df-spinner');\n",
       "          quickchartButtonEl.classList.add('colab-df-quickchart-complete');\n",
       "        }\n",
       "        (() => {\n",
       "          let quickchartButtonEl =\n",
       "            document.querySelector('#df-8beb6509-514b-4897-aab3-0555da843b05 button');\n",
       "          quickchartButtonEl.style.display =\n",
       "            google.colab.kernel.accessAllowed ? 'block' : 'none';\n",
       "        })();\n",
       "      </script>\n",
       "    </div>\n",
       "\n",
       "    </div>\n",
       "  </div>\n"
      ],
      "text/plain": [
       "      longitude  latitude  housing_median_age  total_rooms  population  \\\n",
       "26      -122.42     37.76                52.0       3587.0      2259.0   \n",
       "36      -122.53     37.97                52.0       1560.0       700.0   \n",
       "70      -121.92     37.33                52.0       2125.0       930.0   \n",
       "99      -118.20     33.77                52.0       1375.0      1089.0   \n",
       "109     -122.43     37.74                52.0       1514.0       724.0   \n",
       "...         ...       ...                 ...          ...         ...   \n",
       "2950    -122.42     37.79                52.0       3364.0      2112.0   \n",
       "2965    -122.44     37.71                52.0       2711.0      1848.0   \n",
       "2970    -122.47     37.77                52.0       2241.0      1042.0   \n",
       "2972    -118.14     34.17                52.0       2667.0      1681.0   \n",
       "2992    -122.33     37.39                52.0        573.0       232.0   \n",
       "\n",
       "      households  median_income  median_house_value  \n",
       "26         979.0         2.5403            250000.0  \n",
       "36         419.0         2.5125            270800.0  \n",
       "70         387.0         5.2831            299500.0  \n",
       "99         317.0         2.2344            200000.0  \n",
       "109        301.0         5.3292            300900.0  \n",
       "...          ...            ...                 ...  \n",
       "2950      1045.0         2.1343            400000.0  \n",
       "2965       524.0         3.9567            251500.0  \n",
       "2970       377.0         4.1635            398400.0  \n",
       "2972       504.0         4.0524            173100.0  \n",
       "2992        92.0         6.2263            500001.0  \n",
       "\n",
       "[173 rows x 8 columns]"
      ]
     },
     "execution_count": 49,
     "metadata": {},
     "output_type": "execute_result"
    }
   ],
   "source": [
    "# Find the row(s) where housing_median_age is at maximum\n",
    "br[br['housing_median_age'] == br['housing_median_age'].max()]"
   ]
  },
  {
   "cell_type": "code",
   "execution_count": null,
   "metadata": {
    "colab": {
     "base_uri": "https://localhost:8080/",
     "height": 300
    },
    "executionInfo": {
     "elapsed": 35,
     "status": "ok",
     "timestamp": 1750830124921,
     "user": {
      "displayName": "Nattawut Chayauam",
      "userId": "02605944594835988637"
     },
     "user_tz": -420
    },
    "id": "ksu2tfndBqf2",
    "outputId": "0df72bf2-2fdf-4d3d-c6ff-6811c4e93faa"
   },
   "outputs": [
    {
     "data": {
      "application/vnd.google.colaboratory.intrinsic+json": {
       "summary": "{\n  \"name\": \"br\",\n  \"rows\": 8,\n  \"fields\": [\n    {\n      \"column\": \"longitude\",\n      \"properties\": {\n        \"dtype\": \"number\",\n        \"std\": 1097.5782294291084,\n        \"min\": -124.18,\n        \"max\": 3000.0,\n        \"num_unique_values\": 8,\n        \"samples\": [\n          -119.58919999999999,\n          -118.485,\n          3000.0\n        ],\n        \"semantic_type\": \"\",\n        \"description\": \"\"\n      }\n    },\n    {\n      \"column\": \"latitude\",\n      \"properties\": {\n        \"dtype\": \"number\",\n        \"std\": 1049.713492390462,\n        \"min\": 2.1296695233438325,\n        \"max\": 3000.0,\n        \"num_unique_values\": 8,\n        \"samples\": [\n          35.635389999999994,\n          34.27,\n          3000.0\n        ],\n        \"semantic_type\": \"\",\n        \"description\": \"\"\n      }\n    },\n    {\n      \"column\": \"housing_median_age\",\n      \"properties\": {\n        \"dtype\": \"number\",\n        \"std\": 1051.7638105336573,\n        \"min\": 1.0,\n        \"max\": 3000.0,\n        \"num_unique_values\": 8,\n        \"samples\": [\n          28.845333333333333,\n          29.0,\n          3000.0\n        ],\n        \"semantic_type\": \"\",\n        \"description\": \"\"\n      }\n    },\n    {\n      \"column\": \"total_rooms\",\n      \"properties\": {\n        \"dtype\": \"number\",\n        \"std\": 10088.09058334902,\n        \"min\": 6.0,\n        \"max\": 30450.0,\n        \"num_unique_values\": 8,\n        \"samples\": [\n          2599.578666666667,\n          2106.0,\n          3000.0\n        ],\n        \"semantic_type\": \"\",\n        \"description\": \"\"\n      }\n    },\n    {\n      \"column\": \"population\",\n      \"properties\": {\n        \"dtype\": \"number\",\n        \"std\": 3855.6110864929296,\n        \"min\": 5.0,\n        \"max\": 11935.0,\n        \"num_unique_values\": 8,\n        \"samples\": [\n          1402.7986666666666,\n          1155.0,\n          3000.0\n        ],\n        \"semantic_type\": \"\",\n        \"description\": \"\"\n      }\n    },\n    {\n      \"column\": \"households\",\n      \"properties\": {\n        \"dtype\": \"number\",\n        \"std\": 1756.990284459096,\n        \"min\": 2.0,\n        \"max\": 4930.0,\n        \"num_unique_values\": 8,\n        \"samples\": [\n          489.912,\n          409.5,\n          3000.0\n        ],\n        \"semantic_type\": \"\",\n        \"description\": \"\"\n      }\n    },\n    {\n      \"column\": \"median_income\",\n      \"properties\": {\n        \"dtype\": \"number\",\n        \"std\": 1059.0608810128942,\n        \"min\": 0.4999,\n        \"max\": 3000.0,\n        \"num_unique_values\": 8,\n        \"samples\": [\n          3.8072717999999997,\n          3.4871499999999997,\n          3000.0\n        ],\n        \"semantic_type\": \"\",\n        \"description\": \"\"\n      }\n    },\n    {\n      \"column\": \"median_house_value\",\n      \"properties\": {\n        \"dtype\": \"number\",\n        \"std\": 157687.72590002406,\n        \"min\": 3000.0,\n        \"max\": 500001.0,\n        \"num_unique_values\": 8,\n        \"samples\": [\n          205846.275,\n          177650.0,\n          3000.0\n        ],\n        \"semantic_type\": \"\",\n        \"description\": \"\"\n      }\n    }\n  ]\n}",
       "type": "dataframe"
      },
      "text/html": [
       "\n",
       "  <div id=\"df-149129fc-a285-4565-9545-29ca079dbf6a\" class=\"colab-df-container\">\n",
       "    <div>\n",
       "<style scoped>\n",
       "    .dataframe tbody tr th:only-of-type {\n",
       "        vertical-align: middle;\n",
       "    }\n",
       "\n",
       "    .dataframe tbody tr th {\n",
       "        vertical-align: top;\n",
       "    }\n",
       "\n",
       "    .dataframe thead th {\n",
       "        text-align: right;\n",
       "    }\n",
       "</style>\n",
       "<table border=\"1\" class=\"dataframe\">\n",
       "  <thead>\n",
       "    <tr style=\"text-align: right;\">\n",
       "      <th></th>\n",
       "      <th>longitude</th>\n",
       "      <th>latitude</th>\n",
       "      <th>housing_median_age</th>\n",
       "      <th>total_rooms</th>\n",
       "      <th>population</th>\n",
       "      <th>households</th>\n",
       "      <th>median_income</th>\n",
       "      <th>median_house_value</th>\n",
       "    </tr>\n",
       "  </thead>\n",
       "  <tbody>\n",
       "    <tr>\n",
       "      <th>count</th>\n",
       "      <td>3000.000000</td>\n",
       "      <td>3000.00000</td>\n",
       "      <td>3000.000000</td>\n",
       "      <td>3000.000000</td>\n",
       "      <td>3000.000000</td>\n",
       "      <td>3000.00000</td>\n",
       "      <td>3000.000000</td>\n",
       "      <td>3000.00000</td>\n",
       "    </tr>\n",
       "    <tr>\n",
       "      <th>mean</th>\n",
       "      <td>-119.589200</td>\n",
       "      <td>35.63539</td>\n",
       "      <td>28.845333</td>\n",
       "      <td>2599.578667</td>\n",
       "      <td>1402.798667</td>\n",
       "      <td>489.91200</td>\n",
       "      <td>3.807272</td>\n",
       "      <td>205846.27500</td>\n",
       "    </tr>\n",
       "    <tr>\n",
       "      <th>std</th>\n",
       "      <td>1.994936</td>\n",
       "      <td>2.12967</td>\n",
       "      <td>12.555396</td>\n",
       "      <td>2155.593332</td>\n",
       "      <td>1030.543012</td>\n",
       "      <td>365.42271</td>\n",
       "      <td>1.854512</td>\n",
       "      <td>113119.68747</td>\n",
       "    </tr>\n",
       "    <tr>\n",
       "      <th>min</th>\n",
       "      <td>-124.180000</td>\n",
       "      <td>32.56000</td>\n",
       "      <td>1.000000</td>\n",
       "      <td>6.000000</td>\n",
       "      <td>5.000000</td>\n",
       "      <td>2.00000</td>\n",
       "      <td>0.499900</td>\n",
       "      <td>22500.00000</td>\n",
       "    </tr>\n",
       "    <tr>\n",
       "      <th>25%</th>\n",
       "      <td>-121.810000</td>\n",
       "      <td>33.93000</td>\n",
       "      <td>18.000000</td>\n",
       "      <td>1401.000000</td>\n",
       "      <td>780.000000</td>\n",
       "      <td>273.00000</td>\n",
       "      <td>2.544000</td>\n",
       "      <td>121200.00000</td>\n",
       "    </tr>\n",
       "    <tr>\n",
       "      <th>50%</th>\n",
       "      <td>-118.485000</td>\n",
       "      <td>34.27000</td>\n",
       "      <td>29.000000</td>\n",
       "      <td>2106.000000</td>\n",
       "      <td>1155.000000</td>\n",
       "      <td>409.50000</td>\n",
       "      <td>3.487150</td>\n",
       "      <td>177650.00000</td>\n",
       "    </tr>\n",
       "    <tr>\n",
       "      <th>75%</th>\n",
       "      <td>-118.020000</td>\n",
       "      <td>37.69000</td>\n",
       "      <td>37.000000</td>\n",
       "      <td>3129.000000</td>\n",
       "      <td>1742.750000</td>\n",
       "      <td>597.25000</td>\n",
       "      <td>4.656475</td>\n",
       "      <td>263975.00000</td>\n",
       "    </tr>\n",
       "    <tr>\n",
       "      <th>max</th>\n",
       "      <td>-114.490000</td>\n",
       "      <td>41.92000</td>\n",
       "      <td>52.000000</td>\n",
       "      <td>30450.000000</td>\n",
       "      <td>11935.000000</td>\n",
       "      <td>4930.00000</td>\n",
       "      <td>15.000100</td>\n",
       "      <td>500001.00000</td>\n",
       "    </tr>\n",
       "  </tbody>\n",
       "</table>\n",
       "</div>\n",
       "    <div class=\"colab-df-buttons\">\n",
       "\n",
       "  <div class=\"colab-df-container\">\n",
       "    <button class=\"colab-df-convert\" onclick=\"convertToInteractive('df-149129fc-a285-4565-9545-29ca079dbf6a')\"\n",
       "            title=\"Convert this dataframe to an interactive table.\"\n",
       "            style=\"display:none;\">\n",
       "\n",
       "  <svg xmlns=\"http://www.w3.org/2000/svg\" height=\"24px\" viewBox=\"0 -960 960 960\">\n",
       "    <path d=\"M120-120v-720h720v720H120Zm60-500h600v-160H180v160Zm220 220h160v-160H400v160Zm0 220h160v-160H400v160ZM180-400h160v-160H180v160Zm440 0h160v-160H620v160ZM180-180h160v-160H180v160Zm440 0h160v-160H620v160Z\"/>\n",
       "  </svg>\n",
       "    </button>\n",
       "\n",
       "  <style>\n",
       "    .colab-df-container {\n",
       "      display:flex;\n",
       "      gap: 12px;\n",
       "    }\n",
       "\n",
       "    .colab-df-convert {\n",
       "      background-color: #E8F0FE;\n",
       "      border: none;\n",
       "      border-radius: 50%;\n",
       "      cursor: pointer;\n",
       "      display: none;\n",
       "      fill: #1967D2;\n",
       "      height: 32px;\n",
       "      padding: 0 0 0 0;\n",
       "      width: 32px;\n",
       "    }\n",
       "\n",
       "    .colab-df-convert:hover {\n",
       "      background-color: #E2EBFA;\n",
       "      box-shadow: 0px 1px 2px rgba(60, 64, 67, 0.3), 0px 1px 3px 1px rgba(60, 64, 67, 0.15);\n",
       "      fill: #174EA6;\n",
       "    }\n",
       "\n",
       "    .colab-df-buttons div {\n",
       "      margin-bottom: 4px;\n",
       "    }\n",
       "\n",
       "    [theme=dark] .colab-df-convert {\n",
       "      background-color: #3B4455;\n",
       "      fill: #D2E3FC;\n",
       "    }\n",
       "\n",
       "    [theme=dark] .colab-df-convert:hover {\n",
       "      background-color: #434B5C;\n",
       "      box-shadow: 0px 1px 3px 1px rgba(0, 0, 0, 0.15);\n",
       "      filter: drop-shadow(0px 1px 2px rgba(0, 0, 0, 0.3));\n",
       "      fill: #FFFFFF;\n",
       "    }\n",
       "  </style>\n",
       "\n",
       "    <script>\n",
       "      const buttonEl =\n",
       "        document.querySelector('#df-149129fc-a285-4565-9545-29ca079dbf6a button.colab-df-convert');\n",
       "      buttonEl.style.display =\n",
       "        google.colab.kernel.accessAllowed ? 'block' : 'none';\n",
       "\n",
       "      async function convertToInteractive(key) {\n",
       "        const element = document.querySelector('#df-149129fc-a285-4565-9545-29ca079dbf6a');\n",
       "        const dataTable =\n",
       "          await google.colab.kernel.invokeFunction('convertToInteractive',\n",
       "                                                    [key], {});\n",
       "        if (!dataTable) return;\n",
       "\n",
       "        const docLinkHtml = 'Like what you see? Visit the ' +\n",
       "          '<a target=\"_blank\" href=https://colab.research.google.com/notebooks/data_table.ipynb>data table notebook</a>'\n",
       "          + ' to learn more about interactive tables.';\n",
       "        element.innerHTML = '';\n",
       "        dataTable['output_type'] = 'display_data';\n",
       "        await google.colab.output.renderOutput(dataTable, element);\n",
       "        const docLink = document.createElement('div');\n",
       "        docLink.innerHTML = docLinkHtml;\n",
       "        element.appendChild(docLink);\n",
       "      }\n",
       "    </script>\n",
       "  </div>\n",
       "\n",
       "\n",
       "    <div id=\"df-d5ced9f2-f70a-418c-9454-f9cd52c6f54c\">\n",
       "      <button class=\"colab-df-quickchart\" onclick=\"quickchart('df-d5ced9f2-f70a-418c-9454-f9cd52c6f54c')\"\n",
       "                title=\"Suggest charts\"\n",
       "                style=\"display:none;\">\n",
       "\n",
       "<svg xmlns=\"http://www.w3.org/2000/svg\" height=\"24px\"viewBox=\"0 0 24 24\"\n",
       "     width=\"24px\">\n",
       "    <g>\n",
       "        <path d=\"M19 3H5c-1.1 0-2 .9-2 2v14c0 1.1.9 2 2 2h14c1.1 0 2-.9 2-2V5c0-1.1-.9-2-2-2zM9 17H7v-7h2v7zm4 0h-2V7h2v10zm4 0h-2v-4h2v4z\"/>\n",
       "    </g>\n",
       "</svg>\n",
       "      </button>\n",
       "\n",
       "<style>\n",
       "  .colab-df-quickchart {\n",
       "      --bg-color: #E8F0FE;\n",
       "      --fill-color: #1967D2;\n",
       "      --hover-bg-color: #E2EBFA;\n",
       "      --hover-fill-color: #174EA6;\n",
       "      --disabled-fill-color: #AAA;\n",
       "      --disabled-bg-color: #DDD;\n",
       "  }\n",
       "\n",
       "  [theme=dark] .colab-df-quickchart {\n",
       "      --bg-color: #3B4455;\n",
       "      --fill-color: #D2E3FC;\n",
       "      --hover-bg-color: #434B5C;\n",
       "      --hover-fill-color: #FFFFFF;\n",
       "      --disabled-bg-color: #3B4455;\n",
       "      --disabled-fill-color: #666;\n",
       "  }\n",
       "\n",
       "  .colab-df-quickchart {\n",
       "    background-color: var(--bg-color);\n",
       "    border: none;\n",
       "    border-radius: 50%;\n",
       "    cursor: pointer;\n",
       "    display: none;\n",
       "    fill: var(--fill-color);\n",
       "    height: 32px;\n",
       "    padding: 0;\n",
       "    width: 32px;\n",
       "  }\n",
       "\n",
       "  .colab-df-quickchart:hover {\n",
       "    background-color: var(--hover-bg-color);\n",
       "    box-shadow: 0 1px 2px rgba(60, 64, 67, 0.3), 0 1px 3px 1px rgba(60, 64, 67, 0.15);\n",
       "    fill: var(--button-hover-fill-color);\n",
       "  }\n",
       "\n",
       "  .colab-df-quickchart-complete:disabled,\n",
       "  .colab-df-quickchart-complete:disabled:hover {\n",
       "    background-color: var(--disabled-bg-color);\n",
       "    fill: var(--disabled-fill-color);\n",
       "    box-shadow: none;\n",
       "  }\n",
       "\n",
       "  .colab-df-spinner {\n",
       "    border: 2px solid var(--fill-color);\n",
       "    border-color: transparent;\n",
       "    border-bottom-color: var(--fill-color);\n",
       "    animation:\n",
       "      spin 1s steps(1) infinite;\n",
       "  }\n",
       "\n",
       "  @keyframes spin {\n",
       "    0% {\n",
       "      border-color: transparent;\n",
       "      border-bottom-color: var(--fill-color);\n",
       "      border-left-color: var(--fill-color);\n",
       "    }\n",
       "    20% {\n",
       "      border-color: transparent;\n",
       "      border-left-color: var(--fill-color);\n",
       "      border-top-color: var(--fill-color);\n",
       "    }\n",
       "    30% {\n",
       "      border-color: transparent;\n",
       "      border-left-color: var(--fill-color);\n",
       "      border-top-color: var(--fill-color);\n",
       "      border-right-color: var(--fill-color);\n",
       "    }\n",
       "    40% {\n",
       "      border-color: transparent;\n",
       "      border-right-color: var(--fill-color);\n",
       "      border-top-color: var(--fill-color);\n",
       "    }\n",
       "    60% {\n",
       "      border-color: transparent;\n",
       "      border-right-color: var(--fill-color);\n",
       "    }\n",
       "    80% {\n",
       "      border-color: transparent;\n",
       "      border-right-color: var(--fill-color);\n",
       "      border-bottom-color: var(--fill-color);\n",
       "    }\n",
       "    90% {\n",
       "      border-color: transparent;\n",
       "      border-bottom-color: var(--fill-color);\n",
       "    }\n",
       "  }\n",
       "</style>\n",
       "\n",
       "      <script>\n",
       "        async function quickchart(key) {\n",
       "          const quickchartButtonEl =\n",
       "            document.querySelector('#' + key + ' button');\n",
       "          quickchartButtonEl.disabled = true;  // To prevent multiple clicks.\n",
       "          quickchartButtonEl.classList.add('colab-df-spinner');\n",
       "          try {\n",
       "            const charts = await google.colab.kernel.invokeFunction(\n",
       "                'suggestCharts', [key], {});\n",
       "          } catch (error) {\n",
       "            console.error('Error during call to suggestCharts:', error);\n",
       "          }\n",
       "          quickchartButtonEl.classList.remove('colab-df-spinner');\n",
       "          quickchartButtonEl.classList.add('colab-df-quickchart-complete');\n",
       "        }\n",
       "        (() => {\n",
       "          let quickchartButtonEl =\n",
       "            document.querySelector('#df-d5ced9f2-f70a-418c-9454-f9cd52c6f54c button');\n",
       "          quickchartButtonEl.style.display =\n",
       "            google.colab.kernel.accessAllowed ? 'block' : 'none';\n",
       "        })();\n",
       "      </script>\n",
       "    </div>\n",
       "\n",
       "    </div>\n",
       "  </div>\n"
      ],
      "text/plain": [
       "         longitude    latitude  housing_median_age   total_rooms  \\\n",
       "count  3000.000000  3000.00000         3000.000000   3000.000000   \n",
       "mean   -119.589200    35.63539           28.845333   2599.578667   \n",
       "std       1.994936     2.12967           12.555396   2155.593332   \n",
       "min    -124.180000    32.56000            1.000000      6.000000   \n",
       "25%    -121.810000    33.93000           18.000000   1401.000000   \n",
       "50%    -118.485000    34.27000           29.000000   2106.000000   \n",
       "75%    -118.020000    37.69000           37.000000   3129.000000   \n",
       "max    -114.490000    41.92000           52.000000  30450.000000   \n",
       "\n",
       "         population  households  median_income  median_house_value  \n",
       "count   3000.000000  3000.00000    3000.000000          3000.00000  \n",
       "mean    1402.798667   489.91200       3.807272        205846.27500  \n",
       "std     1030.543012   365.42271       1.854512        113119.68747  \n",
       "min        5.000000     2.00000       0.499900         22500.00000  \n",
       "25%      780.000000   273.00000       2.544000        121200.00000  \n",
       "50%     1155.000000   409.50000       3.487150        177650.00000  \n",
       "75%     1742.750000   597.25000       4.656475        263975.00000  \n",
       "max    11935.000000  4930.00000      15.000100        500001.00000  "
      ]
     },
     "execution_count": 50,
     "metadata": {},
     "output_type": "execute_result"
    }
   ],
   "source": [
    "br.describe()"
   ]
  },
  {
   "cell_type": "code",
   "execution_count": null,
   "metadata": {
    "colab": {
     "base_uri": "https://localhost:8080/",
     "height": 870
    },
    "executionInfo": {
     "elapsed": 614,
     "status": "ok",
     "timestamp": 1750830125529,
     "user": {
      "displayName": "Nattawut Chayauam",
      "userId": "02605944594835988637"
     },
     "user_tz": -420
    },
    "id": "F_Liuhuny6Q3",
    "outputId": "27b97717-b6c5-4ff8-e9ed-42e0e1246917"
   },
   "outputs": [
    {
     "data": {
      "image/png": "[encoded data removed]",
      "text/plain": [
       "<Figure size 640x480 with 1 Axes>"
      ]
     },
     "metadata": {},
     "output_type": "display_data"
    },
    {
     "data": {
      "image/png": "[encoded data removed]",
      "text/plain": [
       "<Figure size 640x480 with 1 Axes>"
      ]
     },
     "metadata": {},
     "output_type": "display_data"
    }
   ],
   "source": [
    "br['rounded_median_income'] = br['median_income'].round().astype(int)\n",
    "br_grouped = br.groupby('rounded_median_income').mean().reset_index()\n",
    "br_grouped.plot.bar(x='rounded_median_income', y='population')\n",
    "br_grouped[['rounded_median_income', 'population', 'total_rooms']].plot.bar(stacked=True);"
   ]
  },
  {
   "cell_type": "markdown",
   "metadata": {
    "id": "j5VxZ0pGJvdu"
   },
   "source": [
    "https://pandas.pydata.org/docs/reference/api/pandas.DataFrame.plot.bar.html"
   ]
  },
  {
   "cell_type": "markdown",
   "metadata": {
    "id": "xfi4r1OoAgdZ"
   },
   "source": [
    "## Option 4: Install dataset package"
   ]
  },
  {
   "cell_type": "code",
   "execution_count": 46,
   "metadata": {
    "ExecuteTime": {
     "end_time": "2021-05-05T16:26:37.122640Z",
     "start_time": "2021-05-05T16:26:19.772658Z"
    },
    "colab": {
     "base_uri": "https://localhost:8080/"
    },
    "executionInfo": {
     "elapsed": 8958,
     "status": "ok",
     "timestamp": 1750830134488,
     "user": {
      "displayName": "Nattawut Chayauam",
      "userId": "02605944594835988637"
     },
     "user_tz": -420
    },
    "id": "QiolfiMhpcN3",
    "outputId": "52e5dd86-62eb-4c3d-c0c4-b813b42b5b15",
    "scrolled": true
   },
   "outputs": [
    {
     "name": "stdout",
     "output_type": "stream",
     "text": [
      "Collecting world_bank_data\n",
      "  Downloading world_bank_data-0.1.4-py2.py3-none-any.whl.metadata (8.2 kB)\n",
      "Collecting cachetools (from world_bank_data)\n",
      "  Downloading cachetools-6.1.0-py3-none-any.whl.metadata (5.4 kB)\n",
      "Requirement already satisfied: pandas in /Users/7n100489/Library/CloudStorage/OneDrive-BankofAyudhyaPublicCompanyLimited/Desktop/Workspace/github/intro-to-ml-and-dl/.venv/lib/python3.13/site-packages (from world_bank_data) (2.3.0)\n",
      "Collecting requests (from world_bank_data)\n",
      "  Downloading requests-2.32.4-py3-none-any.whl.metadata (4.9 kB)\n",
      "Requirement already satisfied: numpy>=1.26.0 in /Users/7n100489/Library/CloudStorage/OneDrive-BankofAyudhyaPublicCompanyLimited/Desktop/Workspace/github/intro-to-ml-and-dl/.venv/lib/python3.13/site-packages (from pandas->world_bank_data) (2.3.1)\n",
      "Requirement already satisfied: python-dateutil>=2.8.2 in /Users/7n100489/Library/CloudStorage/OneDrive-BankofAyudhyaPublicCompanyLimited/Desktop/Workspace/github/intro-to-ml-and-dl/.venv/lib/python3.13/site-packages (from pandas->world_bank_data) (2.9.0.post0)\n",
      "Requirement already satisfied: pytz>=2020.1 in /Users/7n100489/Library/CloudStorage/OneDrive-BankofAyudhyaPublicCompanyLimited/Desktop/Workspace/github/intro-to-ml-and-dl/.venv/lib/python3.13/site-packages (from pandas->world_bank_data) (2025.2)\n",
      "Requirement already satisfied: tzdata>=2022.7 in /Users/7n100489/Library/CloudStorage/OneDrive-BankofAyudhyaPublicCompanyLimited/Desktop/Workspace/github/intro-to-ml-and-dl/.venv/lib/python3.13/site-packages (from pandas->world_bank_data) (2025.2)\n",
      "Requirement already satisfied: six>=1.5 in /Users/7n100489/Library/CloudStorage/OneDrive-BankofAyudhyaPublicCompanyLimited/Desktop/Workspace/github/intro-to-ml-and-dl/.venv/lib/python3.13/site-packages (from python-dateutil>=2.8.2->pandas->world_bank_data) (1.17.0)\n",
      "Collecting charset_normalizer<4,>=2 (from requests->world_bank_data)\n",
      "  Downloading charset_normalizer-3.4.2-cp313-cp313-macosx_10_13_universal2.whl.metadata (35 kB)\n",
      "Collecting idna<4,>=2.5 (from requests->world_bank_data)\n",
      "  Downloading idna-3.10-py3-none-any.whl.metadata (10 kB)\n",
      "Collecting urllib3<3,>=1.21.1 (from requests->world_bank_data)\n",
      "  Downloading urllib3-2.5.0-py3-none-any.whl.metadata (6.5 kB)\n",
      "Collecting certifi>=2017.4.17 (from requests->world_bank_data)\n",
      "  Downloading certifi-2025.6.15-py3-none-any.whl.metadata (2.4 kB)\n",
      "Downloading world_bank_data-0.1.4-py2.py3-none-any.whl (10 kB)\n",
      "Downloading cachetools-6.1.0-py3-none-any.whl (11 kB)\n",
      "Downloading requests-2.32.4-py3-none-any.whl (64 kB)\n",
      "Downloading charset_normalizer-3.4.2-cp313-cp313-macosx_10_13_universal2.whl (199 kB)\n",
      "Downloading idna-3.10-py3-none-any.whl (70 kB)\n",
      "Downloading urllib3-2.5.0-py3-none-any.whl (129 kB)\n",
      "Downloading certifi-2025.6.15-py3-none-any.whl (157 kB)\n",
      "Installing collected packages: urllib3, idna, charset_normalizer, certifi, cachetools, requests, world_bank_data\n",
      "\u001b[2K   \u001b[38;2;114;156;31m━━━━━━━━━━━━━━━━━━━━━━━━━━━━━━━━━━━━━━━━\u001b[0m \u001b[32m7/7\u001b[0m [world_bank_data]━━\u001b[0m \u001b[32m4/7\u001b[0m [cachetools]\n",
      "\u001b[1A\u001b[2KSuccessfully installed cachetools-6.1.0 certifi-2025.6.15 charset_normalizer-3.4.2 idna-3.10 requests-2.32.4 urllib3-2.5.0 world_bank_data-0.1.4\n",
      "Note: you may need to restart the kernel to use updated packages.\n"
     ]
    }
   ],
   "source": [
    "%pip install world_bank_data --upgrade"
   ]
  },
  {
   "cell_type": "code",
   "execution_count": 47,
   "metadata": {
    "ExecuteTime": {
     "end_time": "2021-05-05T16:26:42.785604Z",
     "start_time": "2021-05-05T16:26:42.701608Z"
    },
    "executionInfo": {
     "elapsed": 130,
     "status": "ok",
     "timestamp": 1750830134621,
     "user": {
      "displayName": "Nattawut Chayauam",
      "userId": "02605944594835988637"
     },
     "user_tz": -420
    },
    "id": "ZM84VnqYpjMj"
   },
   "outputs": [],
   "source": [
    "import world_bank_data as wb"
   ]
  },
  {
   "cell_type": "code",
   "execution_count": 48,
   "metadata": {
    "colab": {
     "base_uri": "https://localhost:8080/"
    },
    "executionInfo": {
     "elapsed": 196,
     "status": "ok",
     "timestamp": 1750830134822,
     "user": {
      "displayName": "Nattawut Chayauam",
      "userId": "02605944594835988637"
     },
     "user_tz": -420
    },
    "id": "ODEMWgCUpwPH",
    "outputId": "02eb8acd-469b-4c5c-96ee-fdaddca30ab1"
   },
   "outputs": [
    {
     "data": {
      "text/plain": [
       "(296, 9)"
      ]
     },
     "execution_count": 48,
     "metadata": {},
     "output_type": "execute_result"
    }
   ],
   "source": [
    "df = wb.get_countries()\n",
    "df.shape"
   ]
  },
  {
   "cell_type": "code",
   "execution_count": 49,
   "metadata": {
    "colab": {
     "base_uri": "https://localhost:8080/",
     "height": 238
    },
    "executionInfo": {
     "elapsed": 75,
     "status": "ok",
     "timestamp": 1750830134880,
     "user": {
      "displayName": "Nattawut Chayauam",
      "userId": "02605944594835988637"
     },
     "user_tz": -420
    },
    "id": "WLFiXED_qCS_",
    "outputId": "85a43b0f-83ca-4e3f-9160-fc2779287af1"
   },
   "outputs": [
    {
     "data": {
      "text/html": [
       "<div>\n",
       "<style scoped>\n",
       "    .dataframe tbody tr th:only-of-type {\n",
       "        vertical-align: middle;\n",
       "    }\n",
       "\n",
       "    .dataframe tbody tr th {\n",
       "        vertical-align: top;\n",
       "    }\n",
       "\n",
       "    .dataframe thead th {\n",
       "        text-align: right;\n",
       "    }\n",
       "</style>\n",
       "<table border=\"1\" class=\"dataframe\">\n",
       "  <thead>\n",
       "    <tr style=\"text-align: right;\">\n",
       "      <th></th>\n",
       "      <th>iso2Code</th>\n",
       "      <th>name</th>\n",
       "      <th>region</th>\n",
       "      <th>adminregion</th>\n",
       "      <th>incomeLevel</th>\n",
       "      <th>lendingType</th>\n",
       "      <th>capitalCity</th>\n",
       "      <th>longitude</th>\n",
       "      <th>latitude</th>\n",
       "    </tr>\n",
       "    <tr>\n",
       "      <th>id</th>\n",
       "      <th></th>\n",
       "      <th></th>\n",
       "      <th></th>\n",
       "      <th></th>\n",
       "      <th></th>\n",
       "      <th></th>\n",
       "      <th></th>\n",
       "      <th></th>\n",
       "      <th></th>\n",
       "    </tr>\n",
       "  </thead>\n",
       "  <tbody>\n",
       "    <tr>\n",
       "      <th>ABW</th>\n",
       "      <td>AW</td>\n",
       "      <td>Aruba</td>\n",
       "      <td>Latin America &amp; Caribbean</td>\n",
       "      <td></td>\n",
       "      <td>High income</td>\n",
       "      <td>Not classified</td>\n",
       "      <td>Oranjestad</td>\n",
       "      <td>-70.0167</td>\n",
       "      <td>12.5167</td>\n",
       "    </tr>\n",
       "    <tr>\n",
       "      <th>AFE</th>\n",
       "      <td>ZH</td>\n",
       "      <td>Africa Eastern and Southern</td>\n",
       "      <td>Aggregates</td>\n",
       "      <td></td>\n",
       "      <td>Aggregates</td>\n",
       "      <td>Aggregates</td>\n",
       "      <td></td>\n",
       "      <td>NaN</td>\n",
       "      <td>NaN</td>\n",
       "    </tr>\n",
       "    <tr>\n",
       "      <th>AFG</th>\n",
       "      <td>AF</td>\n",
       "      <td>Afghanistan</td>\n",
       "      <td>Middle East, North Africa, Afghanistan &amp; Pakistan</td>\n",
       "      <td>Middle East, North Africa, Afghanistan &amp; Pakis...</td>\n",
       "      <td>Low income</td>\n",
       "      <td>IDA</td>\n",
       "      <td>Kabul</td>\n",
       "      <td>69.1761</td>\n",
       "      <td>34.5228</td>\n",
       "    </tr>\n",
       "    <tr>\n",
       "      <th>AFR</th>\n",
       "      <td>A9</td>\n",
       "      <td>Africa</td>\n",
       "      <td>Aggregates</td>\n",
       "      <td></td>\n",
       "      <td>Aggregates</td>\n",
       "      <td>Aggregates</td>\n",
       "      <td></td>\n",
       "      <td>NaN</td>\n",
       "      <td>NaN</td>\n",
       "    </tr>\n",
       "    <tr>\n",
       "      <th>AFW</th>\n",
       "      <td>ZI</td>\n",
       "      <td>Africa Western and Central</td>\n",
       "      <td>Aggregates</td>\n",
       "      <td></td>\n",
       "      <td>Aggregates</td>\n",
       "      <td>Aggregates</td>\n",
       "      <td></td>\n",
       "      <td>NaN</td>\n",
       "      <td>NaN</td>\n",
       "    </tr>\n",
       "  </tbody>\n",
       "</table>\n",
       "</div>"
      ],
      "text/plain": [
       "    iso2Code                         name  \\\n",
       "id                                          \n",
       "ABW       AW                        Aruba   \n",
       "AFE       ZH  Africa Eastern and Southern   \n",
       "AFG       AF                  Afghanistan   \n",
       "AFR       A9                       Africa   \n",
       "AFW       ZI   Africa Western and Central   \n",
       "\n",
       "                                                region  \\\n",
       "id                                                       \n",
       "ABW                         Latin America & Caribbean    \n",
       "AFE                                         Aggregates   \n",
       "AFG  Middle East, North Africa, Afghanistan & Pakistan   \n",
       "AFR                                         Aggregates   \n",
       "AFW                                         Aggregates   \n",
       "\n",
       "                                           adminregion  incomeLevel  \\\n",
       "id                                                                    \n",
       "ABW                                                     High income   \n",
       "AFE                                                      Aggregates   \n",
       "AFG  Middle East, North Africa, Afghanistan & Pakis...   Low income   \n",
       "AFR                                                      Aggregates   \n",
       "AFW                                                      Aggregates   \n",
       "\n",
       "        lendingType capitalCity  longitude  latitude  \n",
       "id                                                    \n",
       "ABW  Not classified  Oranjestad   -70.0167   12.5167  \n",
       "AFE      Aggregates                    NaN       NaN  \n",
       "AFG             IDA       Kabul    69.1761   34.5228  \n",
       "AFR      Aggregates                    NaN       NaN  \n",
       "AFW      Aggregates                    NaN       NaN  "
      ]
     },
     "execution_count": 49,
     "metadata": {},
     "output_type": "execute_result"
    }
   ],
   "source": [
    "df.head()"
   ]
  },
  {
   "cell_type": "code",
   "execution_count": 50,
   "metadata": {
    "colab": {
     "base_uri": "https://localhost:8080/",
     "height": 430
    },
    "executionInfo": {
     "elapsed": 263,
     "status": "ok",
     "timestamp": 1750830135137,
     "user": {
      "displayName": "Nattawut Chayauam",
      "userId": "02605944594835988637"
     },
     "user_tz": -420
    },
    "id": "TsDo1WKQqHKT",
    "outputId": "349914bc-740e-4578-bc42-1cf0601ae904"
   },
   "outputs": [
    {
     "data": {
      "image/png": "[encoded data removed]",
      "text/plain": [
       "<Figure size 640x480 with 1 Axes>"
      ]
     },
     "metadata": {},
     "output_type": "display_data"
    }
   ],
   "source": [
    "plt.plot(df.longitude, df.latitude, 'ro');"
   ]
  },
  {
   "cell_type": "markdown",
   "metadata": {
    "id": "9BNsMsVc1Pwy"
   },
   "source": [
    "# HW1_3: 1. Matplotlib\n",
    "ใช้ Matplotlib ในการสร้างเส้นโค้ง parabola แบบหงายหยาบ ๆ โดยมีรายละเอียดดังนี้\n",
    "\n",
    "\\\n",
    "1.กำหนดจุด (x, y) จาก np.array สำหรับสร้างเส้น parabola แบบหงายอย่างง่าย\\\n",
    "2.ตั้งชื่อกราฟว่า \"2 separated lines\"\\\n",
    "3.เส้นซีกซ้ายเป็นสีแดง และเส้นซีกขวาเป็นสีน้ำเงิน\n",
    "\n",
    "\\\n",
    "![image.png](data:image/png;base64,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)"
   ]
  },
  {
   "cell_type": "markdown",
   "metadata": {
    "id": "l9tlNyM1NpwD"
   },
   "source": [
    "ใช้ Matplotlib ในการสร้างกราฟวงกลมโดยมีรายละเอียดดังนี้\n",
    "\n",
    "\\\n",
    "1.กำหนดฟังก์ชั่น x, y จาก wave function ที่มีใน numpy library สำหรับการสร้างวงกลม 1 หน่วยย่างง่าย\\\n",
    "2.ตั้งชื่อกราฟว่า \"2 separated circle lines\"\\\n",
    "3.วงกลมซีกซ้ายเป็นสีเขียว และวงกลมซีกขวาเป็นสีชมพู\n",
    "\n",
    "\\\n",
    "![image.png](data:image/png;base64,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)"
   ]
  },
  {
   "cell_type": "markdown",
   "metadata": {
    "id": "WngYWJWo39ZT"
   },
   "source": [
    "# HW1_3: 2. Pandas\n",
    "\n",
    "link ข้อมูล dataset: Health facilities in Thailand 2020 ข้างใต้\n",
    "\n",
    "https://data.thailand.opendevelopmentmekong.net/en/dataset/health-facilities-in-thailand-2020/resource/719e0ba4-637a-46c5-9ad7-9bc0e4c3752d\n",
    "\n",
    "ใช้ uploaded = files.upload() ในการอัพโหลดไฟล์จากเครื่องเข้ามาใน colab แล้ว ใช้ Matplotlib ในการพล็อตกราฟข้อมูลจาก CSV ว่าตำแหน่งที่ตั้งของโรงพยาบาลทุกที่ในประเทศไทยนั้นอยู่ที่ไหนบ้าง โดยมีรายละเอียดกราฟดังนี้\n",
    "\n",
    "1.ตั้งชื่อกราฟว่า \"Thailand hospital\"\\\n",
    "2.ใช้ marker เป็นสีเขียว\n",
    "\n",
    "(หลังจากที่พล็อตเสร็จแล้วควรได้กราฟหน้าตาคล้ายประเทศไทย)\n",
    "\n",
    "![image.png](data:image/png;base64,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)"
   ]
  },
  {
   "cell_type": "code",
   "execution_count": 75,
   "metadata": {},
   "outputs": [],
   "source": [
    "url = \"https://data.opendevelopmentmekong.net/dataset/ab20b509-2b7f-442e-8448-05d3a17651ac/resource/719e0ba4-637a-46c5-9ad7-9bc0e4c3752d/download/health_facilities_en.csv\""
   ]
  },
  {
   "cell_type": "code",
   "execution_count": 77,
   "metadata": {},
   "outputs": [
    {
     "data": {
      "text/html": [
       "<div>\n",
       "<style scoped>\n",
       "    .dataframe tbody tr th:only-of-type {\n",
       "        vertical-align: middle;\n",
       "    }\n",
       "\n",
       "    .dataframe tbody tr th {\n",
       "        vertical-align: top;\n",
       "    }\n",
       "\n",
       "    .dataframe thead th {\n",
       "        text-align: right;\n",
       "    }\n",
       "</style>\n",
       "<table border=\"1\" class=\"dataframe\">\n",
       "  <thead>\n",
       "    <tr style=\"text-align: right;\">\n",
       "      <th></th>\n",
       "      <th>ID</th>\n",
       "      <th>Ministry</th>\n",
       "      <th>Department</th>\n",
       "      <th>Agency</th>\n",
       "      <th>Lat</th>\n",
       "      <th>Long</th>\n",
       "      <th>Address</th>\n",
       "    </tr>\n",
       "  </thead>\n",
       "  <tbody>\n",
       "    <tr>\n",
       "      <th>0</th>\n",
       "      <td>1.110000e+11</td>\n",
       "      <td>Ministry of Defence</td>\n",
       "      <td>Naval Medical Department</td>\n",
       "      <td>Royal Thai Army Phramongkutklao Hospital</td>\n",
       "      <td>13.76733</td>\n",
       "      <td>100.5342</td>\n",
       "      <td>Thung Phaya Thai Subdistrict, Ratchathewi Dist...</td>\n",
       "    </tr>\n",
       "    <tr>\n",
       "      <th>1</th>\n",
       "      <td>1.110000e+11</td>\n",
       "      <td>Ministry of Justice</td>\n",
       "      <td>Department of Corrections</td>\n",
       "      <td>Department of Corrections Correctional Institu...</td>\n",
       "      <td>13.85018</td>\n",
       "      <td>100.5531</td>\n",
       "      <td>Ladyao Subdistrict, Chatuchak District, Bangko...</td>\n",
       "    </tr>\n",
       "    <tr>\n",
       "      <th>2</th>\n",
       "      <td>1.110000e+11</td>\n",
       "      <td>Royal Thai Police</td>\n",
       "      <td>Police Hospial</td>\n",
       "      <td>Police Hospital</td>\n",
       "      <td>13.74414</td>\n",
       "      <td>100.5391</td>\n",
       "      <td>Pathumwan, Pathumwan, Bangkok 10330</td>\n",
       "    </tr>\n",
       "    <tr>\n",
       "      <th>3</th>\n",
       "      <td>1.130000e+11</td>\n",
       "      <td>Ministry of Defence</td>\n",
       "      <td>Naval Medical Department</td>\n",
       "      <td>Royal Thai Army Ananda Mahidol Hospital</td>\n",
       "      <td>14.84966</td>\n",
       "      <td>100.6670</td>\n",
       "      <td>Khao Sam Yot Subdistrict, Mueang Lopburi Distr...</td>\n",
       "    </tr>\n",
       "    <tr>\n",
       "      <th>4</th>\n",
       "      <td>1.130000e+11</td>\n",
       "      <td>Ministry of Public Health</td>\n",
       "      <td>Department of Mental Health</td>\n",
       "      <td>Department of Mental Health, Srithanya Hospital</td>\n",
       "      <td>13.84513</td>\n",
       "      <td>100.5171</td>\n",
       "      <td>Talat Khwan Subdistrict, Mueang Nonthaburi Dis...</td>\n",
       "    </tr>\n",
       "    <tr>\n",
       "      <th>...</th>\n",
       "      <td>...</td>\n",
       "      <td>...</td>\n",
       "      <td>...</td>\n",
       "      <td>...</td>\n",
       "      <td>...</td>\n",
       "      <td>...</td>\n",
       "      <td>...</td>\n",
       "    </tr>\n",
       "    <tr>\n",
       "      <th>10617</th>\n",
       "      <td>8.900000e+12</td>\n",
       "      <td>Ministry of Public Health</td>\n",
       "      <td>Office of the Permanent Secretary, Ministry of...</td>\n",
       "      <td>Ban Rang Plasiu Subdistrict Health Promoting H...</td>\n",
       "      <td>13.67029</td>\n",
       "      <td>100.3145</td>\n",
       "      <td>68 Moo 12, Suan Luang Subdistrict, Krathum Bae...</td>\n",
       "    </tr>\n",
       "    <tr>\n",
       "      <th>10618</th>\n",
       "      <td>8.900000e+12</td>\n",
       "      <td>Ministry of Public Health</td>\n",
       "      <td>Office of the Permanent Secretary, Ministry of...</td>\n",
       "      <td>Ban Nong Saeng Subdistrict Health Promoting Ho...</td>\n",
       "      <td>14.73443</td>\n",
       "      <td>105.4571</td>\n",
       "      <td>Moo 11, Phon Ngam Subdistrict, Buntharik Distr...</td>\n",
       "    </tr>\n",
       "    <tr>\n",
       "      <th>10619</th>\n",
       "      <td>8.900000e+12</td>\n",
       "      <td>Ministry of Public Health</td>\n",
       "      <td>Office of the Permanent Secretary, Ministry of...</td>\n",
       "      <td>Ban Bo Weru Sub-District Health Promoting Hosp...</td>\n",
       "      <td>12.67658</td>\n",
       "      <td>102.3197</td>\n",
       "      <td>Moo 2, Bo Weru Subdistrict, Khlung District, C...</td>\n",
       "    </tr>\n",
       "    <tr>\n",
       "      <th>10620</th>\n",
       "      <td>8.900000e+12</td>\n",
       "      <td>Ministry of Public Health</td>\n",
       "      <td>Office of the Permanent Secretary, Ministry of...</td>\n",
       "      <td>Ban Nong Bua Dong Health Promoting Hospital No...</td>\n",
       "      <td>15.45751</td>\n",
       "      <td>104.0430</td>\n",
       "      <td>Moo 6, Nong Bua Dong Subdistrict, Silat Distri...</td>\n",
       "    </tr>\n",
       "    <tr>\n",
       "      <th>10621</th>\n",
       "      <td>8.900000e+12</td>\n",
       "      <td>Ministry of Public Health</td>\n",
       "      <td>Office of the Permanent Secretary, Ministry of...</td>\n",
       "      <td>Ban Sawai Sub District Health Promoting Hospit...</td>\n",
       "      <td>15.05295</td>\n",
       "      <td>103.1580</td>\n",
       "      <td>Moo 1, Buathong Sub-district, Mueang Buriram D...</td>\n",
       "    </tr>\n",
       "  </tbody>\n",
       "</table>\n",
       "<p>10622 rows × 7 columns</p>\n",
       "</div>"
      ],
      "text/plain": [
       "                 ID                   Ministry  \\\n",
       "0      1.110000e+11        Ministry of Defence   \n",
       "1      1.110000e+11        Ministry of Justice   \n",
       "2      1.110000e+11          Royal Thai Police   \n",
       "3      1.130000e+11        Ministry of Defence   \n",
       "4      1.130000e+11  Ministry of Public Health   \n",
       "...             ...                        ...   \n",
       "10617  8.900000e+12  Ministry of Public Health   \n",
       "10618  8.900000e+12  Ministry of Public Health   \n",
       "10619  8.900000e+12  Ministry of Public Health   \n",
       "10620  8.900000e+12  Ministry of Public Health   \n",
       "10621  8.900000e+12  Ministry of Public Health   \n",
       "\n",
       "                                              Department  \\\n",
       "0                               Naval Medical Department   \n",
       "1                              Department of Corrections   \n",
       "2                                         Police Hospial   \n",
       "3                               Naval Medical Department   \n",
       "4                            Department of Mental Health   \n",
       "...                                                  ...   \n",
       "10617  Office of the Permanent Secretary, Ministry of...   \n",
       "10618  Office of the Permanent Secretary, Ministry of...   \n",
       "10619  Office of the Permanent Secretary, Ministry of...   \n",
       "10620  Office of the Permanent Secretary, Ministry of...   \n",
       "10621  Office of the Permanent Secretary, Ministry of...   \n",
       "\n",
       "                                                  Agency       Lat      Long  \\\n",
       "0               Royal Thai Army Phramongkutklao Hospital  13.76733  100.5342   \n",
       "1      Department of Corrections Correctional Institu...  13.85018  100.5531   \n",
       "2                                        Police Hospital  13.74414  100.5391   \n",
       "3                Royal Thai Army Ananda Mahidol Hospital  14.84966  100.6670   \n",
       "4        Department of Mental Health, Srithanya Hospital  13.84513  100.5171   \n",
       "...                                                  ...       ...       ...   \n",
       "10617  Ban Rang Plasiu Subdistrict Health Promoting H...  13.67029  100.3145   \n",
       "10618  Ban Nong Saeng Subdistrict Health Promoting Ho...  14.73443  105.4571   \n",
       "10619  Ban Bo Weru Sub-District Health Promoting Hosp...  12.67658  102.3197   \n",
       "10620  Ban Nong Bua Dong Health Promoting Hospital No...  15.45751  104.0430   \n",
       "10621  Ban Sawai Sub District Health Promoting Hospit...  15.05295  103.1580   \n",
       "\n",
       "                                                 Address  \n",
       "0      Thung Phaya Thai Subdistrict, Ratchathewi Dist...  \n",
       "1      Ladyao Subdistrict, Chatuchak District, Bangko...  \n",
       "2                    Pathumwan, Pathumwan, Bangkok 10330  \n",
       "3      Khao Sam Yot Subdistrict, Mueang Lopburi Distr...  \n",
       "4      Talat Khwan Subdistrict, Mueang Nonthaburi Dis...  \n",
       "...                                                  ...  \n",
       "10617  68 Moo 12, Suan Luang Subdistrict, Krathum Bae...  \n",
       "10618  Moo 11, Phon Ngam Subdistrict, Buntharik Distr...  \n",
       "10619  Moo 2, Bo Weru Subdistrict, Khlung District, C...  \n",
       "10620  Moo 6, Nong Bua Dong Subdistrict, Silat Distri...  \n",
       "10621  Moo 1, Buathong Sub-district, Mueang Buriram D...  \n",
       "\n",
       "[10622 rows x 7 columns]"
      ]
     },
     "execution_count": 77,
     "metadata": {},
     "output_type": "execute_result"
    }
   ],
   "source": [
    "df = pd.read_csv(url)\n",
    "\n",
    "df"
   ]
  },
  {
   "cell_type": "code",
   "execution_count": 78,
   "metadata": {},
   "outputs": [
    {
     "data": {
      "image/png": "[encoded data removed]",
      "text/plain": [
       "<Figure size 800x600 with 1 Axes>"
      ]
     },
     "metadata": {},
     "output_type": "display_data"
    }
   ],
   "source": [
    "y = df[\"Lat\"]\n",
    "x = df[\"Long\"]\n",
    "\n",
    "plt.figure(figsize=(8, 6))\n",
    "plt.scatter(x, y, c='green')\n",
    "\n",
    "plt.title(\"Thailand hospital\")\n",
    "plt.show()\n"
   ]
  }
 ],
 "metadata": {
  "colab": {
   "provenance": []
  },
  "hide_input": false,
  "kernelspec": {
   "display_name": ".venv",
   "language": "python",
   "name": "python3"
  },
  "language_info": {
   "codemirror_mode": {
    "name": "ipython",
    "version": 3
   },
   "file_extension": ".py",
   "mimetype": "text/x-python",
   "name": "python",
   "nbconvert_exporter": "python",
   "pygments_lexer": "ipython3",
   "version": "3.13.5"
  },
  "nbTranslate": {
   "displayLangs": [
    "*"
   ],
   "hotkey": "alt-t",
   "langInMainMenu": true,
   "sourceLang": "en",
   "targetLang": "fr",
   "useGoogleTranslate": true
  },
  "toc": {
   "base_numbering": 1,
   "nav_menu": {},
   "number_sections": true,
   "sideBar": true,
   "skip_h1_title": true,
   "title_cell": "Table of Contents",
   "title_sidebar": "Contents",
   "toc_cell": false,
   "toc_position": {},
   "toc_section_display": true,
   "toc_window_display": true
  },
  "varInspector": {
   "cols": {
    "lenName": 16,
    "lenType": 16,
    "lenVar": 40
   },
   "kernels_config": {
    "python": {
     "delete_cmd_postfix": "",
     "delete_cmd_prefix": "del ",
     "library": "var_list.py",
     "varRefreshCmd": "print(var_dic_list())"
    },
    "r": {
     "delete_cmd_postfix": ") ",
     "delete_cmd_prefix": "rm(",
     "library": "var_list.r",
     "varRefreshCmd": "cat(var_dic_list()) "
    }
   },
   "types_to_exclude": [
    "module",
    "function",
    "builtin_function_or_method",
    "instance",
    "_Feature"
   ],
   "window_display": false
  }
 },
 "nbformat": 4,
 "nbformat_minor": 0
}
